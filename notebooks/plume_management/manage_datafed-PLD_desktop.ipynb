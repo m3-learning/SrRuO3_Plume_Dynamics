{
 "cells": [
  {
   "cell_type": "code",
   "execution_count": 1,
   "metadata": {},
   "outputs": [],
   "source": [
    "import sys\n",
    "sys.path.append('../../py-utils/src/')\n",
    "from datafed_utils import datafed_upload"
   ]
  },
  {
   "cell_type": "code",
   "execution_count": null,
   "metadata": {},
   "outputs": [],
   "source": [
    "file_path = 'C:/Image/YG069_YichenGuo_09152024.h5'\n",
    "metadata = 'C:/Image/YG069_YichenGuo_09152024.json'\n",
    "parent_id = 'c/520785518'\n",
    "datafed_upload(file_path, parent_id, metadata=metadata, wait=False)"
   ]
  },
  {
   "cell_type": "code",
   "execution_count": null,
   "metadata": {},
   "outputs": [],
   "source": []
  },
  {
   "cell_type": "code",
   "execution_count": 4,
   "metadata": {},
   "outputs": [
    {
     "name": "stdout",
     "output_type": "stream",
     "text": [
      "Unable to connect to pypi: <Fault -32500: 'RuntimeError: PyPI no longer supports the XMLRPC package_releases method. Use JSON or Simple API instead. See https://github.com/pypi/warehouse/issues/16642 and https://warehouse.pypa.io/api-reference/xml-rpc.html#deprecated-methods for more information.'>\n",
      "(item {\n",
      "  id: \"d/525618019\"\n",
      "  title: \"YG063_RHEED_gaussian_fit_parameters.h5\"\n",
      "  size: 0\n",
      "  owner: \"p/2023_pld_plume\"\n",
      "}\n",
      "task {\n",
      "  id: \"task/525715763\"\n",
      "  type: TT_DATA_PUT\n",
      "  status: TS_READY\n",
      "  client: \"u/yig319\"\n",
      "  step: 0\n",
      "  steps: 2\n",
      "  msg: \"Pending\"\n",
      "  ct: 1726603981\n",
      "  ut: 1726603981\n",
      "  source: \"b5d1fa72-53f9-11ee-8a6a-b1038a0991ac/D/RHEED/SRO_STO_Drexel_TSST/YG063_RHEED_gaussian_fit_parameters.h5\"\n",
      "  dest: \"d/525618019\"\n",
      "}\n",
      ", 'DataPutReply')\n"
     ]
    }
   ],
   "source": [
    "file_path = 'D:/RHEED/SRO_STO_Drexel_TSST/YG063_RHEED_gaussian_fit_parameters.h5'\n",
    "parent_id = 'c/520785518'\n",
    "datafed_upload(file_path, parent_id, metadata=None, wait=False)"
   ]
  },
  {
   "cell_type": "code",
   "execution_count": 5,
   "metadata": {},
   "outputs": [
    {
     "name": "stdout",
     "output_type": "stream",
     "text": [
      "Unable to connect to pypi: <Fault -32500: 'RuntimeError: PyPI no longer supports the XMLRPC package_releases method. Use JSON or Simple API instead. See https://github.com/pypi/warehouse/issues/16642 and https://warehouse.pypa.io/api-reference/xml-rpc.html#deprecated-methods for more information.'>\n",
      "(item {\n",
      "  id: \"d/525618020\"\n",
      "  title: \"YG064_RHEED_gaussian_fit_parameters.h5\"\n",
      "  size: 0\n",
      "  owner: \"p/2023_pld_plume\"\n",
      "}\n",
      "task {\n",
      "  id: \"task/525715764\"\n",
      "  type: TT_DATA_PUT\n",
      "  status: TS_READY\n",
      "  client: \"u/yig319\"\n",
      "  step: 0\n",
      "  steps: 2\n",
      "  msg: \"Pending\"\n",
      "  ct: 1726603990\n",
      "  ut: 1726603990\n",
      "  source: \"b5d1fa72-53f9-11ee-8a6a-b1038a0991ac/D/RHEED/SRO_STO_Drexel_TSST/YG064_RHEED_gaussian_fit_parameters.h5\"\n",
      "  dest: \"d/525618020\"\n",
      "}\n",
      ", 'DataPutReply')\n"
     ]
    }
   ],
   "source": [
    "file_path = 'D:/RHEED/SRO_STO_Drexel_TSST/YG064_RHEED_gaussian_fit_parameters.h5'\n",
    "parent_id = 'c/520785518'\n",
    "datafed_upload(file_path, parent_id, metadata=None, wait=False)"
   ]
  },
  {
   "cell_type": "code",
   "execution_count": 6,
   "metadata": {},
   "outputs": [
    {
     "name": "stdout",
     "output_type": "stream",
     "text": [
      "Unable to connect to pypi: <Fault -32500: 'RuntimeError: PyPI no longer supports the XMLRPC package_releases method. Use JSON or Simple API instead. See https://github.com/pypi/warehouse/issues/16642 and https://warehouse.pypa.io/api-reference/xml-rpc.html#deprecated-methods for more information.'>\n",
      "(item {\n",
      "  id: \"d/525618021\"\n",
      "  title: \"YG065_RHEED_gaussian_fit_parameters.h5\"\n",
      "  size: 0\n",
      "  owner: \"p/2023_pld_plume\"\n",
      "}\n",
      "task {\n",
      "  id: \"task/525715765\"\n",
      "  type: TT_DATA_PUT\n",
      "  status: TS_READY\n",
      "  client: \"u/yig319\"\n",
      "  step: 0\n",
      "  steps: 2\n",
      "  msg: \"Pending\"\n",
      "  ct: 1726604001\n",
      "  ut: 1726604001\n",
      "  source: \"b5d1fa72-53f9-11ee-8a6a-b1038a0991ac/D/RHEED/SRO_STO_Drexel_TSST/YG065_RHEED_gaussian_fit_parameters.h5\"\n",
      "  dest: \"d/525618021\"\n",
      "}\n",
      ", 'DataPutReply')\n"
     ]
    }
   ],
   "source": [
    "file_path = 'D:/RHEED/SRO_STO_Drexel_TSST/YG065_RHEED_gaussian_fit_parameters.h5'\n",
    "parent_id = 'c/520785518'\n",
    "datafed_upload(file_path, parent_id, metadata=None, wait=False)"
   ]
  },
  {
   "cell_type": "code",
   "execution_count": null,
   "metadata": {},
   "outputs": [],
   "source": []
  },
  {
   "cell_type": "code",
   "execution_count": null,
   "metadata": {},
   "outputs": [],
   "source": []
  }
 ],
 "metadata": {
  "kernelspec": {
   "display_name": "plume",
   "language": "python",
   "name": "python3"
  },
  "language_info": {
   "codemirror_mode": {
    "name": "ipython",
    "version": 3
   },
   "file_extension": ".py",
   "mimetype": "text/x-python",
   "name": "python",
   "nbconvert_exporter": "python",
   "pygments_lexer": "ipython3",
   "version": "3.10.0"
  }
 },
 "nbformat": 4,
 "nbformat_minor": 2
}
