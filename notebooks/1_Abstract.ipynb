{
 "cells": [
  {
   "cell_type": "markdown",
   "metadata": {
    "vscode": {
     "languageId": "plaintext"
    }
   },
   "source": [
    "# To Sand, or Not to Sand: SrRuO3 Pulsed Laser Deposition with Full-Frame Plume Dynamic Imaging \n",
    "\n",
    "**Yichen Guo<sup>†1,2</sup>, Liyan Wu<sup>†2</sup>, Julian Goddy<sup>2</sup>, Theo Beers<sup>2</sup>, Lane Martin<sup>4,5,6,7</sup>, Jonathan Spanier<sup>2,3</sup>, Joshua Agar<sup>2*</sup>**  \n",
    "\n",
    "<sup>†</sup> Authors contributed equally to this work  \n",
    "<sup>1</sup> Department of Materials Science and Engineering, Lehigh University, Bethlehem, PA 18015, USA  \n",
    "<sup>2</sup> Department of Mechanical Engineering and Mechanics, Drexel University, Philadelphia, PA 19104, USA  \n",
    "<sup>3</sup> Department of Materials Science and Engineering, Drexel University, Philadelphia, PA 19104, USA  \n",
    "<sup>4</sup> Department of Materials Science and Engineering, University of California, Berkeley, CA 94720, USA  \n",
    "<sup>5</sup> Materials Sciences Division, Lawrence Berkeley National Laboratory, Berkeley, California 94720, USA  \n",
    "<sup>6</sup> Department of Materials Science and Nanoengineering, Rice University, Houston, TX 77005, USA  \n",
    "<sup>7</sup> Rice Advanced Materials Institute, Rice University, Houston, TX 77005, USA  \n",
    "<sup>8</sup> Department of Physics and Astronomy, Rice University, Houston, TX 77005, USA  \n",
    "<sup>*</sup> Email address: jca92@drexel.edu"
   ]
  },
  {
   "cell_type": "markdown",
   "metadata": {},
   "source": [
    "## Abstract\n",
    "\n",
    "High-quality thin films growth via pulsed laser deposition (PLD) requires precise control over plume dynamics, which are influenced by temporal and spatial variations in target surface morphology. We employed a Full-Frame Plume Dynamic Imaging (PDI) to investigate the effects of target surface evolution on plume dynamics and the subsequent impact on film quality and structure. Using $\\text{SrRuO}_3$ as a model system, we develop automated computer-vision pipelines to extract statistical metrics, such as maximum plume area and incident velocity, under varying conditions, including pre-ablation pulse counts and inadvertent target contamination. Repeated ablation improves plume dynamics stability, correlating with enhanced crystalline quality and reduced surface roughness, confirmed by X-ray Diffraction (XRD) and Atomic Force Microscopy (AFM). Conversely, spatial inhomogeneities, such as target surface contamination, induce instabilities in plume dynamics, resulting in poor crystalline quality, higher surface roughness, and disrupted growth dynamics. Through statistical analysis and heatmap visualization, we establish a direct link between plume stability and thin-film reproducibility. Our findings underscore the necessity of rigorous target surface conditioning and real-time plume diagnostics to enable deterministic control over crystallography and domain architectures. We posit those stochastic variations in plume dynamics-typically unquantified-constitute a dominant mechanism underlying reproducibility crisis and impediments to extending the design space for bespoke heterostructures and heterointerfaces. Furthermore, the integration of advanced diagnostic tools, such as PDI, offers a robust pathway for achieving precise control in thin-film synthesis, providing a pathway for control of non-equilibrium synthesis processes pervasive in semiconductor manufacturing."
   ]
  }
 ],
 "metadata": {
  "language_info": {
   "name": "python"
  }
 },
 "nbformat": 4,
 "nbformat_minor": 2
}
