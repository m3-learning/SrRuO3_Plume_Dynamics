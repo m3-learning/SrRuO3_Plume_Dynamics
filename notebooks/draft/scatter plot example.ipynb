{
 "cells": [
  {
   "cell_type": "code",
   "execution_count": 53,
   "id": "20f25082",
   "metadata": {
    "scrolled": true
   },
   "outputs": [],
   "source": [
    "import numpy as np\n",
    "\n",
    "filename = '/home/yig319/Dropbox (LU Student)/plotting/AC_excitation_permittivity.txt'\n",
    "\n",
    "data = np.loadtxt(filename, delimiter=',', skiprows=1, dtype=str)[2:]\n",
    "\n",
    "x = []\n",
    "y = []\n",
    "for string in data:\n",
    "    x.append(float(string.split('    ', 2)[0]))\n",
    "    y.append(float(string.split('    ', 2)[1]))"
   ]
  },
  {
   "cell_type": "code",
   "execution_count": 83,
   "id": "32ad4168",
   "metadata": {
    "scrolled": true
   },
   "outputs": [
    {
     "data": {
      "image/png": "[encoded data removed]",
      "text/plain": [
       "<Figure size 360x360 with 1 Axes>"
      ]
     },
     "metadata": {
      "needs_background": "light"
     },
     "output_type": "display_data"
    }
   ],
   "source": [
    "import numpy as np\n",
    "from scipy.interpolate import interp1d # Different interface to the same function\n",
    "import matplotlib.pyplot as plt\n",
    "\n",
    "axis_tick_width = 2\n",
    "linewidth = 2.5\n",
    "edge_width = 2\n",
    "\n",
    "i = np.arange(len(x))\n",
    "\n",
    "# 1x the original number of points\n",
    "interp_i = np.linspace(0, i.max(), 1 * i.max())\n",
    "\n",
    "xi = interp1d(i, x, kind='linear')(interp_i)\n",
    "yi = interp1d(i, y, kind='linear')(interp_i)\n",
    "\n",
    "fig = plt.figure(figsize=(5,5))\n",
    "ax = fig.subplots()\n",
    "\n",
    "ax.plot(xi, yi, linewidth=linewidth, c='black')\n",
    "\n",
    "ax.scatter(x, y, s=80, marker='s', facecolors='none', edgecolors='k', linewidths=edge_width)\n",
    "ax.set_ylim([0.5, 10])\n",
    "\n",
    "ax.xaxis.set_ticks(np.arange(1, 11, 1))\n",
    "ax.yaxis.set_ticks(np.arange(1, 11, 1))\n",
    "\n",
    "ax.set_xticklabels([])\n",
    "ax.set_yticklabels([])\n",
    "ax.yaxis.set_ticks_position('both')\n",
    "ax.xaxis.set_ticks_position('both')\n",
    "\n",
    "ax.tick_params(axis=\"y\", direction=\"in\", width=axis_tick_width)\n",
    "ax.tick_params(axis=\"x\", direction=\"in\", width=axis_tick_width)\n",
    "\n",
    "ax.set_xlabel('AC Excitation', fontsize=20, fontweight='bold') # fontweight='bold'\n",
    "ax.set_ylabel('Permittivity', fontsize=20, fontweight='bold')\n",
    "\n",
    "ax.set_facecolor('none')\n",
    "for axis in ['top','bottom','left','right']:\n",
    "    ax.spines[axis].set_linewidth(axis_tick_width)\n",
    "\n",
    "plt.savefig('/home/yig319/Dropbox (LU Student)/plotting/AC_excitation_permittivity.svg', dpi=600)\n",
    "plt.show()"
   ]
  },
  {
   "cell_type": "code",
   "execution_count": null,
   "id": "ddcb19e9",
   "metadata": {},
   "outputs": [],
   "source": []
  },
  {
   "cell_type": "code",
   "execution_count": 8,
   "id": "1bf78253",
   "metadata": {},
   "outputs": [],
   "source": [
    "import numpy as np\n",
    "\n",
    "filename = '/home/yig319/Dropbox (LU Student)/plotting/piezoresponse.txt'\n",
    "\n",
    "data = np.loadtxt(filename, delimiter=',', skiprows=1, dtype=str)\n",
    "\n",
    "x = []\n",
    "y = []\n",
    "for string in data:\n",
    "    x.append(float(string.split('    ', 2)[0]))\n",
    "    y.append(float(string.split('    ', 2)[1]))"
   ]
  },
  {
   "cell_type": "code",
   "execution_count": 9,
   "id": "48f7b25a",
   "metadata": {},
   "outputs": [
    {
     "data": {
      "image/png": "[encoded data removed]",
      "text/plain": [
       "<Figure size 360x360 with 1 Axes>"
      ]
     },
     "metadata": {
      "needs_background": "light"
     },
     "output_type": "display_data"
    }
   ],
   "source": [
    "import numpy as np\n",
    "from scipy.interpolate import interp1d # Different interface to the same function\n",
    "import matplotlib.pyplot as plt\n",
    "\n",
    "i = np.arange(len(x))\n",
    "\n",
    "# 1x the original number of points\n",
    "interp_i = np.linspace(0, i.max(), 1 * i.max())\n",
    "\n",
    "xi = interp1d(i, x, kind='linear')(interp_i)\n",
    "yi = interp1d(i, y, kind='linear')(interp_i)\n",
    "\n",
    "fig = plt.figure(figsize=(5,5))\n",
    "ax = fig.subplots()\n",
    "ax.plot(xi, yi, linewidth=3, c='black')\n",
    "ax.plot(x, y, 'ks')\n",
    "ax.set_ylim([0, 8])\n",
    "\n",
    "ax.set_xticks([-10,-5,0,5,10])\n",
    "\n",
    "ax.set_yticklabels([])\n",
    "ax.yaxis.set_ticks_position('both')\n",
    "ax.xaxis.set_ticks_position('both')\n",
    "\n",
    "ax.tick_params(axis=\"y\",direction=\"in\")\n",
    "ax.tick_params(axis=\"x\",direction=\"in\")\n",
    "plt.savefig('/home/yig319/Dropbox (LU Student)/plotting/piezoresponse.svg', dpi=600)\n",
    "plt.show()"
   ]
  },
  {
   "cell_type": "code",
   "execution_count": null,
   "id": "292d50d6",
   "metadata": {},
   "outputs": [],
   "source": []
  },
  {
   "cell_type": "code",
   "execution_count": null,
   "id": "5e7f342b",
   "metadata": {},
   "outputs": [],
   "source": []
  },
  {
   "cell_type": "code",
   "execution_count": 2,
   "id": "38b564d2",
   "metadata": {
    "scrolled": true
   },
   "outputs": [
    {
     "name": "stdout",
     "output_type": "stream",
     "text": [
      "['-1.00000000000000e+001    8.80394206361057e-001'\n",
      " '-9.00552486187845e+000    9.22950574884277e-001'\n",
      " '-7.90055248618784e+000    1.12789308645662e+000'\n",
      " '-6.90607734806630e+000    1.37315215768254e+000'\n",
      " '-6.24309392265193e+000    1.61773928624757e+000'\n",
      " '-5.58011049723757e+000    1.86232641481260e+000'\n",
      " '-5.13812154696133e+000    2.02538450052262e+000'\n",
      " '-4.47513812154696e+000    2.35105271016873e+000'\n",
      " '-3.70165745856354e+000    2.79856652232343e+000'\n",
      " '-3.25966850828729e+000    3.20486785127669e+000'\n",
      " '-2.48618784530387e+000    6.24697625802598e+000'\n",
      " '-2.04419889502763e+000    6.36949380319546e+000'\n",
      " '-1.49171270718232e+000    6.45169478871136e+000'\n",
      " '-7.18232044198896e-001    6.41272211437957e+000'\n",
      " '-5.52486187845300e-002    6.57622816186352e+000'\n",
      " ' 6.07734806629834e-001    6.61811258772585e+000'\n",
      " ' 1.16022099447514e+000    6.65977303270121e+000'\n",
      " ' 1.82320441988950e+000    6.62057637748245e+000'\n",
      " ' 2.48618784530387e+000    6.70300134388532e+000'\n",
      " ' 3.14917127071823e+000    6.74488576974765e+000'\n",
      " ' 3.70165745856354e+000    6.82708675526355e+000'\n",
      " ' 4.25414364640884e+000    6.70658503807675e+000'\n",
      " ' 4.91712707182320e+000    6.82955054502016e+000'\n",
      " ' 5.69060773480663e+000    6.87165895176945e+000'\n",
      " ' 6.13259668508287e+000    6.87255487531731e+000'\n",
      " ' 6.90607734806630e+000    6.79304166044498e+000'\n",
      " ' 7.45856353591160e+000    6.91578318650142e+000'\n",
      " ' 8.01104972375690e+000    6.83582200985516e+000'\n",
      " ' 8.67403314917127e+000    6.95878751679857e+000'\n",
      " ' 9.44751381215470e+000    6.83873376138570e+000'\n",
      " ' 9.88950276243094e+000    6.79908914439301e+000'\n",
      " ' 8.78453038674033e+000    6.67522771390175e+000'\n",
      " ' 8.01104972375690e+000    6.43041660444975e+000'\n",
      " ' 7.34806629834254e+000    6.30745109750635e+000'\n",
      " ' 6.79558011049724e+000    6.10362849036882e+000'\n",
      " ' 6.24309392265193e+000    5.85926534269076e+000'\n",
      " ' 5.58011049723757e+000    5.57413767358519e+000'\n",
      " ' 5.13812154696133e+000    5.32999850679409e+000'\n",
      " ' 4.25414364640884e+000    4.96334179483351e+000'\n",
      " ' 3.70165745856354e+000    4.51627594445274e+000'\n",
      " ' 3.14917127071823e+000    3.66380468866657e+000'\n",
      " ' 2.48618784530387e+000    1.67597431685829e+000'\n",
      " ' 1.82320441988950e+000    1.47192772883381e+000'\n",
      " ' 1.16022099447514e+000    1.47058384351202e+000'\n",
      " ' 4.97237569060774e-001    1.34761833656861e+000'\n",
      " '-5.52486187845300e-002    1.22487681051217e+000'\n",
      " '-6.07734806629834e-001    1.06159474391519e+000'\n",
      " '-1.38121546961326e+000    1.06002687770644e+000'\n",
      " '-1.93370165745856e+000    1.01836643273107e+000'\n",
      " '-2.59668508287293e+000    1.05756308794983e+000'\n",
      " '-3.14917127071823e+000    1.01590264297447e+000'\n",
      " '-3.70165745856354e+000    1.01478273853964e+000'\n",
      " '-4.47513812154696e+000    8.51052710168732e-001'\n",
      " '-5.02762430939227e+000    8.90473346274451e-001'\n",
      " '-5.58011049723757e+000    1.05151560400179e+000'\n",
      " '-6.24309392265193e+000    8.88009556517844e-001'\n",
      " '-6.90607734806630e+000    9.27206211736598e-001'\n",
      " '-7.56906077348066e+000    1.04748394803643e+000'\n",
      " '-8.23204419889503e+000    9.65058981633567e-001'\n",
      " '-9.00552486187845e+000    9.63491115424817e-001']\n"
     ]
    }
   ],
   "source": [
    "import numpy as np\n",
    "\n",
    "filename = '/home/yig319/Dropbox (LU Student)/plotting/piezoresponse.txt'\n",
    "\n",
    "data = np.loadtxt(filename, delimiter=',', skiprows=1, dtype=str)\n",
    "print(data)"
   ]
  },
  {
   "cell_type": "code",
   "execution_count": 5,
   "id": "dc07e892",
   "metadata": {},
   "outputs": [
    {
     "data": {
      "text/plain": [
       "'-1.00000000000000e+001    8.80394206361057e-001'"
      ]
     },
     "execution_count": 5,
     "metadata": {},
     "output_type": "execute_result"
    }
   ],
   "source": [
    "data[0]"
   ]
  },
  {
   "cell_type": "code",
   "execution_count": 14,
   "id": "62b054df",
   "metadata": {},
   "outputs": [
    {
     "data": {
      "text/plain": [
       "['-1.00000000000000e+001', '8.80394206361057e-001']"
      ]
     },
     "execution_count": 14,
     "metadata": {},
     "output_type": "execute_result"
    }
   ],
   "source": [
    "data[0].split('    ', 2)"
   ]
  },
  {
   "cell_type": "code",
   "execution_count": 15,
   "id": "b9182756",
   "metadata": {},
   "outputs": [
    {
     "data": {
      "text/plain": [
       "-10.0"
      ]
     },
     "execution_count": 15,
     "metadata": {},
     "output_type": "execute_result"
    }
   ],
   "source": [
    "float(data[0].split('    ', 2)[0])"
   ]
  },
  {
   "cell_type": "code",
   "execution_count": 27,
   "id": "52ce4e93",
   "metadata": {},
   "outputs": [],
   "source": [
    "x = []\n",
    "y = []\n",
    "for string in data:\n",
    "    x.append(float(string.split('    ', 2)[0]))\n",
    "    y.append(float(string.split('    ', 2)[1]))"
   ]
  },
  {
   "cell_type": "code",
   "execution_count": 28,
   "id": "ad583c7b",
   "metadata": {
    "scrolled": true
   },
   "outputs": [
    {
     "data": {
      "image/png": "[encoded data removed]",
      "text/plain": [
       "<Figure size 432x288 with 1 Axes>"
      ]
     },
     "metadata": {
      "needs_background": "light"
     },
     "output_type": "display_data"
    }
   ],
   "source": [
    "plt.plot(x, y, 'ko')\n",
    "plt.show()"
   ]
  },
  {
   "cell_type": "code",
   "execution_count": null,
   "id": "f8e00811",
   "metadata": {},
   "outputs": [],
   "source": [
    "import numpy as np\n",
    "from scipy.interpolate import interp1d # Different interface to the same function\n",
    "import matplotlib.pyplot as plt\n",
    "\n",
    "#pts = np.array([...]) # Your points\n",
    "\n",
    "i = np.arange(len(x))\n",
    "\n",
    "# 5x the original number of points\n",
    "interp_i = np.linspace(0, i.max(), 1 * i.max())\n",
    "\n",
    "xi = interp1d(i, x, kind='cubic')(interp_i)\n",
    "yi = interp1d(i, y, kind='cubic')(interp_i)\n",
    "\n",
    "fig = plt.figure(figsize=(5,5))\n",
    "ax = fig.subplots()\n",
    "ax.plot(xi, yi, linewidth=3, c='black')\n",
    "ax.plot(x, y, 'ks')\n",
    "ax.set_ylim([0, 8])\n",
    "ax.set_yticklabels([])\n",
    "\n",
    "ax.tick_params(axis=\"y\",direction=\"in\")\n",
    "ax.tick_params(axis=\"x\",direction=\"in\")\n",
    "plt.show()"
   ]
  },
  {
   "cell_type": "code",
   "execution_count": null,
   "id": "f64dc52a",
   "metadata": {},
   "outputs": [],
   "source": []
  },
  {
   "cell_type": "code",
   "execution_count": 79,
   "id": "d49bb0ff",
   "metadata": {},
   "outputs": [
    {
     "data": {
      "image/png": "[encoded data removed]",
      "text/plain": [
       "<Figure size 360x360 with 1 Axes>"
      ]
     },
     "metadata": {
      "needs_background": "light"
     },
     "output_type": "display_data"
    }
   ],
   "source": [
    "import numpy as np\n",
    "from scipy.interpolate import interp1d # Different interface to the same function\n",
    "import matplotlib.pyplot as plt\n",
    "\n",
    "i = np.arange(len(x))\n",
    "\n",
    "# 5x the original number of points\n",
    "interp_i = np.linspace(0, i.max(), 1 * i.max())\n",
    "\n",
    "xi = interp1d(i, x, kind='linear')(interp_i)\n",
    "yi = interp1d(i, y, kind='linear')(interp_i)\n",
    "\n",
    "fig = plt.figure(figsize=(5,5))\n",
    "ax = fig.subplots()\n",
    "ax.plot(xi, yi, linewidth=3, c='black')\n",
    "ax.plot(x, y, 'ks')\n",
    "ax.set_ylim([0, 8])\n",
    "\n",
    "ax.set_xticks([-10,-5,0,5,10])\n",
    "\n",
    "ax.set_yticklabels([])\n",
    "ax.yaxis.set_ticks_position('both')\n",
    "ax.xaxis.set_ticks_position('both')\n",
    "\n",
    "ax.tick_params(axis=\"y\",direction=\"in\")\n",
    "ax.tick_params(axis=\"x\",direction=\"in\")\n",
    "plt.show()"
   ]
  },
  {
   "cell_type": "code",
   "execution_count": null,
   "id": "1336bb1c",
   "metadata": {},
   "outputs": [],
   "source": []
  },
  {
   "cell_type": "code",
   "execution_count": 78,
   "id": "412e9823",
   "metadata": {},
   "outputs": [
    {
     "data": {
      "image/png": "[encoded data removed]",
      "text/plain": [
       "<Figure size 360x360 with 1 Axes>"
      ]
     },
     "metadata": {
      "needs_background": "light"
     },
     "output_type": "display_data"
    }
   ],
   "source": [
    "import numpy as np\n",
    "from scipy.interpolate import interp1d # Different interface to the same function\n",
    "import matplotlib.pyplot as plt\n",
    "\n",
    "i = np.arange(len(x))\n",
    "\n",
    "# 5x the original number of points\n",
    "interp_i = np.linspace(0, i.max(), 1 * i.max())\n",
    "\n",
    "xi = interp1d(i, x, kind='linear')(interp_i)\n",
    "yi = interp1d(i, y, kind='linear')(interp_i)\n",
    "\n",
    "fig = plt.figure(figsize=(5,5))\n",
    "ax = fig.subplots()\n",
    "ax.plot(xi, yi, linewidth=3, c='black')\n",
    "ax.plot(x, y, 'ks')\n",
    "ax.set_ylim([0, 8])\n",
    "\n",
    "ax.set_xticks([-10,-5,0,5,10])\n",
    "\n",
    "ax.set_yticklabels([])\n",
    "ax.yaxis.set_ticks_position('both')\n",
    "ax.xaxis.set_ticks_position('both')\n",
    "\n",
    "ax.tick_params(axis=\"y\",direction=\"in\")\n",
    "ax.tick_params(axis=\"x\",direction=\"in\")\n",
    "plt.show()"
   ]
  },
  {
   "cell_type": "code",
   "execution_count": null,
   "id": "41e5c1d6",
   "metadata": {},
   "outputs": [],
   "source": []
  },
  {
   "cell_type": "code",
   "execution_count": 42,
   "id": "18396972",
   "metadata": {},
   "outputs": [],
   "source": [
    "import numpy as np\n",
    "from scipy.interpolate import splprep, splev\n",
    "import matplotlib.pyplot as plt\n",
    "\n",
    "# define pts from the question"
   ]
  },
  {
   "cell_type": "code",
   "execution_count": null,
   "id": "83143e6f",
   "metadata": {},
   "outputs": [],
   "source": []
  },
  {
   "cell_type": "code",
   "execution_count": null,
   "id": "82728f16",
   "metadata": {},
   "outputs": [],
   "source": [
    "tck, u = splprep(pts.T, u=None, s=0.0, per=1) \n",
    "u_new = np.linspace(u.min(), u.max(), 1000)\n",
    "x_new, y_new = splev(u_new, tck, der=0)\n",
    "\n",
    "plt.plot(pts[:,0], pts[:,1], 'ro')\n",
    "plt.plot(x_new, y_new, 'b--')\n",
    "plt.show()"
   ]
  },
  {
   "cell_type": "code",
   "execution_count": 41,
   "id": "a636bcc7",
   "metadata": {},
   "outputs": [
    {
     "data": {
      "text/plain": [
       "[<matplotlib.lines.Line2D at 0x7f8efdd2a950>]"
      ]
     },
     "execution_count": 41,
     "metadata": {},
     "output_type": "execute_result"
    },
    {
     "data": {
      "image/png": "[encoded data removed]",
      "text/plain": [
       "<Figure size 432x288 with 1 Axes>"
      ]
     },
     "metadata": {
      "needs_background": "light"
     },
     "output_type": "display_data"
    }
   ],
   "source": [
    "fig, ax = plt.subplots()\n",
    "_ = ax.scatter(x, y, c ='black')\n",
    "z = np.polyfit(x, y, 10)\n",
    "p = np.poly1d(z)\n",
    "plt.plot(x, p(x), \"r-o\")"
   ]
  },
  {
   "cell_type": "code",
   "execution_count": null,
   "id": "903d20c3",
   "metadata": {},
   "outputs": [],
   "source": []
  },
  {
   "cell_type": "code",
   "execution_count": 17,
   "id": "10aa1607",
   "metadata": {},
   "outputs": [
    {
     "data": {
      "text/plain": [
       "([-10.0,\n",
       "  -9.00552486187845,\n",
       "  -7.90055248618784,\n",
       "  -6.9060773480663,\n",
       "  -6.24309392265193,\n",
       "  -5.58011049723757,\n",
       "  -5.13812154696133,\n",
       "  -4.47513812154696,\n",
       "  -3.70165745856354,\n",
       "  -3.25966850828729,\n",
       "  -2.48618784530387,\n",
       "  -2.04419889502763,\n",
       "  -1.49171270718232,\n",
       "  -0.718232044198896,\n",
       "  -0.05524861878453,\n",
       "  0.607734806629834,\n",
       "  1.16022099447514,\n",
       "  1.8232044198895,\n",
       "  2.48618784530387,\n",
       "  3.14917127071823,\n",
       "  3.70165745856354,\n",
       "  4.25414364640884,\n",
       "  4.9171270718232,\n",
       "  5.69060773480663,\n",
       "  6.13259668508287,\n",
       "  6.9060773480663,\n",
       "  7.4585635359116,\n",
       "  8.0110497237569,\n",
       "  8.67403314917127,\n",
       "  9.4475138121547,\n",
       "  9.88950276243094,\n",
       "  8.78453038674033,\n",
       "  8.0110497237569,\n",
       "  7.34806629834254,\n",
       "  6.79558011049724,\n",
       "  6.24309392265193,\n",
       "  5.58011049723757,\n",
       "  5.13812154696133,\n",
       "  4.25414364640884,\n",
       "  3.70165745856354,\n",
       "  3.14917127071823,\n",
       "  2.48618784530387,\n",
       "  1.8232044198895,\n",
       "  1.16022099447514,\n",
       "  0.497237569060774,\n",
       "  -0.05524861878453,\n",
       "  -0.607734806629834,\n",
       "  -1.38121546961326,\n",
       "  -1.93370165745856,\n",
       "  -2.59668508287293,\n",
       "  -3.14917127071823,\n",
       "  -3.70165745856354,\n",
       "  -4.47513812154696,\n",
       "  -5.02762430939227,\n",
       "  -5.58011049723757,\n",
       "  -6.24309392265193,\n",
       "  -6.9060773480663,\n",
       "  -7.56906077348066,\n",
       "  -8.23204419889503,\n",
       "  -9.00552486187845],\n",
       " [0.880394206361057,\n",
       "  0.922950574884277,\n",
       "  1.12789308645662,\n",
       "  1.37315215768254,\n",
       "  1.61773928624757,\n",
       "  1.8623264148126,\n",
       "  2.02538450052262,\n",
       "  2.35105271016873,\n",
       "  2.79856652232343,\n",
       "  3.20486785127669,\n",
       "  6.24697625802598,\n",
       "  6.36949380319546,\n",
       "  6.45169478871136,\n",
       "  6.41272211437957,\n",
       "  6.57622816186352,\n",
       "  6.61811258772585,\n",
       "  6.65977303270121,\n",
       "  6.62057637748245,\n",
       "  6.70300134388532,\n",
       "  6.74488576974765,\n",
       "  6.82708675526355,\n",
       "  6.70658503807675,\n",
       "  6.82955054502016,\n",
       "  6.87165895176945,\n",
       "  6.87255487531731,\n",
       "  6.79304166044498,\n",
       "  6.91578318650142,\n",
       "  6.83582200985516,\n",
       "  6.95878751679857,\n",
       "  6.8387337613857,\n",
       "  6.79908914439301,\n",
       "  6.67522771390175,\n",
       "  6.43041660444975,\n",
       "  6.30745109750635,\n",
       "  6.10362849036882,\n",
       "  5.85926534269076,\n",
       "  5.57413767358519,\n",
       "  5.32999850679409,\n",
       "  4.96334179483351,\n",
       "  4.51627594445274,\n",
       "  3.66380468866657,\n",
       "  1.67597431685829,\n",
       "  1.47192772883381,\n",
       "  1.47058384351202,\n",
       "  1.34761833656861,\n",
       "  1.22487681051217,\n",
       "  1.06159474391519,\n",
       "  1.06002687770644,\n",
       "  1.01836643273107,\n",
       "  1.05756308794983,\n",
       "  1.01590264297447,\n",
       "  1.01478273853964,\n",
       "  0.851052710168732,\n",
       "  0.890473346274451,\n",
       "  1.05151560400179,\n",
       "  0.888009556517844,\n",
       "  0.927206211736598,\n",
       "  1.04748394803643,\n",
       "  0.965058981633567,\n",
       "  0.963491115424817])"
      ]
     },
     "execution_count": 17,
     "metadata": {},
     "output_type": "execute_result"
    }
   ],
   "source": [
    "x_list, y_list"
   ]
  },
  {
   "cell_type": "code",
   "execution_count": null,
   "id": "e1946420",
   "metadata": {},
   "outputs": [],
   "source": []
  },
  {
   "cell_type": "code",
   "execution_count": null,
   "id": "ab557474",
   "metadata": {},
   "outputs": [],
   "source": []
  },
  {
   "cell_type": "code",
   "execution_count": 7,
   "id": "6f497478",
   "metadata": {},
   "outputs": [
    {
     "data": {
      "text/plain": [
       "-10.0"
      ]
     },
     "execution_count": 7,
     "metadata": {},
     "output_type": "execute_result"
    }
   ],
   "source": [
    "float('-1.00000000000000e+001')"
   ]
  },
  {
   "cell_type": "code",
   "execution_count": null,
   "id": "3d6d83fa",
   "metadata": {},
   "outputs": [],
   "source": []
  }
 ],
 "metadata": {
  "kernelspec": {
   "display_name": "Python (gyc)",
   "language": "python",
   "name": "gyc"
  },
  "language_info": {
   "codemirror_mode": {
    "name": "ipython",
    "version": 3
   },
   "file_extension": ".py",
   "mimetype": "text/x-python",
   "name": "python",
   "nbconvert_exporter": "python",
   "pygments_lexer": "ipython3",
   "version": "3.7.7"
  }
 },
 "nbformat": 4,
 "nbformat_minor": 5
}
