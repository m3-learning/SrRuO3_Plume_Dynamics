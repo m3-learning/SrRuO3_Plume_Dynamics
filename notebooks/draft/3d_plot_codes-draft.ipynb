{
 "cells": [
  {
   "cell_type": "code",
   "execution_count": 1,
   "metadata": {},
   "outputs": [],
   "source": [
    "import numpy as np\n",
    "from mayavi import mlab\n",
    "import matplotlib.cm as cm\n",
    "\n",
    "# Define the coordinates of the trapezoid vertices\n",
    "points = np.array([[2, 1, 5], [3, 1, 6], [3, 1, 0], [2, 1, 0]])\n",
    "\n",
    "# Extract x, y, and z coordinates\n",
    "x = points[:, 0]\n",
    "y = points[:, 1]\n",
    "z = points[:, 2]\n",
    "\n",
    "# Define the indices of the trapezoid vertices to form triangles\n",
    "triangles = [(0, 1, 2), (0, 2, 3)]\n",
    "\n",
    "# Create a triangular mesh using the triangular_mesh function\n",
    "mlab.triangular_mesh(x, y, z, triangles, color=(0.8, 0.8, 0.8))\n",
    "\n",
    "# Show the plot\n",
    "mlab.show()\n"
   ]
  },
  {
   "cell_type": "code",
   "execution_count": 9,
   "metadata": {},
   "outputs": [
    {
     "data": {
      "text/plain": [
       "(3, 8, 3)"
      ]
     },
     "execution_count": 9,
     "metadata": {},
     "output_type": "execute_result"
    }
   ],
   "source": [
    "import matplotlib.cm as cm\n",
    "\n",
    "planes1 = zigzag_faces(num_planes=3, z_step=1, amplitude=1, anchor_pos=(1,0), along_axis='x')\n",
    "planes1[:,:,2] += 5\n",
    "\n",
    "planes2 = np.copy(planes1)\n",
    "planes2[:,:,2] = 0\n",
    "\n",
    "all = np.concatenate((planes1, planes2), axis=1)\n",
    "all.shape"
   ]
  },
  {
   "cell_type": "code",
   "execution_count": 6,
   "metadata": {},
   "outputs": [
    {
     "data": {
      "text/plain": [
       "(3, 4, 3)"
      ]
     },
     "execution_count": 6,
     "metadata": {},
     "output_type": "execute_result"
    }
   ],
   "source": [
    "faces = []\n",
    "for points in all:\n",
    "    faces.append([points[0], points[1], points[5], points[4]])\n",
    "faces = np.array(faces)\n",
    "faces.shape"
   ]
  },
  {
   "cell_type": "code",
   "execution_count": 11,
   "metadata": {},
   "outputs": [],
   "source": [
    "colors = [cm.viridis(x)[:3] for x in np.linspace(0, 1, len(faces))]\n",
    "\n",
    "for face, c in zip(faces, colors):\n",
    "    # Extract x, y, and z coordinates\n",
    "    x = face[:, 0]\n",
    "    y = face[:, 1]\n",
    "    z = face[:, 2]\n",
    "    # Define the indices of the trapezoid vertices to form triangles\n",
    "    triangles = [(0, 1, 2), (0, 2, 3)]\n",
    "\n",
    "    # Create a triangular mesh using the triangular_mesh function\n",
    "    mlab.triangular_mesh(x, y, z, triangles, color=c)\n",
    "mlab.show()"
   ]
  },
  {
   "cell_type": "code",
   "execution_count": null,
   "metadata": {},
   "outputs": [],
   "source": []
  },
  {
   "cell_type": "code",
   "execution_count": null,
   "metadata": {},
   "outputs": [],
   "source": [
    "points = np.array([[2, 1, 5], [3, 1, 6], [3, 1, 0], [2, 1, 0]])\n",
    "\n",
    "# Extract x, y, and z coordinates\n",
    "x = points[:, 0]\n",
    "y = points[:, 1]\n",
    "z = points[:, 2]\n",
    "\n",
    "# Define the indices of the trapezoid vertices to form triangles\n",
    "triangles = [(0, 1, 2), (0, 2, 3)]\n",
    "\n",
    "# Create a triangular mesh using the triangular_mesh function\n",
    "mlab.triangular_mesh(x, y, z, triangles, color=(0.8, 0.8, 0.8))"
   ]
  },
  {
   "cell_type": "code",
   "execution_count": null,
   "metadata": {},
   "outputs": [],
   "source": []
  },
  {
   "cell_type": "code",
   "execution_count": null,
   "metadata": {},
   "outputs": [],
   "source": []
  },
  {
   "cell_type": "code",
   "execution_count": 2,
   "metadata": {},
   "outputs": [],
   "source": [
    "import numpy as np\n",
    "from mayavi import mlab\n",
    "\n",
    "# Define the coordinates of the trapezoid vertices\n",
    "x = np.array([1, 2, 4, 5])\n",
    "y = np.array([0, 3, 3, 0])\n",
    "\n",
    "# Create a grid of coordinates\n",
    "X, Y = np.meshgrid(x, y)\n",
    "\n",
    "# Set the z-coordinates to create a flat trapezoid in 2D\n",
    "Z = np.zeros_like(X)\n",
    "\n",
    "# Create a mesh plot using the mesh function\n",
    "mesh = mlab.mesh(X, Y, Z, color=(0.8, 0.8, 0.8))\n",
    "\n",
    "# Show the plot\n",
    "mlab.show()\n"
   ]
  },
  {
   "cell_type": "code",
   "execution_count": null,
   "metadata": {},
   "outputs": [],
   "source": []
  },
  {
   "cell_type": "code",
   "execution_count": null,
   "metadata": {},
   "outputs": [],
   "source": []
  },
  {
   "cell_type": "code",
   "execution_count": 14,
   "metadata": {},
   "outputs": [],
   "source": [
    "import numpy as np\n",
    "from mayavi import mlab\n",
    "# mlab.init_notebook('x3d')\n",
    "# mlab.options.offscreen = True\n",
    "import matplotlib.pyplot as plt\n",
    "import matplotlib.cm as cm\n",
    "\n",
    "def draw_surface(x, y, z, color):\n",
    "    if type(z) == int: \n",
    "        x_ = np.linspace(x[0], x[1], 10)\n",
    "        y_ = np.linspace(y[0], y[1], 10) \n",
    "        xx, yy = np.meshgrid(x_, y_)\n",
    "        zz = np.ones((xx.shape[0], xx.shape[1]))*z\n",
    "    if type(x) == int: \n",
    "        y_ = np.linspace(y[0], y[1], 10)    \n",
    "        z_ = np.linspace(z[0], z[1], 10)    \n",
    "        yy, zz = np.meshgrid(y_, z_)\n",
    "        xx = np.ones((yy.shape[0], yy.shape[1]))*x\n",
    "    if type(y) == int: \n",
    "        x_ = np.linspace(x[0], x[1], 10)    \n",
    "        z_ = np.linspace(z[0], z[1], 10)    \n",
    "        xx, zz = np.meshgrid(x_, z_)\n",
    "        yy = np.ones((zz.shape[0], zz.shape[1]))*y\n",
    "    mlab.mesh(xx, yy, zz, color=color)\n",
    "     \n",
    "def draw_box(xrange, yrange, zrange, color):\n",
    "    draw_surface((xrange[0], xrange[1]), (yrange[0], yrange[1]), zrange[0], color)\n",
    "    draw_surface((xrange[0], xrange[1]), (yrange[0], yrange[1]), zrange[1], color)\n",
    "    draw_surface((xrange[0], xrange[1]), yrange[0], (zrange[0], zrange[1]), color)\n",
    "    draw_surface((xrange[0], xrange[1]), yrange[1], (zrange[0], zrange[1]), color)\n",
    "    draw_surface(xrange[0], (yrange[0], yrange[1]), (zrange[0], zrange[1]), color)\n",
    "    draw_surface(xrange[1], (yrange[0], yrange[1]), (zrange[0], zrange[1]), color)\n",
    "    \n",
    "def sphere_to_surface(xrange, yrange, z, n, size, layers=1):\n",
    "    x1 = np.random.randint(xrange[0]+size, xrange[1]-size//2, size=n)\n",
    "    y1 = np.random.randint(yrange[0]+size, yrange[1]-size//2, size=n)\n",
    "    z1 = np.ones(y1.shape)*z\n",
    "    mlab.points3d(x1, y1, z1, scale_factor=size)\n",
    "    \n",
    "    if layers == 2:\n",
    "        x2 = np.random.randint(xrange[0]+size, xrange[1]-size//2, size=n)\n",
    "        y2 = np.random.randint(yrange[0]+size, yrange[1]-size//2, size=n)\n",
    "        x2_new, y2_new = [], []\n",
    "        for i in range(len(x2)):\n",
    "            for j in range(len(x1)):\n",
    "                if x2[i]==x1[j] and y2[i]==y1[j]:\n",
    "                    x2_new.append(x2[i])\n",
    "                    y2_new.append(y2[i])\n",
    "    #     print(x2_new)\n",
    "        if len(x2_new) > 1:\n",
    "            x2_new = np.array(x2_new)\n",
    "            y2_new = np.array(y2_new)\n",
    "            z2 = np.ones(y2_new.shape)*(z+1)\n",
    "            mlab.points3d(x2_new, y2_new, z2, scale_factor=size)\n",
    "            \n",
    "def zigzag_faces(num_planes=5, z_step=1, amplitude=1, anchor_pos=(1,0), along_axis='x', viz=False):\n",
    "    '''\n",
    "    define the points on planes following the order of front to back, left to right in the normal xyz space.\n",
    "    '''\n",
    "    if along_axis == 'x':\n",
    "        points_front = np.array([(i, anchor_pos[0], 0) if i % (2 * z_step) == 0 else (i, anchor_pos[0], 1) for i in range(0, (num_planes+1) * z_step, z_step)])\n",
    "        points_back = np.array([(i, anchor_pos[1], 0) if i % (2 * z_step) == 0 else (i, anchor_pos[1], 1) for i in range(0, (num_planes+1) * z_step, z_step)])\n",
    "\n",
    "    elif along_axis == 'y':\n",
    "        points_front = np.array([(anchor_pos[0], i, 0) if i % (2 * z_step) == 0 else (anchor_pos[0], i, 1) for i in range(0, (num_planes+1) * z_step, z_step)])\n",
    "        points_back = np.array([(anchor_pos[1], i, 0) if i % (2 * z_step) == 0 else (anchor_pos[1], i, 1) for i in range(0, (num_planes+1) * z_step, z_step)])\n",
    "\n",
    "    planes = []\n",
    "    for i in range(points_back.shape[0]-1):\n",
    "        planes.append([points_front[i], points_front[i+1], points_back[i+1], points_back[i]])\n",
    "    planes = np.array(planes)\n",
    "    return planes\n",
    "\n",
    "def draw_tilt_z_plane(points, color):\n",
    "    v1 = points[1] - points[0]\n",
    "    v2 = points[2] - points[1]\n",
    "    vector = np.cross(v1, v2).astype(np.float32)\n",
    "    A, B, C = vector\n",
    "    D = -np.dot(vector, points[0])\n",
    "\n",
    "    x_min, x_max, y_min, y_max = np.min(points[:,0]), np.max(points[:,0]), np.min(points[:,1]), np.max(points[:,1])\n",
    "    x = np.linspace(x_min, x_max, 10)\n",
    "    y = np.linspace(y_min, y_max, 10)\n",
    "    X, Y = np.meshgrid(x, y)\n",
    "    Z = (-A * X - B * Y - D) / C\n",
    "    mlab.mesh(X, Y, Z, color=color)\n",
    "\n",
    "def draw_flat(points, color):\n",
    "    '''\n",
    "    four points should be on the same plane one of x, y, or z axis. \n",
    "    '''\n",
    "    x_min, x_max, y_min, y_max, z_min, z_max = np.min(points[:,0]), np.max(points[:,0]), np.min(points[:,1]), np.max(points[:,1]), np.min(points[:,2]), np.max(points[:,2])\n",
    "\n",
    "    \n",
    "    if np.sum((points[0]-points[1])**2) != np.sum((points[2]-points[3])**2): # unparallel lines\n",
    "        x = points[:, 0]\n",
    "        y = points[:, 1]\n",
    "        z = points[:, 2]\n",
    "        triangles = [(0, 1, 2), (0, 2, 3)]\n",
    "\n",
    "        # Create a triangular mesh using the triangular_mesh function\n",
    "        mlab.triangular_mesh(x, y, z, triangles, color=c)\n",
    "\n",
    "    else:\n",
    "        if z_min == z_max: # z axis\n",
    "            x = np.linspace(x_min, x_max, 10)\n",
    "            y = np.linspace(y_min, y_max, 10)\n",
    "            X, Y = np.meshgrid(x, y)\n",
    "            Z = np.ones(X.shape)*z_min\n",
    "        \n",
    "        elif y_min == y_max: # y axis\n",
    "            x = np.linspace(x_min, x_max, 10)\n",
    "            z = np.linspace(z_min, z_max, 10)\n",
    "            X, Z = np.meshgrid(x, z)\n",
    "            Y = np.ones(X.shape)*y_min\n",
    "        \n",
    "        elif x_min == x_max: # x axis\n",
    "            y = np.linspace(y_min, y_max, 10)\n",
    "            z = np.linspace(z_min, z_max, 10)\n",
    "            Y, Z = np.meshgrid(y, z)\n",
    "            X = np.ones(Y.shape)*x_min\n",
    "\n",
    "        mlab.mesh(X, Y, Z, color=color)\n",
    "\n",
    "def viz_matplotlib(planes):\n",
    "    colors = [cm.viridis(x)[:3] for x in np.linspace(0, 1, len(planes))]\n",
    "\n",
    "    fig = plt.figure()\n",
    "    ax = fig.add_subplot(projection='3d')\n",
    "    for p, c in zip(planes, colors):\n",
    "        ax.plot(p[:,0], p[:,1], p[:,2], color=c)\n",
    "    ax.set_xlabel('X')\n",
    "    ax.set_ylabel('Y')\n",
    "    ax.set_zlabel('Z')\n",
    "    ax.view_init(elev=30, azim=45)\n",
    "    plt.show()\n",
    "\n",
    "def viz_mlab(planes):\n",
    "    colors = [cm.viridis(x)[:3] for x in np.linspace(0, 1, len(planes))]\n",
    "    for p, c in zip(planes, colors):\n",
    "        draw_tilt_z_plane(p, color=c)"
   ]
  },
  {
   "cell_type": "code",
   "execution_count": 15,
   "metadata": {},
   "outputs": [
    {
     "name": "stdout",
     "output_type": "stream",
     "text": [
      "(6, 4, 3)\n",
      "(6, 4, 3)\n",
      "(6, 4, 3)\n"
     ]
    }
   ],
   "source": [
    "def draw_box(points, color=(0,0,0)):\n",
    "    faces = np.array([ \n",
    "        [points[0], points[1], points[2], points[3]],\n",
    "        [points[4], points[5], points[6], points[7]],\n",
    "        [points[0], points[1], points[5], points[4]],\n",
    "        [points[2], points[3], points[7], points[6]],\n",
    "        [points[1], points[2], points[6], points[5]],\n",
    "        [points[4], points[7], points[3], points[0]]\n",
    "    ])\n",
    "    print(faces.shape)\n",
    "    for f in faces:\n",
    "        if f[:,0].max() == f[:,0].min() or f[:,1].max() == f[:,1].min() or f[:,2].max() == f[:,2].min():\n",
    "            draw_flat(f, color=color)\n",
    "        else:\n",
    "            draw_tilt_z_plane(f, color=color)\n",
    "\n",
    "planes1 = zigzag_faces(num_planes=3, z_step=1, amplitude=1, anchor_pos=(1,0), along_axis='x')\n",
    "planes1[:,:,2] += 5\n",
    "\n",
    "planes2 = np.copy(planes1)\n",
    "planes2[:,:,2] = 0\n",
    "\n",
    "all = np.concatenate((planes1, planes2), axis=1)\n",
    "colors = [cm.viridis(x)[:3] for x in np.linspace(0, 1, len(all))]\n",
    "for p, c in zip(all, colors):\n",
    "    draw_box(p, color=c)\n",
    "mlab.show()"
   ]
  },
  {
   "cell_type": "code",
   "execution_count": 7,
   "metadata": {},
   "outputs": [
    {
     "data": {
      "text/plain": [
       "array([[2, 1, 5],\n",
       "       [3, 1, 6],\n",
       "       [3, 0, 6],\n",
       "       [2, 0, 5],\n",
       "       [2, 1, 0],\n",
       "       [3, 1, 0],\n",
       "       [3, 0, 0],\n",
       "       [2, 0, 0]])"
      ]
     },
     "execution_count": 7,
     "metadata": {},
     "output_type": "execute_result"
    }
   ],
   "source": [
    "p"
   ]
  },
  {
   "cell_type": "code",
   "execution_count": null,
   "metadata": {},
   "outputs": [],
   "source": [
    "face = [[2, 1, 5], [3, 1, 6], [3, 1, 0], [2, 1, 0]]\n"
   ]
  },
  {
   "cell_type": "code",
   "execution_count": null,
   "metadata": {},
   "outputs": [],
   "source": []
  },
  {
   "cell_type": "code",
   "execution_count": 16,
   "metadata": {},
   "outputs": [
    {
     "data": {
      "image/png": "[encoded data removed]",
      "text/plain": [
       "<Figure size 640x480 with 1 Axes>"
      ]
     },
     "metadata": {},
     "output_type": "display_data"
    }
   ],
   "source": [
    "import matplotlib.pyplot as plt\n",
    "import numpy as np\n",
    "\n",
    "# Define trapezoid parameters\n",
    "top_width = 6.0\n",
    "bottom_width = 12.0\n",
    "height = 8.0\n",
    "\n",
    "# Generate coordinates for the trapezoid\n",
    "x_coords = np.array([0, top_width, bottom_width, 0])\n",
    "y_coords = np.array([0, 0, height, height])\n",
    "\n",
    "x, y = np.meshgrid(np.linspace(0, bottom_width, 100), np.linspace(0, height, 100))\n",
    "\n",
    "# Plot the trapezoid shape\n",
    "plt.plot(x_coords, y_coords, 'ro-', label='Trapezoid')\n",
    "\n",
    "plt.show()\n"
   ]
  },
  {
   "cell_type": "code",
   "execution_count": null,
   "metadata": {},
   "outputs": [],
   "source": []
  },
  {
   "cell_type": "code",
   "execution_count": 8,
   "metadata": {},
   "outputs": [
    {
     "data": {
      "image/png": "[encoded data removed]",
      "text/plain": [
       "<Figure size 640x480 with 1 Axes>"
      ]
     },
     "metadata": {},
     "output_type": "display_data"
    },
    {
     "name": "stdout",
     "output_type": "stream",
     "text": [
      "(4, 3)\n",
      "(4, 3)\n",
      "(4, 3)\n",
      "(4, 3)\n"
     ]
    }
   ],
   "source": [
    "planes = zigzag_faces(num_planes=3, z_step=1, amplitude=1, anchor_pos=(1,0), along_axis='x')\n",
    "planes = np.concatenate( (planes, np.array([[[3, 1, 1], [3, 0, 1], [5, 0, 1], [5, 1, 1]]])) )\n",
    "\n",
    "colors = [cm.viridis(x)[:3] for x in np.linspace(0, 1, len(planes))]\n",
    "\n",
    "fig = plt.figure()\n",
    "ax = fig.add_subplot(projection='3d')\n",
    "for p, c in zip(planes, colors):\n",
    "    ax.plot(p[:,0], p[:,1], p[:,2], color=c)\n",
    "ax.set_xlabel('X')\n",
    "ax.set_ylabel('Y')\n",
    "ax.set_zlabel('Z')\n",
    "ax.view_init(elev=30, azim=45)\n",
    "plt.show()\n",
    "\n",
    "mlab.figure(size=(800, 600))\n",
    "for p, c in zip(planes, colors):\n",
    "    draw_tilt(p, color=c)\n",
    "mlab.show()"
   ]
  },
  {
   "cell_type": "code",
   "execution_count": 9,
   "metadata": {},
   "outputs": [],
   "source": [
    "def viz_matplotlib(planes):\n",
    "    colors = [cm.viridis(x)[:3] for x in np.linspace(0, 1, len(planes))]\n",
    "\n",
    "    fig = plt.figure()\n",
    "    ax = fig.add_subplot(projection='3d')\n",
    "    for p, c in zip(planes, colors):\n",
    "        ax.plot(p[:,0], p[:,1], p[:,2], color=c)\n",
    "    ax.set_xlabel('X')\n",
    "    ax.set_ylabel('Y')\n",
    "    ax.set_zlabel('Z')\n",
    "    ax.view_init(elev=30, azim=45)\n",
    "    plt.show()\n",
    "\n",
    "def viz_mlab(planes):\n",
    "    colors = [cm.viridis(x)[:3] for x in np.linspace(0, 1, len(planes))]\n",
    "    for p, c in zip(planes, colors):\n",
    "        draw_tilt(p, color=c)"
   ]
  },
  {
   "cell_type": "code",
   "execution_count": 10,
   "metadata": {},
   "outputs": [
    {
     "name": "stdout",
     "output_type": "stream",
     "text": [
      "(4, 3)\n",
      "(4, 3)\n",
      "(4, 3)\n",
      "(4, 3)\n",
      "(4, 3)\n",
      "(4, 3)\n"
     ]
    }
   ],
   "source": [
    "planes1 = zigzag_faces(num_planes=3, z_step=1, amplitude=1, anchor_pos=(1,0), along_axis='x')\n",
    "planes1[:,:,2] += 5\n",
    "\n",
    "planes2 = np.copy(planes1)\n",
    "planes2[:,:,2] = 0\n",
    "\n",
    "all = np.concatenate((planes1, planes2), axis=1)\n",
    "\n",
    "mlab.figure(size=(800, 600))\n",
    "viz_mlab(planes1)\n",
    "viz_mlab(planes2)\n",
    "mlab.show()"
   ]
  },
  {
   "cell_type": "code",
   "execution_count": 21,
   "metadata": {},
   "outputs": [
    {
     "name": "stderr",
     "output_type": "stream",
     "text": [
      "c:\\Users\\yig319\\Anaconda3\\envs\\afm\\lib\\site-packages\\ipykernel_launcher.py:14: RuntimeWarning: invalid value encountered in true_divide\n",
      "  \n",
      "c:\\Users\\yig319\\Anaconda3\\envs\\afm\\lib\\site-packages\\mayavi\\core\\utils.py:86: RuntimeWarning: All-NaN axis encountered\n",
      "  res = [float(np.nanmin(x)), float(np.nanmax(x))]\n",
      "Exception occurred in traits notification handler for object: <mayavi.core.lut_manager.LUTManager object at 0x0000022067CCB048>, trait: data_range, old value: [0. 1.], new value: [nan nan]\n",
      "Traceback (most recent call last):\n",
      "  File \"c:\\Users\\yig319\\Anaconda3\\envs\\afm\\lib\\site-packages\\traits\\trait_notifiers.py\", line 342, in __call__\n",
      "    self.handler(*args)\n",
      "  File \"c:\\Users\\yig319\\Anaconda3\\envs\\afm\\lib\\site-packages\\mayavi\\core\\lut_manager.py\", line 434, in _data_range_changed\n",
      "    assert value[0] <= value[1]\n",
      "AssertionError\n",
      "Exception occurred in traits notification handler for object: <mayavi.core.lut_manager.LUTManager object at 0x000002206B405108>, trait: data_range, old value: [0. 1.], new value: [nan nan]\n",
      "Traceback (most recent call last):\n",
      "  File \"c:\\Users\\yig319\\Anaconda3\\envs\\afm\\lib\\site-packages\\traits\\trait_notifiers.py\", line 342, in __call__\n",
      "    self.handler(*args)\n",
      "  File \"c:\\Users\\yig319\\Anaconda3\\envs\\afm\\lib\\site-packages\\mayavi\\core\\lut_manager.py\", line 434, in _data_range_changed\n",
      "    assert value[0] <= value[1]\n",
      "AssertionError\n",
      "Exception occurred in traits notification handler for object: <mayavi.core.lut_manager.LUTManager object at 0x0000022067D27108>, trait: data_range, old value: [0. 1.], new value: [nan nan]\n",
      "Traceback (most recent call last):\n",
      "  File \"c:\\Users\\yig319\\Anaconda3\\envs\\afm\\lib\\site-packages\\traits\\trait_notifiers.py\", line 342, in __call__\n",
      "    self.handler(*args)\n",
      "  File \"c:\\Users\\yig319\\Anaconda3\\envs\\afm\\lib\\site-packages\\mayavi\\core\\lut_manager.py\", line 434, in _data_range_changed\n",
      "    assert value[0] <= value[1]\n",
      "AssertionError\n"
     ]
    },
    {
     "name": "stdout",
     "output_type": "stream",
     "text": [
      "(6, 4, 3)\n"
     ]
    },
    {
     "name": "stderr",
     "output_type": "stream",
     "text": [
      "Exception occurred in traits notification handler for object: <mayavi.core.lut_manager.LUTManager object at 0x000002206B3ADBE8>, trait: data_range, old value: [0. 1.], new value: [nan nan]\n",
      "Traceback (most recent call last):\n",
      "  File \"c:\\Users\\yig319\\Anaconda3\\envs\\afm\\lib\\site-packages\\traits\\trait_notifiers.py\", line 342, in __call__\n",
      "    self.handler(*args)\n",
      "  File \"c:\\Users\\yig319\\Anaconda3\\envs\\afm\\lib\\site-packages\\mayavi\\core\\lut_manager.py\", line 434, in _data_range_changed\n",
      "    assert value[0] <= value[1]\n",
      "AssertionError\n",
      "Exception occurred in traits notification handler for object: <mayavi.core.lut_manager.LUTManager object at 0x000002206B43C288>, trait: data_range, old value: [0. 1.], new value: [nan nan]\n",
      "Traceback (most recent call last):\n",
      "  File \"c:\\Users\\yig319\\Anaconda3\\envs\\afm\\lib\\site-packages\\traits\\trait_notifiers.py\", line 342, in __call__\n",
      "    self.handler(*args)\n",
      "  File \"c:\\Users\\yig319\\Anaconda3\\envs\\afm\\lib\\site-packages\\mayavi\\core\\lut_manager.py\", line 434, in _data_range_changed\n",
      "    assert value[0] <= value[1]\n",
      "AssertionError\n",
      "Exception occurred in traits notification handler for object: <mayavi.core.lut_manager.LUTManager object at 0x0000022067E8F1C8>, trait: data_range, old value: [0. 1.], new value: [nan nan]\n",
      "Traceback (most recent call last):\n",
      "  File \"c:\\Users\\yig319\\Anaconda3\\envs\\afm\\lib\\site-packages\\traits\\trait_notifiers.py\", line 342, in __call__\n",
      "    self.handler(*args)\n",
      "  File \"c:\\Users\\yig319\\Anaconda3\\envs\\afm\\lib\\site-packages\\mayavi\\core\\lut_manager.py\", line 434, in _data_range_changed\n",
      "    assert value[0] <= value[1]\n",
      "AssertionError\n",
      "Exception occurred in traits notification handler for object: <mayavi.core.lut_manager.LUTManager object at 0x0000022068F06048>, trait: data_range, old value: [0. 1.], new value: [nan nan]\n",
      "Traceback (most recent call last):\n",
      "  File \"c:\\Users\\yig319\\Anaconda3\\envs\\afm\\lib\\site-packages\\traits\\trait_notifiers.py\", line 342, in __call__\n",
      "    self.handler(*args)\n",
      "  File \"c:\\Users\\yig319\\Anaconda3\\envs\\afm\\lib\\site-packages\\mayavi\\core\\lut_manager.py\", line 434, in _data_range_changed\n",
      "    assert value[0] <= value[1]\n",
      "AssertionError\n",
      "Exception occurred in traits notification handler for object: <mayavi.core.lut_manager.LUTManager object at 0x0000022067E23228>, trait: data_range, old value: [0. 1.], new value: [nan nan]\n",
      "Traceback (most recent call last):\n",
      "  File \"c:\\Users\\yig319\\Anaconda3\\envs\\afm\\lib\\site-packages\\traits\\trait_notifiers.py\", line 342, in __call__\n",
      "    self.handler(*args)\n",
      "  File \"c:\\Users\\yig319\\Anaconda3\\envs\\afm\\lib\\site-packages\\mayavi\\core\\lut_manager.py\", line 434, in _data_range_changed\n",
      "    assert value[0] <= value[1]\n",
      "AssertionError\n"
     ]
    },
    {
     "name": "stdout",
     "output_type": "stream",
     "text": [
      "(6, 4, 3)\n",
      "(6, 4, 3)\n"
     ]
    },
    {
     "name": "stderr",
     "output_type": "stream",
     "text": [
      "Exception occurred in traits notification handler for object: <mayavi.core.lut_manager.LUTManager object at 0x0000022066C0D048>, trait: data_range, old value: [0. 1.], new value: [nan nan]\n",
      "Traceback (most recent call last):\n",
      "  File \"c:\\Users\\yig319\\Anaconda3\\envs\\afm\\lib\\site-packages\\traits\\trait_notifiers.py\", line 342, in __call__\n",
      "    self.handler(*args)\n",
      "  File \"c:\\Users\\yig319\\Anaconda3\\envs\\afm\\lib\\site-packages\\mayavi\\core\\lut_manager.py\", line 434, in _data_range_changed\n",
      "    assert value[0] <= value[1]\n",
      "AssertionError\n",
      "Exception occurred in traits notification handler for object: <mayavi.core.lut_manager.LUTManager object at 0x0000022066C57288>, trait: data_range, old value: [0. 1.], new value: [nan nan]\n",
      "Traceback (most recent call last):\n",
      "  File \"c:\\Users\\yig319\\Anaconda3\\envs\\afm\\lib\\site-packages\\traits\\trait_notifiers.py\", line 342, in __call__\n",
      "    self.handler(*args)\n",
      "  File \"c:\\Users\\yig319\\Anaconda3\\envs\\afm\\lib\\site-packages\\mayavi\\core\\lut_manager.py\", line 434, in _data_range_changed\n",
      "    assert value[0] <= value[1]\n",
      "AssertionError\n",
      "Exception occurred in traits notification handler for object: <mayavi.core.lut_manager.LUTManager object at 0x0000022066C35468>, trait: data_range, old value: [0. 1.], new value: [nan nan]\n",
      "Traceback (most recent call last):\n",
      "  File \"c:\\Users\\yig319\\Anaconda3\\envs\\afm\\lib\\site-packages\\traits\\trait_notifiers.py\", line 342, in __call__\n",
      "    self.handler(*args)\n",
      "  File \"c:\\Users\\yig319\\Anaconda3\\envs\\afm\\lib\\site-packages\\mayavi\\core\\lut_manager.py\", line 434, in _data_range_changed\n",
      "    assert value[0] <= value[1]\n",
      "AssertionError\n",
      "Exception occurred in traits notification handler for object: <mayavi.core.lut_manager.LUTManager object at 0x0000022067C6E348>, trait: data_range, old value: [0. 1.], new value: [nan nan]\n",
      "Traceback (most recent call last):\n",
      "  File \"c:\\Users\\yig319\\Anaconda3\\envs\\afm\\lib\\site-packages\\traits\\trait_notifiers.py\", line 342, in __call__\n",
      "    self.handler(*args)\n",
      "  File \"c:\\Users\\yig319\\Anaconda3\\envs\\afm\\lib\\site-packages\\mayavi\\core\\lut_manager.py\", line 434, in _data_range_changed\n",
      "    assert value[0] <= value[1]\n",
      "AssertionError\n"
     ]
    }
   ],
   "source": [
    "def draw_tilt(points, color):\n",
    "    v1 = points[1] - points[0]\n",
    "    v2 = points[2] - points[1]\n",
    "    vector = np.cross(v1, v2).astype(np.float32)\n",
    "    A, B, C = vector\n",
    "    D = -np.dot(vector, points[0])\n",
    "\n",
    "    # print(points.shape)\n",
    "    x_min, x_max, y_min, y_max = np.min(points[:,0]), np.max(points[:,0]), np.min(points[:,1]), np.max(points[:,1])\n",
    "    x = np.linspace(x_min, x_max, 50)  # Adjust the range and number of points as needed\n",
    "    y = np.linspace(y_min, y_max, 50)  # Adjust the range and number of points as needed\n",
    "    X, Y = np.meshgrid(x, y)\n",
    "\n",
    "    Z = (-A * X - B * Y - D) / C\n",
    "    mlab.mesh(X, Y, Z, color=color)\n",
    "    \n",
    "def draw_box(points, color=(0,0,0)):\n",
    "    faces = np.array([ \n",
    "        [points[0], points[1], points[2], points[3]],\n",
    "        [points[4], points[5], points[6], points[7]],\n",
    "        [points[0], points[1], points[5], points[4]],\n",
    "        [points[2], points[3], points[7], points[6]],\n",
    "        [points[1], points[2], points[6], points[5]],\n",
    "        [points[4], points[7], points[3], points[0]]\n",
    "    ])\n",
    "    print(faces.shape)\n",
    "    for f in faces:\n",
    "        draw_tilt(f, color=color)\n",
    "\n",
    "colors = [cm.viridis(x)[:3] for x in np.linspace(0, 1, len(all))]\n",
    "for p, c in zip(all, colors):\n",
    "    draw_box(p, color=c)"
   ]
  },
  {
   "cell_type": "code",
   "execution_count": 14,
   "metadata": {},
   "outputs": [
    {
     "data": {
      "text/plain": [
       "(3, 8, 3)"
      ]
     },
     "execution_count": 14,
     "metadata": {},
     "output_type": "execute_result"
    }
   ],
   "source": [
    "points.shape"
   ]
  },
  {
   "cell_type": "code",
   "execution_count": null,
   "metadata": {},
   "outputs": [],
   "source": []
  },
  {
   "cell_type": "code",
   "execution_count": 4,
   "metadata": {},
   "outputs": [
    {
     "data": {
      "image/png": "[encoded data removed]",
      "text/plain": [
       "<Figure size 640x480 with 1 Axes>"
      ]
     },
     "metadata": {},
     "output_type": "display_data"
    }
   ],
   "source": [
    "p1 = planes[0]\n",
    "colors = [cm.Greys(x)[:3] for x in np.linspace(0, 1, len(p1))]\n",
    "\n",
    "fig = plt.figure()\n",
    "ax = fig.add_subplot(projection='3d')\n",
    "ax.scatter(p1[:,1], p1[:,0], p1[:,2], color=colors)\n",
    "ax.set_xlabel('Y')\n",
    "ax.set_ylabel('X')\n",
    "ax.set_zlabel('Z')\n",
    "plt.show()"
   ]
  },
  {
   "cell_type": "code",
   "execution_count": 7,
   "metadata": {},
   "outputs": [
    {
     "name": "stdout",
     "output_type": "stream",
     "text": [
      "1.4142135 [ 1.  0. -1.]\n",
      "[1 0 1] [ 0 -1  0] [ 0.70710677  0.         -0.70710677]\n"
     ]
    }
   ],
   "source": [
    "def draw_tilt(points, color):\n",
    "    # v1 = points[1] - points[0]\n",
    "    # v2 = points[2] - points[1]\n",
    "    # normal = np.cross(v1, v2).astype(np.float32)\n",
    "    # print(np.linalg.norm(normal), normal)\n",
    "    # normal /= np.linalg.norm(normal)\n",
    "    # print(v1, v2, normal)\n",
    "\n",
    "    normal = v1\n",
    "    A, B, C = normal\n",
    "    D = -np.dot(normal, points[0])\n",
    "\n",
    "    x = np.linspace(0, 1, 50)  # Adjust the range and number of points as needed\n",
    "    y = np.linspace(0, 1, 50)  # Adjust the range and number of points as needed\n",
    "    X, Y = np.meshgrid(x, y)\n",
    "\n",
    "    Z = (-A * X - B * Y - D) / C\n",
    "    # Z = np.zeros_like(X)\n",
    "    mlab.mesh(X, Y, Z, color=color)\n",
    "\n",
    "# Create the mesh for the tilted face\n",
    "mlab.figure(size=(800, 600))\n",
    "draw_tilt(p1, color=(0,0,1))\n",
    "mlab.show()"
   ]
  },
  {
   "cell_type": "code",
   "execution_count": null,
   "metadata": {},
   "outputs": [],
   "source": []
  },
  {
   "cell_type": "code",
   "execution_count": null,
   "metadata": {},
   "outputs": [],
   "source": []
  },
  {
   "cell_type": "code",
   "execution_count": null,
   "metadata": {},
   "outputs": [],
   "source": [
    "def draw_tilt(points, color):\n",
    "        \n",
    "    # Calculate the normal vector to the plane using the first two points\n",
    "    v1 = points[1] - points[0]\n",
    "    v2 = points[2] - points[1]\n",
    "    normal = np.cross(v1, v2)\n",
    "\n",
    "    print(v1, v2, normal)\n",
    "\n",
    "    # Calculate the plane equation parameters (A, B, C, D) ax + by + cz + d = 0\n",
    "    A, B, C = normal\n",
    "    D = -np.dot(normal, points[0])\n",
    "\n",
    "    # Create a grid of points\n",
    "    x = np.linspace(0, 1, 50)  # Adjust the range and number of points as needed\n",
    "    y = np.linspace(0, 1, 50)  # Adjust the range and number of points as needed\n",
    "    X, Y = np.meshgrid(x, y)\n",
    "\n",
    "    # Calculate Z based on the plane equation\n",
    "    Z = (-A * X - B * Y - D) / C\n",
    "    mlab.mesh(X, Y, Z, color=color)\n",
    "\n",
    "colors = [cm.viridis(x)[:3] for x in np.linspace(0, 1, len(planes))]\n",
    "# Create the mesh for the tilted face\n",
    "mlab.figure(size=(800, 600))\n",
    "draw_tilt(p, color=c)\n",
    "mlab.show()"
   ]
  },
  {
   "cell_type": "code",
   "execution_count": null,
   "metadata": {},
   "outputs": [],
   "source": []
  },
  {
   "cell_type": "code",
   "execution_count": null,
   "metadata": {},
   "outputs": [],
   "source": []
  },
  {
   "cell_type": "code",
   "execution_count": 58,
   "metadata": {},
   "outputs": [
    {
     "data": {
      "text/plain": [
       "array([[[0, 1, 0],\n",
       "        [1, 1, 1],\n",
       "        [1, 0, 1],\n",
       "        [0, 0, 0]],\n",
       "\n",
       "       [[1, 1, 1],\n",
       "        [2, 1, 0],\n",
       "        [2, 0, 0],\n",
       "        [1, 0, 1]],\n",
       "\n",
       "       [[2, 1, 0],\n",
       "        [3, 1, 1],\n",
       "        [3, 0, 1],\n",
       "        [2, 0, 0]],\n",
       "\n",
       "       [[3, 1, 1],\n",
       "        [4, 1, 0],\n",
       "        [4, 0, 0],\n",
       "        [3, 0, 1]],\n",
       "\n",
       "       [[4, 1, 0],\n",
       "        [5, 1, 1],\n",
       "        [5, 0, 1],\n",
       "        [4, 0, 0]]])"
      ]
     },
     "execution_count": 58,
     "metadata": {},
     "output_type": "execute_result"
    }
   ],
   "source": [
    "planes"
   ]
  },
  {
   "cell_type": "code",
   "execution_count": null,
   "metadata": {},
   "outputs": [],
   "source": []
  },
  {
   "cell_type": "code",
   "execution_count": 51,
   "metadata": {},
   "outputs": [
    {
     "name": "stdout",
     "output_type": "stream",
     "text": [
      "[1 0 1] [ 0 -1  0] [ 1  0 -1]\n",
      "[ 1  0 -1] [ 0 -1  0] [-1  0 -1]\n",
      "[1 0 1] [ 0 -1  0] [ 1  0 -1]\n",
      "[ 1  0 -1] [ 0 -1  0] [-1  0 -1]\n",
      "[1 0 1] [ 0 -1  0] [ 1  0 -1]\n"
     ]
    }
   ],
   "source": [
    "def draw_tilt(points, color):\n",
    "        \n",
    "    # Calculate the normal vector to the plane using the first two points\n",
    "    v1 = points[1] - points[0]\n",
    "    v2 = points[2] - points[1]\n",
    "    normal = np.cross(v1, v2)\n",
    "\n",
    "    print(v1, v2, normal)\n",
    "\n",
    "    # Calculate the plane equation parameters (A, B, C, D) ax + by + cz + d = 0\n",
    "    A, B, C = normal\n",
    "    D = -np.dot(normal, points[0])\n",
    "\n",
    "    # Create a grid of points\n",
    "    x = np.linspace(0, 1, 50)  # Adjust the range and number of points as needed\n",
    "    y = np.linspace(0, 1, 50)  # Adjust the range and number of points as needed\n",
    "    X, Y = np.meshgrid(x, y)\n",
    "\n",
    "    # Calculate Z based on the plane equation\n",
    "    Z = (-A * X - B * Y - D) / C\n",
    "    mlab.mesh(X, Y, Z, color=color)\n",
    "\n",
    "colors = [cm.viridis(x)[:3] for x in np.linspace(0, 1, len(planes))]\n",
    "# Create the mesh for the tilted face\n",
    "mlab.figure(size=(800, 600))\n",
    "for p, c in zip(planes, colors):\n",
    "    draw_tilt(p, color=c)\n",
    "mlab.show()"
   ]
  },
  {
   "cell_type": "code",
   "execution_count": null,
   "metadata": {},
   "outputs": [],
   "source": []
  },
  {
   "cell_type": "code",
   "execution_count": null,
   "metadata": {},
   "outputs": [],
   "source": []
  },
  {
   "cell_type": "code",
   "execution_count": 10,
   "metadata": {},
   "outputs": [
    {
     "data": {
      "text/plain": [
       "array([[0, 1, 0],\n",
       "       [1, 1, 1],\n",
       "       [1, 0, 1],\n",
       "       [0, 0, 0]])"
      ]
     },
     "execution_count": 10,
     "metadata": {},
     "output_type": "execute_result"
    }
   ],
   "source": [
    "planes[0]"
   ]
  },
  {
   "cell_type": "code",
   "execution_count": null,
   "metadata": {},
   "outputs": [],
   "source": []
  },
  {
   "cell_type": "code",
   "execution_count": 18,
   "metadata": {},
   "outputs": [
    {
     "data": {
      "text/plain": [
       "<function len(obj, /)>"
      ]
     },
     "execution_count": 18,
     "metadata": {},
     "output_type": "execute_result"
    }
   ],
   "source": [
    "len"
   ]
  },
  {
   "cell_type": "code",
   "execution_count": 24,
   "metadata": {},
   "outputs": [
    {
     "name": "stdout",
     "output_type": "stream",
     "text": [
      "[4, 4, 4]\n",
      "(4, 4, 4) (4, 4, 4) (4, 4, 4)\n"
     ]
    }
   ],
   "source": [
    "def meshgrid2(*arrs):\n",
    "    arrs = tuple(reversed(arrs))  #edit\n",
    "    lens = list(map(len, arrs))\n",
    "    dim = len(arrs)\n",
    "\n",
    "    print(lens)\n",
    "    sz = 1\n",
    "    for s in lens:\n",
    "        sz*=s\n",
    "\n",
    "    ans = []    \n",
    "    for i, arr in enumerate(arrs):\n",
    "        slc = [1]*dim\n",
    "        slc[i] = lens[i]\n",
    "        arr2 = np.array(arr).reshape(slc)\n",
    "        for j, sz in enumerate(lens):\n",
    "            if j!=i:\n",
    "                arr2 = arr2.repeat(sz, axis=j) \n",
    "        ans.append(arr2)\n",
    "\n",
    "    return tuple(ans)\n",
    "\n",
    "x = points[:, 0]\n",
    "y = points[:, 1]\n",
    "z = points[:, 2]\n",
    "X, Y, Z = meshgrid2(x, y, z)\n",
    "print(X.shape, Y.shape, Z.shape)\n"
   ]
  },
  {
   "cell_type": "code",
   "execution_count": 25,
   "metadata": {},
   "outputs": [],
   "source": [
    "from mayavi import mlab\n",
    "import numpy as np\n",
    "\n",
    "# Define the four points\n",
    "points = np.array([\n",
    "    [0, 1, 0],\n",
    "    [1, 1, 1],\n",
    "    [1, 0, 1],\n",
    "    [0, 0, 0]\n",
    "])\n",
    "\n",
    "# Create a 2D grid from the x and y coordinates of the points\n",
    "x = points[:, 0]\n",
    "y = points[:, 1]\n",
    "X, Y = np.meshgrid(x, y)\n",
    "\n",
    "# Calculate the z-coordinates based on the equation of a tilted plane\n",
    "# For example, z = 0.5 * x + 0.7 * y\n",
    "Z = 0.5 * X + 0.7 * Y  # Adjust the coefficients as needed to tilt the face\n",
    "\n",
    "# Create the mesh for the tilted face\n",
    "mlab.figure(size=(800, 600))\n",
    "mlab.mesh(X, Y, Z, color=(1, 0, 0))\n",
    "\n",
    "mlab.view(azimuth=45, elevation=45)\n",
    "mlab.show()\n"
   ]
  },
  {
   "cell_type": "code",
   "execution_count": 27,
   "metadata": {},
   "outputs": [
    {
     "data": {
      "text/plain": [
       "(array([[0, 1, 1, 0],\n",
       "        [0, 1, 1, 0],\n",
       "        [0, 1, 1, 0],\n",
       "        [0, 1, 1, 0]]),\n",
       " array([[1, 1, 1, 1],\n",
       "        [1, 1, 1, 1],\n",
       "        [0, 0, 0, 0],\n",
       "        [0, 0, 0, 0]]))"
      ]
     },
     "execution_count": 27,
     "metadata": {},
     "output_type": "execute_result"
    }
   ],
   "source": [
    "X, Y"
   ]
  },
  {
   "cell_type": "code",
   "execution_count": 26,
   "metadata": {},
   "outputs": [
    {
     "data": {
      "text/plain": [
       "array([[0.7, 1.2, 1.2, 0.7],\n",
       "       [0.7, 1.2, 1.2, 0.7],\n",
       "       [0. , 0.5, 0.5, 0. ],\n",
       "       [0. , 0.5, 0.5, 0. ]])"
      ]
     },
     "execution_count": 26,
     "metadata": {},
     "output_type": "execute_result"
    }
   ],
   "source": [
    "Z"
   ]
  },
  {
   "cell_type": "code",
   "execution_count": 29,
   "metadata": {},
   "outputs": [],
   "source": []
  },
  {
   "cell_type": "code",
   "execution_count": null,
   "metadata": {},
   "outputs": [],
   "source": []
  },
  {
   "cell_type": "code",
   "execution_count": null,
   "metadata": {},
   "outputs": [],
   "source": []
  },
  {
   "cell_type": "code",
   "execution_count": null,
   "metadata": {},
   "outputs": [],
   "source": []
  },
  {
   "cell_type": "code",
   "execution_count": null,
   "metadata": {},
   "outputs": [],
   "source": []
  },
  {
   "cell_type": "code",
   "execution_count": null,
   "metadata": {},
   "outputs": [],
   "source": []
  },
  {
   "cell_type": "code",
   "execution_count": null,
   "metadata": {},
   "outputs": [],
   "source": []
  },
  {
   "cell_type": "code",
   "execution_count": null,
   "metadata": {},
   "outputs": [],
   "source": []
  },
  {
   "cell_type": "code",
   "execution_count": 22,
   "metadata": {},
   "outputs": [
    {
     "ename": "AssertionError",
     "evalue": "Array x must be 2 dimensional.",
     "output_type": "error",
     "traceback": [
      "\u001b[1;31m---------------------------------------------------------------------------\u001b[0m",
      "\u001b[1;31mAssertionError\u001b[0m                            Traceback (most recent call last)",
      "\u001b[1;32m~\\AppData\\Local\\Temp\\ipykernel_40272\\1456004189.py\u001b[0m in \u001b[0;36m<module>\u001b[1;34m\u001b[0m\n\u001b[1;32m----> 1\u001b[1;33m \u001b[0mmlab\u001b[0m\u001b[1;33m.\u001b[0m\u001b[0mmesh\u001b[0m\u001b[1;33m(\u001b[0m\u001b[0mX\u001b[0m\u001b[1;33m,\u001b[0m \u001b[0mY\u001b[0m\u001b[1;33m,\u001b[0m \u001b[0mZ\u001b[0m\u001b[1;33m,\u001b[0m \u001b[0mcolor\u001b[0m\u001b[1;33m=\u001b[0m\u001b[1;33m(\u001b[0m\u001b[1;36m1\u001b[0m\u001b[1;33m,\u001b[0m \u001b[1;36m0\u001b[0m\u001b[1;33m,\u001b[0m \u001b[1;36m0\u001b[0m\u001b[1;33m)\u001b[0m\u001b[1;33m)\u001b[0m\u001b[1;33m\u001b[0m\u001b[1;33m\u001b[0m\u001b[0m\n\u001b[0m\u001b[0;32m      2\u001b[0m \u001b[1;33m\u001b[0m\u001b[0m\n\u001b[0;32m      3\u001b[0m \u001b[0mmlab\u001b[0m\u001b[1;33m.\u001b[0m\u001b[0mview\u001b[0m\u001b[1;33m(\u001b[0m\u001b[0mazimuth\u001b[0m\u001b[1;33m=\u001b[0m\u001b[1;36m45\u001b[0m\u001b[1;33m,\u001b[0m \u001b[0melevation\u001b[0m\u001b[1;33m=\u001b[0m\u001b[1;36m45\u001b[0m\u001b[1;33m)\u001b[0m\u001b[1;33m\u001b[0m\u001b[1;33m\u001b[0m\u001b[0m\n\u001b[0;32m      4\u001b[0m \u001b[0mmlab\u001b[0m\u001b[1;33m.\u001b[0m\u001b[0mshow\u001b[0m\u001b[1;33m(\u001b[0m\u001b[1;33m)\u001b[0m\u001b[1;33m\u001b[0m\u001b[1;33m\u001b[0m\u001b[0m\n",
      "\u001b[1;32mc:\\Users\\yig319\\Anaconda3\\envs\\afm\\lib\\site-packages\\mayavi\\tools\\helper_functions.py\u001b[0m in \u001b[0;36mthe_function\u001b[1;34m(*args, **kwargs)\u001b[0m\n\u001b[0;32m     36\u001b[0m \u001b[1;33m\u001b[0m\u001b[0m\n\u001b[0;32m     37\u001b[0m     \u001b[1;32mdef\u001b[0m \u001b[0mthe_function\u001b[0m\u001b[1;33m(\u001b[0m\u001b[1;33m*\u001b[0m\u001b[0margs\u001b[0m\u001b[1;33m,\u001b[0m \u001b[1;33m**\u001b[0m\u001b[0mkwargs\u001b[0m\u001b[1;33m)\u001b[0m\u001b[1;33m:\u001b[0m\u001b[1;33m\u001b[0m\u001b[1;33m\u001b[0m\u001b[0m\n\u001b[1;32m---> 38\u001b[1;33m         \u001b[1;32mreturn\u001b[0m \u001b[0mpipeline\u001b[0m\u001b[1;33m(\u001b[0m\u001b[1;33m*\u001b[0m\u001b[0margs\u001b[0m\u001b[1;33m,\u001b[0m \u001b[1;33m**\u001b[0m\u001b[0mkwargs\u001b[0m\u001b[1;33m)\u001b[0m\u001b[1;33m\u001b[0m\u001b[1;33m\u001b[0m\u001b[0m\n\u001b[0m\u001b[0;32m     39\u001b[0m \u001b[1;33m\u001b[0m\u001b[0m\n\u001b[0;32m     40\u001b[0m     \u001b[1;32mif\u001b[0m \u001b[0mhasattr\u001b[0m\u001b[1;33m(\u001b[0m\u001b[0mpipeline\u001b[0m\u001b[1;33m,\u001b[0m \u001b[1;34m'doc'\u001b[0m\u001b[1;33m)\u001b[0m\u001b[1;33m:\u001b[0m\u001b[1;33m\u001b[0m\u001b[1;33m\u001b[0m\u001b[0m\n",
      "\u001b[1;32mc:\\Users\\yig319\\Anaconda3\\envs\\afm\\lib\\site-packages\\mayavi\\tools\\helper_functions.py\u001b[0m in \u001b[0;36m__call__\u001b[1;34m(self, *args, **kwargs)\u001b[0m\n\u001b[0;32m     81\u001b[0m             \u001b[0mscene\u001b[0m\u001b[1;33m.\u001b[0m\u001b[0mdisable_render\u001b[0m \u001b[1;33m=\u001b[0m \u001b[1;32mTrue\u001b[0m\u001b[1;33m\u001b[0m\u001b[1;33m\u001b[0m\u001b[0m\n\u001b[0;32m     82\u001b[0m         \u001b[1;31m# Then call the real logic\u001b[0m\u001b[1;33m\u001b[0m\u001b[1;33m\u001b[0m\u001b[1;33m\u001b[0m\u001b[0m\n\u001b[1;32m---> 83\u001b[1;33m         \u001b[0moutput\u001b[0m \u001b[1;33m=\u001b[0m \u001b[0mself\u001b[0m\u001b[1;33m.\u001b[0m\u001b[0m__call_internal__\u001b[0m\u001b[1;33m(\u001b[0m\u001b[1;33m*\u001b[0m\u001b[0margs\u001b[0m\u001b[1;33m,\u001b[0m \u001b[1;33m**\u001b[0m\u001b[0mkwargs\u001b[0m\u001b[1;33m)\u001b[0m\u001b[1;33m\u001b[0m\u001b[1;33m\u001b[0m\u001b[0m\n\u001b[0m\u001b[0;32m     84\u001b[0m         \u001b[1;31m# And re-enable the rendering, if needed.\u001b[0m\u001b[1;33m\u001b[0m\u001b[1;33m\u001b[0m\u001b[1;33m\u001b[0m\u001b[0m\n\u001b[0;32m     85\u001b[0m         \u001b[1;32mif\u001b[0m \u001b[0mscene\u001b[0m \u001b[1;32mis\u001b[0m \u001b[1;32mnot\u001b[0m \u001b[1;32mNone\u001b[0m\u001b[1;33m:\u001b[0m\u001b[1;33m\u001b[0m\u001b[1;33m\u001b[0m\u001b[0m\n",
      "\u001b[1;32mc:\\Users\\yig319\\Anaconda3\\envs\\afm\\lib\\site-packages\\mayavi\\tools\\helper_functions.py\u001b[0m in \u001b[0;36m__call_internal__\u001b[1;34m(self, *args, **kwargs)\u001b[0m\n\u001b[0;32m    857\u001b[0m         \u001b[0mfilters\u001b[0m\u001b[1;33m.\u001b[0m\u001b[1;33m\u001b[0m\u001b[1;33m\u001b[0m\u001b[0m\n\u001b[0;32m    858\u001b[0m         \"\"\"\n\u001b[1;32m--> 859\u001b[1;33m         \u001b[0mself\u001b[0m\u001b[1;33m.\u001b[0m\u001b[0msource\u001b[0m \u001b[1;33m=\u001b[0m \u001b[0mself\u001b[0m\u001b[1;33m.\u001b[0m\u001b[0m_source_function\u001b[0m\u001b[1;33m(\u001b[0m\u001b[1;33m*\u001b[0m\u001b[0margs\u001b[0m\u001b[1;33m,\u001b[0m \u001b[1;33m**\u001b[0m\u001b[0mkwargs\u001b[0m\u001b[1;33m)\u001b[0m\u001b[1;33m\u001b[0m\u001b[1;33m\u001b[0m\u001b[0m\n\u001b[0m\u001b[0;32m    860\u001b[0m         \u001b[0mkwargs\u001b[0m\u001b[1;33m.\u001b[0m\u001b[0mpop\u001b[0m\u001b[1;33m(\u001b[0m\u001b[1;34m'name'\u001b[0m\u001b[1;33m,\u001b[0m \u001b[1;32mNone\u001b[0m\u001b[1;33m)\u001b[0m\u001b[1;33m\u001b[0m\u001b[1;33m\u001b[0m\u001b[0m\n\u001b[0;32m    861\u001b[0m         \u001b[0mself\u001b[0m\u001b[1;33m.\u001b[0m\u001b[0mstore_kwargs\u001b[0m\u001b[1;33m(\u001b[0m\u001b[0mkwargs\u001b[0m\u001b[1;33m)\u001b[0m\u001b[1;33m\u001b[0m\u001b[1;33m\u001b[0m\u001b[0m\n",
      "\u001b[1;32mc:\\Users\\yig319\\Anaconda3\\envs\\afm\\lib\\site-packages\\mayavi\\tools\\sources.py\u001b[0m in \u001b[0;36mgrid_source\u001b[1;34m(x, y, z, **kwargs)\u001b[0m\n\u001b[0;32m   1295\u001b[0m     \u001b[0mx\u001b[0m\u001b[1;33m,\u001b[0m \u001b[0my\u001b[0m\u001b[1;33m,\u001b[0m \u001b[0mz\u001b[0m\u001b[1;33m,\u001b[0m \u001b[0mscalars\u001b[0m \u001b[1;33m=\u001b[0m \u001b[0mconvert_to_arrays\u001b[0m\u001b[1;33m(\u001b[0m\u001b[1;33m(\u001b[0m\u001b[0mx\u001b[0m\u001b[1;33m,\u001b[0m \u001b[0my\u001b[0m\u001b[1;33m,\u001b[0m \u001b[0mz\u001b[0m\u001b[1;33m,\u001b[0m \u001b[0mscalars\u001b[0m\u001b[1;33m)\u001b[0m\u001b[1;33m)\u001b[0m\u001b[1;33m\u001b[0m\u001b[1;33m\u001b[0m\u001b[0m\n\u001b[0;32m   1296\u001b[0m     \u001b[0mdata_source\u001b[0m \u001b[1;33m=\u001b[0m \u001b[0mMGridSource\u001b[0m\u001b[1;33m(\u001b[0m\u001b[1;33m)\u001b[0m\u001b[1;33m\u001b[0m\u001b[1;33m\u001b[0m\u001b[0m\n\u001b[1;32m-> 1297\u001b[1;33m     \u001b[0mdata_source\u001b[0m\u001b[1;33m.\u001b[0m\u001b[0mreset\u001b[0m\u001b[1;33m(\u001b[0m\u001b[0mx\u001b[0m\u001b[1;33m=\u001b[0m\u001b[0mx\u001b[0m\u001b[1;33m,\u001b[0m \u001b[0my\u001b[0m\u001b[1;33m=\u001b[0m\u001b[0my\u001b[0m\u001b[1;33m,\u001b[0m \u001b[0mz\u001b[0m\u001b[1;33m=\u001b[0m\u001b[0mz\u001b[0m\u001b[1;33m,\u001b[0m \u001b[0mscalars\u001b[0m\u001b[1;33m=\u001b[0m\u001b[0mscalars\u001b[0m\u001b[1;33m,\u001b[0m \u001b[0mmask\u001b[0m\u001b[1;33m=\u001b[0m\u001b[0mmask\u001b[0m\u001b[1;33m)\u001b[0m\u001b[1;33m\u001b[0m\u001b[1;33m\u001b[0m\u001b[0m\n\u001b[0m\u001b[0;32m   1298\u001b[0m \u001b[1;33m\u001b[0m\u001b[0m\n\u001b[0;32m   1299\u001b[0m     \u001b[0mname\u001b[0m \u001b[1;33m=\u001b[0m \u001b[0mkwargs\u001b[0m\u001b[1;33m.\u001b[0m\u001b[0mpop\u001b[0m\u001b[1;33m(\u001b[0m\u001b[1;34m'name'\u001b[0m\u001b[1;33m,\u001b[0m \u001b[1;34m'GridSource'\u001b[0m\u001b[1;33m)\u001b[0m\u001b[1;33m\u001b[0m\u001b[1;33m\u001b[0m\u001b[0m\n",
      "\u001b[1;32mc:\\Users\\yig319\\Anaconda3\\envs\\afm\\lib\\site-packages\\mayavi\\tools\\sources.py\u001b[0m in \u001b[0;36mreset\u001b[1;34m(self, **traits)\u001b[0m\n\u001b[0;32m    692\u001b[0m             \u001b[0mself\u001b[0m\u001b[1;33m.\u001b[0m\u001b[0mtrait_set\u001b[0m\u001b[1;33m(\u001b[0m\u001b[0mscalars\u001b[0m\u001b[1;33m=\u001b[0m\u001b[0mscalars\u001b[0m\u001b[1;33m,\u001b[0m \u001b[0mtrait_change_notify\u001b[0m\u001b[1;33m=\u001b[0m\u001b[1;32mFalse\u001b[0m\u001b[1;33m)\u001b[0m\u001b[1;33m\u001b[0m\u001b[1;33m\u001b[0m\u001b[0m\n\u001b[0;32m    693\u001b[0m \u001b[1;33m\u001b[0m\u001b[0m\n\u001b[1;32m--> 694\u001b[1;33m         \u001b[1;32massert\u001b[0m \u001b[0mlen\u001b[0m\u001b[1;33m(\u001b[0m\u001b[0mx\u001b[0m\u001b[1;33m.\u001b[0m\u001b[0mshape\u001b[0m\u001b[1;33m)\u001b[0m \u001b[1;33m==\u001b[0m \u001b[1;36m2\u001b[0m\u001b[1;33m,\u001b[0m \u001b[1;34m\"Array x must be 2 dimensional.\"\u001b[0m\u001b[1;33m\u001b[0m\u001b[1;33m\u001b[0m\u001b[0m\n\u001b[0m\u001b[0;32m    695\u001b[0m         \u001b[1;32massert\u001b[0m \u001b[0mlen\u001b[0m\u001b[1;33m(\u001b[0m\u001b[0my\u001b[0m\u001b[1;33m.\u001b[0m\u001b[0mshape\u001b[0m\u001b[1;33m)\u001b[0m \u001b[1;33m==\u001b[0m \u001b[1;36m2\u001b[0m\u001b[1;33m,\u001b[0m \u001b[1;34m\"Array y must be 2 dimensional.\"\u001b[0m\u001b[1;33m\u001b[0m\u001b[1;33m\u001b[0m\u001b[0m\n\u001b[0;32m    696\u001b[0m         \u001b[1;32massert\u001b[0m \u001b[0mlen\u001b[0m\u001b[1;33m(\u001b[0m\u001b[0mz\u001b[0m\u001b[1;33m.\u001b[0m\u001b[0mshape\u001b[0m\u001b[1;33m)\u001b[0m \u001b[1;33m==\u001b[0m \u001b[1;36m2\u001b[0m\u001b[1;33m,\u001b[0m \u001b[1;34m\"Array z must be 2 dimensional.\"\u001b[0m\u001b[1;33m\u001b[0m\u001b[1;33m\u001b[0m\u001b[0m\n",
      "\u001b[1;31mAssertionError\u001b[0m: Array x must be 2 dimensional."
     ]
    }
   ],
   "source": [
    "mlab.mesh(X, Y, Z, color=(1, 0, 0))\n",
    "mlab.show()"
   ]
  },
  {
   "cell_type": "code",
   "execution_count": null,
   "metadata": {},
   "outputs": [],
   "source": []
  },
  {
   "cell_type": "code",
   "execution_count": null,
   "metadata": {},
   "outputs": [],
   "source": []
  },
  {
   "cell_type": "code",
   "execution_count": null,
   "metadata": {},
   "outputs": [],
   "source": []
  },
  {
   "cell_type": "code",
   "execution_count": null,
   "metadata": {},
   "outputs": [],
   "source": []
  },
  {
   "cell_type": "code",
   "execution_count": null,
   "metadata": {},
   "outputs": [],
   "source": [
    "draw_surface(x=(2,5), y=(2,5), z=1, color=(44/255,162/255,95/255))\n",
    "mlab.show()    "
   ]
  },
  {
   "cell_type": "code",
   "execution_count": null,
   "metadata": {},
   "outputs": [],
   "source": []
  },
  {
   "cell_type": "code",
   "execution_count": 6,
   "metadata": {},
   "outputs": [
    {
     "data": {
      "text/plain": [
       "<mayavi.modules.surface.Surface at 0x2386308a348>"
      ]
     },
     "execution_count": 6,
     "metadata": {},
     "output_type": "execute_result"
    }
   ],
   "source": [
    "import numpy\n",
    "from mayavi.mlab import *\n",
    "\n",
    "def test_mesh():\n",
    "    \"\"\"A very pretty picture of spherical harmonics translated from\n",
    "    the octaviz example.\"\"\"\n",
    "    pi = np.pi\n",
    "    cos = np.cos\n",
    "    sin = np.sin\n",
    "    dphi, dtheta = pi / 250.0, pi / 250.0\n",
    "    [phi, theta] = np.mgrid[0:pi + dphi * 1.5:dphi,\n",
    "                            0:2 * pi + dtheta * 1.5:dtheta]\n",
    "    m0 = 4\n",
    "    m1 = 3\n",
    "    m2 = 2\n",
    "    m3 = 3\n",
    "    m4 = 6\n",
    "    m5 = 2\n",
    "    m6 = 6\n",
    "    m7 = 4\n",
    "    r = sin(m0 * phi) ** m1 + cos(m2 * phi) ** m3 + \\\n",
    "        sin(m4 * theta) ** m5 + cos(m6 * theta) ** m7\n",
    "    x = r * sin(phi) * cos(theta)\n",
    "    y = r * cos(phi)\n",
    "    z = r * sin(phi) * sin(theta)\n",
    "\n",
    "    return mesh(x, y, z, colormap=\"bone\")\n",
    "test_mesh()"
   ]
  },
  {
   "cell_type": "code",
   "execution_count": null,
   "metadata": {},
   "outputs": [],
   "source": []
  },
  {
   "cell_type": "code",
   "execution_count": null,
   "metadata": {},
   "outputs": [],
   "source": []
  },
  {
   "cell_type": "code",
   "execution_count": null,
   "metadata": {},
   "outputs": [],
   "source": []
  },
  {
   "cell_type": "code",
   "execution_count": null,
   "metadata": {},
   "outputs": [],
   "source": []
  },
  {
   "cell_type": "code",
   "execution_count": 15,
   "metadata": {},
   "outputs": [
    {
     "data": {
      "text/plain": [
       "<mpl_toolkits.mplot3d.art3d.Path3DCollection at 0x283342ddf88>"
      ]
     },
     "execution_count": 15,
     "metadata": {},
     "output_type": "execute_result"
    },
    {
     "data": {
      "image/png": "[encoded data removed]",
      "text/plain": [
       "<Figure size 640x480 with 1 Axes>"
      ]
     },
     "metadata": {},
     "output_type": "display_data"
    }
   ],
   "source": [
    "num_planes = 5\n",
    "z_step = 1\n",
    "points = [(i, 0, 0) if i % (2 * z_step) == 0 else (i, 0, 1) for i in range(0, (num_planes+1) * z_step, z_step)]\n",
    "points = np.array(points)\n",
    "fig = plt.figure()\n",
    "ax = fig.add_subplot(projection='3d')\n",
    "ax.scatter(points[:,0], points[:,1], points[:,2], marker='o')"
   ]
  },
  {
   "cell_type": "code",
   "execution_count": null,
   "metadata": {},
   "outputs": [],
   "source": []
  },
  {
   "cell_type": "code",
   "execution_count": 11,
   "metadata": {},
   "outputs": [
    {
     "name": "stdout",
     "output_type": "stream",
     "text": [
      "[[0 0 0]\n",
      " [1 0 1]\n",
      " [2 0 0]\n",
      " [3 0 1]\n",
      " [4 0 0]\n",
      " [5 0 1]\n",
      " [6 0 0]\n",
      " [7 0 1]]\n"
     ]
    }
   ],
   "source": [
    "num_points = 8\n",
    "z_step = 1\n",
    "\n",
    "points = [(i, 0, 0) if i % (2 * z_step) == 0 else (i, 0, 1) for i in range(0, num_points * z_step, z_step)]\n",
    "points = np.array(points)\n",
    "\n",
    "print(points)"
   ]
  },
  {
   "cell_type": "code",
   "execution_count": 12,
   "metadata": {},
   "outputs": [
    {
     "data": {
      "text/plain": [
       "[<matplotlib.lines.Line2D at 0x283330d3f88>]"
      ]
     },
     "execution_count": 12,
     "metadata": {},
     "output_type": "execute_result"
    },
    {
     "data": {
      "image/png": "[encoded data removed]",
      "text/plain": [
       "<Figure size 640x480 with 1 Axes>"
      ]
     },
     "metadata": {},
     "output_type": "display_data"
    }
   ],
   "source": [
    "points = np.array(points)\n",
    "\n",
    "plt.plot(points[:,2])"
   ]
  },
  {
   "cell_type": "code",
   "execution_count": null,
   "metadata": {},
   "outputs": [],
   "source": []
  },
  {
   "cell_type": "code",
   "execution_count": null,
   "metadata": {},
   "outputs": [],
   "source": []
  },
  {
   "cell_type": "code",
   "execution_count": 1,
   "id": "a96f6fe3",
   "metadata": {},
   "outputs": [],
   "source": [
    "from mayavi import mlab\n",
    "\n",
    "# Define the dimensions of the rectangle\n",
    "length_x = 1\n",
    "length_y = 15\n",
    "length_z = 1\n",
    "\n",
    "# Create a 3D rectangle using plot3d\n",
    "mlab.figure(size=(800, 600))\n",
    "mlab.plot3d([0, length_x, length_x, 0, 0, 0, length_x, length_x, 0, 0, 0, length_x],\n",
    "            [0, 0, 0, 0, 0, length_y, length_y, length_y, length_y, length_y, 0, 0],\n",
    "            [0, 0, length_z, length_z, 0, 0, 0, length_z, length_z, 0, 0, 0],\n",
    "            color=(1, 0, 0), tube_radius=0.05)\n",
    "\n",
    "mlab.view(azimuth=45, elevation=45)\n",
    "mlab.show()"
   ]
  },
  {
   "cell_type": "code",
   "execution_count": null,
   "id": "110138f0",
   "metadata": {},
   "outputs": [],
   "source": []
  },
  {
   "cell_type": "code",
   "execution_count": null,
   "id": "57a4fcc7",
   "metadata": {},
   "outputs": [],
   "source": []
  },
  {
   "cell_type": "code",
   "execution_count": null,
   "id": "d8f890ba",
   "metadata": {},
   "outputs": [],
   "source": []
  },
  {
   "cell_type": "code",
   "execution_count": 23,
   "id": "67a5994a",
   "metadata": {},
   "outputs": [],
   "source": [
    "import numpy as np\n",
    "from mayavi import mlab\n",
    "\n",
    "# Define the coordinates of the vertices\n",
    "vertices = np.array([\n",
    "    [0, 0, 0],\n",
    "    [1, 0, 0],\n",
    "    [1, 5, 0],  # Adjust the y-coordinate to set the desired length\n",
    "    [0.8, 5.2, 0],  # Adjust the y-coordinate\n",
    "    [0.2, 5.2, 0],  # Adjust the y-coordinate\n",
    "    [0, 5, 0],  # Adjust the y-coordinate\n",
    "    [0, 0, 1],\n",
    "    [1, 0, 1],\n",
    "    [1, 5, 1],  # Adjust the y-coordinate\n",
    "    [0.8, 5.2, 1],  # Adjust the y-coordinate\n",
    "    [0.2, 5.2, 1],  # Adjust the y-coordinate\n",
    "    [0, 5, 1]  # Adjust the y-coordinate\n",
    "])\n",
    "\n",
    "# Define the edges that connect the vertices to create the rectangular shape\n",
    "edges = [\n",
    "    (0, 1), (1, 2), (2, 3), (3, 4), (4, 5), (5, 0),\n",
    "    (0, 6), (1, 7), (2, 8), (3, 9), (4, 10), (5, 11),\n",
    "    (6, 7), (7, 8), (8, 9), (9, 10), (10, 11), (11, 6)\n",
    "]\n",
    "\n",
    "# Create a figure\n",
    "fig = mlab.figure()\n",
    "\n",
    "# Plot the edges\n",
    "for edge in edges:\n",
    "    mlab.plot3d(\n",
    "        vertices[edge, 0],\n",
    "        vertices[edge, 1],\n",
    "        vertices[edge, 2],\n",
    "        tube_radius=0.02, color=(1, 0, 0)  # You can adjust tube_radius and color\n",
    "    )\n",
    "\n",
    "# Show the plot\n",
    "mlab.show()\n"
   ]
  },
  {
   "cell_type": "code",
   "execution_count": null,
   "id": "5960dbca",
   "metadata": {},
   "outputs": [],
   "source": [
    "import numpy as np\n",
    "\n",
    "# Define the number of points and the zigzag pattern parameters\n",
    "num_points = 50\n",
    "amplitude = 1.0\n",
    "frequency = 2.0\n",
    "\n",
    "# Create a list of points in 3D space\n",
    "z_values = np.linspace(0, 10, num_points)\n",
    "x_values = amplitude * np.sin(frequency * z_values)\n",
    "y_values = amplitude * np.cos(frequency * z_values)\n",
    "\n",
    "# Combine x, y, and z values to form a list of 3D points\n",
    "points = list(zip(x_values, y_values, z_values))\n",
    "\n",
    "print(points)"
   ]
  },
  {
   "cell_type": "code",
   "execution_count": null,
   "id": "579d3230",
   "metadata": {},
   "outputs": [],
   "source": []
  },
  {
   "cell_type": "code",
   "execution_count": 4,
   "id": "9a5fb816",
   "metadata": {},
   "outputs": [],
   "source": [
    "import numpy as np\n",
    "from mayavi import mlab\n",
    "\n",
    "def draw_3d_rec(vertices, color=(0,0,0), tube_radius=0.02):\n",
    "    \n",
    "    '''\n",
    "    points = np.array([[0, 0, 0], [1, 0, 0], [1, 1, 0], [0, 1, 0], [0, 0, 1], [1, 0, 1], [1, 1, 1], [0, 1, 1]]) for square\n",
    "    '''\n",
    "    edges = [\n",
    "        (0, 1), (1, 2), (2, 3), (3, 0),\n",
    "        (4, 5), (5, 6), (6, 7), (7, 4),\n",
    "        (0, 4), (1, 5), (2, 6), (3, 7)\n",
    "    ]\n",
    "\n",
    "    fig = mlab.figure(size = (1024,768), bgcolor = (1,1,1), fgcolor = (146/255,197/255,222/255))\n",
    "    for edge in edges:\n",
    "        mlab.plot3d(\n",
    "            vertices[edge, 0],\n",
    "            vertices[edge, 1],\n",
    "            vertices[edge, 2],\n",
    "            tube_radius=tube_radius, color=color  # You can adjust tube_radius and color\n",
    "        )\n",
    "    mlab.show() "
   ]
  },
  {
   "cell_type": "code",
   "execution_count": 19,
   "id": "dc046a21",
   "metadata": {},
   "outputs": [],
   "source": [
    "v = np.array([[0, 0, 0], [1, 0, 0], [1, 5, 0], [0, 5, 0], [0, 0, 5], [1, 0, 5], [1, 5, 5], [0, 5, 5]])\n",
    "draw_3d_rec(v, color=(44/255,162/255,95/255), tube_radius=0.02)"
   ]
  },
  {
   "cell_type": "code",
   "execution_count": 21,
   "id": "115275f8",
   "metadata": {},
   "outputs": [
    {
     "data": {
      "text/plain": [
       "array([1., 1.])"
      ]
     },
     "execution_count": 21,
     "metadata": {},
     "output_type": "execute_result"
    }
   ],
   "source": [
    "vertices[edge, 1]"
   ]
  },
  {
   "cell_type": "code",
   "execution_count": 22,
   "id": "3e416df2",
   "metadata": {},
   "outputs": [
    {
     "data": {
      "text/plain": [
       "[(0, 1),\n",
       " (1, 2),\n",
       " (2, 3),\n",
       " (3, 4),\n",
       " (4, 5),\n",
       " (5, 0),\n",
       " (0, 6),\n",
       " (1, 7),\n",
       " (2, 8),\n",
       " (3, 9),\n",
       " (4, 10),\n",
       " (5, 11),\n",
       " (6, 7),\n",
       " (7, 8),\n",
       " (8, 9),\n",
       " (9, 10),\n",
       " (10, 11),\n",
       " (11, 6)]"
      ]
     },
     "execution_count": 22,
     "metadata": {},
     "output_type": "execute_result"
    }
   ],
   "source": [
    "edge"
   ]
  },
  {
   "cell_type": "code",
   "execution_count": null,
   "id": "243965b8",
   "metadata": {},
   "outputs": [],
   "source": []
  },
  {
   "cell_type": "code",
   "execution_count": null,
   "id": "39d70c8c",
   "metadata": {},
   "outputs": [],
   "source": []
  },
  {
   "cell_type": "code",
   "execution_count": 3,
   "id": "fba8b6bc",
   "metadata": {},
   "outputs": [],
   "source": [
    "import numpy as np\n",
    "from mayavi import mlab\n",
    "\n",
    "# Define the coordinates of the vertices\n",
    "vertices = np.array([\n",
    "    [0, 0, 0],\n",
    "    [1, 0, 0],\n",
    "    [1, 1, 0],\n",
    "    [0, 1, 0],\n",
    "    [0, 0, 1],\n",
    "    [1, 0, 1],\n",
    "    [1, 1, 1],\n",
    "    [0, 1, 1]\n",
    "])\n",
    "\n",
    "# Define the edges that connect the vertices to form the rectangle\n",
    "edges = [\n",
    "    (0, 1), (1, 2), (2, 3), (3, 0),\n",
    "    (4, 5), (5, 6), (6, 7), (7, 4),\n",
    "    (0, 4), (1, 5), (2, 6), (3, 7)\n",
    "]\n",
    "\n",
    "# Create a figure\n",
    "fig = mlab.figure()\n",
    "\n",
    "# Plot the edges\n",
    "for edge in edges:\n",
    "    mlab.plot3d(\n",
    "        vertices[edge, 0],\n",
    "        vertices[edge, 1],\n",
    "        vertices[edge, 2],\n",
    "        tube_radius=0.02, color=(1, 0, 0)  # You can adjust tube_radius and color\n",
    "    )\n",
    "\n",
    "# Show the plot\n",
    "mlab.show()"
   ]
  },
  {
   "cell_type": "code",
   "execution_count": null,
   "id": "d7747c30",
   "metadata": {},
   "outputs": [],
   "source": []
  },
  {
   "cell_type": "code",
   "execution_count": null,
   "id": "1cbb4088",
   "metadata": {},
   "outputs": [],
   "source": []
  },
  {
   "cell_type": "code",
   "execution_count": 6,
   "id": "fca303d9",
   "metadata": {},
   "outputs": [],
   "source": [
    "import numpy as np\n",
    "from mayavi import mlab\n",
    "# mlab.init_notebook('x3d')\n",
    "# mlab.options.offscreen = True\n",
    "import matplotlib.pyplot as plt\n",
    "\n",
    "def draw_surface(x, y, z, color):\n",
    "    if type(z) == int: \n",
    "        x_ = np.linspace(x[0], x[1], 10)\n",
    "        y_ = np.linspace(y[0], y[1], 10) \n",
    "        xx, yy = np.meshgrid(x_, y_)\n",
    "        zz = np.ones((xx.shape[0], xx.shape[1]))*z\n",
    "    if type(x) == int: \n",
    "        y_ = np.linspace(y[0], y[1], 10)    \n",
    "        z_ = np.linspace(z[0], z[1], 10)    \n",
    "        yy, zz = np.meshgrid(y_, z_)\n",
    "        xx = np.ones((yy.shape[0], yy.shape[1]))*x\n",
    "    if type(y) == int: \n",
    "        x_ = np.linspace(x[0], x[1], 10)    \n",
    "        z_ = np.linspace(z[0], z[1], 10)    \n",
    "        xx, zz = np.meshgrid(x_, z_)\n",
    "        yy = np.ones((zz.shape[0], zz.shape[1]))*y\n",
    "    mlab.mesh(xx, yy, zz, color=color)\n",
    "     \n",
    "def draw_box(xrange, yrange, zrange, color):\n",
    "    draw_surface((xrange[0], xrange[1]), (yrange[0], yrange[1]), zrange[0], color)\n",
    "    draw_surface((xrange[0], xrange[1]), (yrange[0], yrange[1]), zrange[1], color)\n",
    "    draw_surface((xrange[0], xrange[1]), yrange[0], (zrange[0], zrange[1]), color)\n",
    "    draw_surface((xrange[0], xrange[1]), yrange[1], (zrange[0], zrange[1]), color)\n",
    "    draw_surface(xrange[0], (yrange[0], yrange[1]), (zrange[0], zrange[1]), color)\n",
    "    draw_surface(xrange[1], (yrange[0], yrange[1]), (zrange[0], zrange[1]), color)\n",
    "    \n",
    "def sphere_to_surface(xrange, yrange, z, n, size, layers=1):\n",
    "    x1 = np.random.randint(xrange[0]+size, xrange[1]-size//2, size=n)\n",
    "    y1 = np.random.randint(yrange[0]+size, yrange[1]-size//2, size=n)\n",
    "    z1 = np.ones(y1.shape)*z\n",
    "    mlab.points3d(x1, y1, z1, scale_factor=size)\n",
    "    \n",
    "    if layers == 2:\n",
    "        x2 = np.random.randint(xrange[0]+size, xrange[1]-size//2, size=n)\n",
    "        y2 = np.random.randint(yrange[0]+size, yrange[1]-size//2, size=n)\n",
    "        x2_new, y2_new = [], []\n",
    "        for i in range(len(x2)):\n",
    "            for j in range(len(x1)):\n",
    "                if x2[i]==x1[j] and y2[i]==y1[j]:\n",
    "                    x2_new.append(x2[i])\n",
    "                    y2_new.append(y2[i])\n",
    "    #     print(x2_new)\n",
    "        if len(x2_new) > 1:\n",
    "            x2_new = np.array(x2_new)\n",
    "            y2_new = np.array(y2_new)\n",
    "            z2 = np.ones(y2_new.shape)*(z+1)\n",
    "            mlab.points3d(x2_new, y2_new, z2, scale_factor=size)import numpy as np\n",
    "from mayavi import mlab\n",
    "# mlab.init_notebook('x3d')\n",
    "# mlab.options.offscreen = True\n",
    "import matplotlib.pyplot as plt\n",
    "\n",
    "def draw_surface(x, y, z, color):\n",
    "    if type(z) == int: \n",
    "        x_ = np.linspace(x[0], x[1], 10)\n",
    "        y_ = np.linspace(y[0], y[1], 10) \n",
    "        xx, yy = np.meshgrid(x_, y_)\n",
    "        zz = np.ones((xx.shape[0], xx.shape[1]))*z\n",
    "    if type(x) == int: \n",
    "        y_ = np.linspace(y[0], y[1], 10)    \n",
    "        z_ = np.linspace(z[0], z[1], 10)    \n",
    "        yy, zz = np.meshgrid(y_, z_)\n",
    "        xx = np.ones((yy.shape[0], yy.shape[1]))*x\n",
    "    if type(y) == int: \n",
    "        x_ = np.linspace(x[0], x[1], 10)    \n",
    "        z_ = np.linspace(z[0], z[1], 10)    \n",
    "        xx, zz = np.meshgrid(x_, z_)\n",
    "        yy = np.ones((zz.shape[0], zz.shape[1]))*y\n",
    "    mlab.mesh(xx, yy, zz, color=color)\n",
    "     \n",
    "def draw_box(xrange, yrange, zrange, color):\n",
    "    draw_surface((xrange[0], xrange[1]), (yrange[0], yrange[1]), zrange[0], color)\n",
    "    draw_surface((xrange[0], xrange[1]), (yrange[0], yrange[1]), zrange[1], color)\n",
    "    draw_surface((xrange[0], xrange[1]), yrange[0], (zrange[0], zrange[1]), color)\n",
    "    draw_surface((xrange[0], xrange[1]), yrange[1], (zrange[0], zrange[1]), color)\n",
    "    draw_surface(xrange[0], (yrange[0], yrange[1]), (zrange[0], zrange[1]), color)\n",
    "    draw_surface(xrange[1], (yrange[0], yrange[1]), (zrange[0], zrange[1]), color)\n",
    "    \n",
    "def sphere_to_surface(xrange, yrange, z, n, size, layers=1):\n",
    "    x1 = np.random.randint(xrange[0]+size, xrange[1]-size//2, size=n)\n",
    "    y1 = np.random.randint(yrange[0]+size, yrange[1]-size//2, size=n)\n",
    "    z1 = np.ones(y1.shape)*z\n",
    "    mlab.points3d(x1, y1, z1, scale_factor=size)\n",
    "    \n",
    "    if layers == 2:\n",
    "        x2 = np.random.randint(xrange[0]+size, xrange[1]-size//2, size=n)\n",
    "        y2 = np.random.randint(yrange[0]+size, yrange[1]-size//2, size=n)\n",
    "        x2_new, y2_new = [], []\n",
    "        for i in range(len(x2)):\n",
    "            for j in range(len(x1)):\n",
    "                if x2[i]==x1[j] and y2[i]==y1[j]:\n",
    "                    x2_new.append(x2[i])\n",
    "                    y2_new.append(y2[i])\n",
    "    #     print(x2_new)\n",
    "        if len(x2_new) > 1:\n",
    "            x2_new = np.array(x2_new)\n",
    "            y2_new = np.array(y2_new)\n",
    "            z2 = np.ones(y2_new.shape)*(z+1)\n",
    "            mlab.points3d(x2_new, y2_new, z2, scale_factor=size)"
   ]
  },
  {
   "cell_type": "code",
   "execution_count": 13,
   "id": "3ec1b882",
   "metadata": {},
   "outputs": [],
   "source": [
    "size = 1\n",
    "mlab.figure(size = (1024,768), bgcolor = (1,1,1), fgcolor = (146/255,197/255,222/255)) \n",
    "\n",
    "draw_box(xrange=(0, 30), yrange=(0, 30), zrange=(0, 2), color=(44/255,162/255,95/255))\n",
    "\n",
    "mlab.show()    "
   ]
  },
  {
   "cell_type": "code",
   "execution_count": null,
   "id": "29dca7a3",
   "metadata": {},
   "outputs": [],
   "source": []
  },
  {
   "cell_type": "code",
   "execution_count": 5,
   "id": "1c0d1aea",
   "metadata": {},
   "outputs": [],
   "source": [
    "n_list = [5, 30, 100, 300, 1000]\n",
    "filename_list = ['3d_growth_model/stage_0.png', '3d_growth_model/stage_1.png', '3d_growth_model/stage_2.png', \n",
    "             '3d_growth_model/stage_3.png', '3d_growth_model/stage_4.png']\n",
    "for n, filename in zip(n_list, filename_list):\n",
    "    size = 1\n",
    "    mlab.figure(size = (1024,768), bgcolor = (1,1,1), fgcolor = (146/255,197/255,222/255))\n",
    "#     mlab.figure(size = (1024,768), fgcolor = (146/255,197/255,222/255))\n",
    "    \n",
    "    draw_box(xrange=(0, 10), yrange=(0, 30), zrange=(4, 6), color=(229/255,245/255,249/255))\n",
    "    sphere_to_surface(xrange=(0, 10), yrange=(0, 30), z=6, n=n, size=size)\n",
    "\n",
    "    draw_box(xrange=(0, 20), yrange=(0, 30), zrange=(2, 4), color=(153/255,216/255,201/255))\n",
    "    sphere_to_surface(xrange=(10, 20), yrange=(0, 30), z=4, n=n, size=size)\n",
    "\n",
    "    draw_box(xrange=(0, 30), yrange=(0, 30), zrange=(0, 2), color=(44/255,162/255,95/255))\n",
    "    sphere_to_surface(xrange=(20, 30), yrange=(0, 30), z=2, n=n, size=size)\n",
    "\n",
    "    # mlab.savefig(filename)\n",
    "    mlab.show()    "
   ]
  },
  {
   "cell_type": "code",
   "execution_count": null,
   "id": "6d9964e7",
   "metadata": {},
   "outputs": [],
   "source": []
  },
  {
   "cell_type": "code",
   "execution_count": null,
   "id": "ec7a2370",
   "metadata": {},
   "outputs": [],
   "source": []
  },
  {
   "cell_type": "code",
   "execution_count": 10,
   "id": "59035d18",
   "metadata": {},
   "outputs": [],
   "source": [
    "n = 5\n",
    "filename = '3d_growth_model/stage_0.png'\n",
    "\n",
    "fig = mlab.figure(size = (1024,768), fgcolor = (146/255,197/255,222/255))\n",
    "\n",
    "draw_box(xrange=(0, 10), yrange=(0, 30), zrange=(4, 6), color=(229/255,245/255,249/255))\n",
    "sphere_to_surface(xrange=(0, 10), yrange=(0, 30), z=6, n=n, size=1)\n",
    "\n",
    "f = mlab.gcf()\n",
    "f.scene._lift()\n",
    "arr = mlab.screenshot()"
   ]
  },
  {
   "cell_type": "code",
   "execution_count": 11,
   "id": "39cdbd4a",
   "metadata": {},
   "outputs": [],
   "source": [
    "mlab.close(all=True)"
   ]
  },
  {
   "cell_type": "code",
   "execution_count": 12,
   "id": "5742fb36",
   "metadata": {},
   "outputs": [
    {
     "data": {
      "text/plain": [
       "(718, 1024, 3)"
      ]
     },
     "execution_count": 12,
     "metadata": {},
     "output_type": "execute_result"
    }
   ],
   "source": [
    "arr.shape"
   ]
  },
  {
   "cell_type": "code",
   "execution_count": 15,
   "id": "2da06448",
   "metadata": {},
   "outputs": [
    {
     "data": {
      "image/png": "[encoded data removed]",
      "text/plain": [
       "<Figure size 432x288 with 1 Axes>"
      ]
     },
     "metadata": {
      "needs_background": "light"
     },
     "output_type": "display_data"
    }
   ],
   "source": [
    "plt.imshow(arr)\n",
    "plt.savefig('test.svg')\n",
    "plt.show()"
   ]
  },
  {
   "cell_type": "code",
   "execution_count": null,
   "id": "c7006fdc",
   "metadata": {},
   "outputs": [],
   "source": []
  },
  {
   "cell_type": "code",
   "execution_count": null,
   "id": "fe35cc0a",
   "metadata": {},
   "outputs": [],
   "source": []
  },
  {
   "cell_type": "code",
   "execution_count": null,
   "id": "eebba941",
   "metadata": {},
   "outputs": [],
   "source": []
  },
  {
   "cell_type": "code",
   "execution_count": 16,
   "id": "a46f547f",
   "metadata": {},
   "outputs": [],
   "source": [
    "n_list = [5, 30, 100, 300, 1000]\n",
    "filename_list = ['3d_growth_model/stage_0.png', '3d_growth_model/stage_1.png', '3d_growth_model/stage_2.png', \n",
    "             '3d_growth_model/stage_3.png', '3d_growth_model/stage_4.png']\n",
    "for n, filename in zip(n_list, filename_list):\n",
    "    size = 1\n",
    "    mlab.figure(size = (1024,768), bgcolor = (1,1,1), fgcolor = (146/255,197/255,222/255))\n",
    "#     mlab.figure(size = (1024,768), fgcolor = (146/255,197/255,222/255))\n",
    "    \n",
    "    draw_box(xrange=(0, 10), yrange=(0, 30), zrange=(4, 6), color=(229/255,245/255,249/255))\n",
    "    sphere_to_surface(xrange=(0, 10), yrange=(0, 30), z=6, n=n, size=size)\n",
    "\n",
    "    draw_box(xrange=(0, 20), yrange=(0, 30), zrange=(2, 4), color=(153/255,216/255,201/255))\n",
    "    sphere_to_surface(xrange=(10, 20), yrange=(0, 30), z=4, n=n, size=size)\n",
    "\n",
    "    draw_box(xrange=(0, 30), yrange=(0, 30), zrange=(0, 2), color=(44/255,162/255,95/255))\n",
    "    sphere_to_surface(xrange=(20, 30), yrange=(0, 30), z=2, n=n, size=size)\n",
    "\n",
    "    mlab.savefig(filename)\n",
    "    mlab.show()    "
   ]
  },
  {
   "cell_type": "code",
   "execution_count": 20,
   "id": "71ace321",
   "metadata": {},
   "outputs": [],
   "source": [
    "mlab.close(all=True)"
   ]
  },
  {
   "cell_type": "code",
   "execution_count": 1,
   "id": "5db23a0a",
   "metadata": {},
   "outputs": [
    {
     "ename": "NameError",
     "evalue": "name 'mlab' is not defined",
     "output_type": "error",
     "traceback": [
      "\u001b[0;31m---------------------------------------------------------------------------\u001b[0m",
      "\u001b[0;31mNameError\u001b[0m                                 Traceback (most recent call last)",
      "Input \u001b[0;32mIn [1]\u001b[0m, in \u001b[0;36m<cell line: 1>\u001b[0;34m()\u001b[0m\n\u001b[0;32m----> 1\u001b[0m fig \u001b[38;5;241m=\u001b[39m \u001b[43mmlab\u001b[49m\u001b[38;5;241m.\u001b[39mfigure(size \u001b[38;5;241m=\u001b[39m (\u001b[38;5;241m1024\u001b[39m,\u001b[38;5;241m768\u001b[39m), fgcolor \u001b[38;5;241m=\u001b[39m (\u001b[38;5;241m146\u001b[39m\u001b[38;5;241m/\u001b[39m\u001b[38;5;241m255\u001b[39m,\u001b[38;5;241m197\u001b[39m\u001b[38;5;241m/\u001b[39m\u001b[38;5;241m255\u001b[39m,\u001b[38;5;241m222\u001b[39m\u001b[38;5;241m/\u001b[39m\u001b[38;5;241m255\u001b[39m))\n\u001b[1;32m      3\u001b[0m draw_box(xrange\u001b[38;5;241m=\u001b[39m(\u001b[38;5;241m0\u001b[39m, \u001b[38;5;241m10\u001b[39m), yrange\u001b[38;5;241m=\u001b[39m(\u001b[38;5;241m0\u001b[39m, \u001b[38;5;241m30\u001b[39m), zrange\u001b[38;5;241m=\u001b[39m(\u001b[38;5;241m4\u001b[39m, \u001b[38;5;241m6\u001b[39m), color\u001b[38;5;241m=\u001b[39m(\u001b[38;5;241m229\u001b[39m\u001b[38;5;241m/\u001b[39m\u001b[38;5;241m255\u001b[39m,\u001b[38;5;241m245\u001b[39m\u001b[38;5;241m/\u001b[39m\u001b[38;5;241m255\u001b[39m,\u001b[38;5;241m249\u001b[39m\u001b[38;5;241m/\u001b[39m\u001b[38;5;241m255\u001b[39m))\n\u001b[1;32m      4\u001b[0m sphere_to_surface(xrange\u001b[38;5;241m=\u001b[39m(\u001b[38;5;241m0\u001b[39m, \u001b[38;5;241m10\u001b[39m), yrange\u001b[38;5;241m=\u001b[39m(\u001b[38;5;241m0\u001b[39m, \u001b[38;5;241m30\u001b[39m), z\u001b[38;5;241m=\u001b[39m\u001b[38;5;241m6\u001b[39m, n\u001b[38;5;241m=\u001b[39mn, size\u001b[38;5;241m=\u001b[39msize)\n",
      "\u001b[0;31mNameError\u001b[0m: name 'mlab' is not defined"
     ]
    }
   ],
   "source": []
  },
  {
   "cell_type": "code",
   "execution_count": 13,
   "id": "0e46e301",
   "metadata": {},
   "outputs": [
    {
     "ename": "AttributeError",
     "evalue": "'NoneType' object has no attribute 'render_window'",
     "output_type": "error",
     "traceback": [
      "\u001b[0;31m---------------------------------------------------------------------------\u001b[0m",
      "\u001b[0;31mAttributeError\u001b[0m                            Traceback (most recent call last)",
      "Input \u001b[0;32mIn [13]\u001b[0m, in \u001b[0;36m<cell line: 1>\u001b[0;34m()\u001b[0m\n\u001b[0;32m----> 1\u001b[0m imgmap \u001b[38;5;241m=\u001b[39m \u001b[43mmlab\u001b[49m\u001b[38;5;241;43m.\u001b[39;49m\u001b[43mscreenshot\u001b[49m\u001b[43m(\u001b[49m\u001b[43mfigure\u001b[49m\u001b[38;5;241;43m=\u001b[39;49m\u001b[43mfig\u001b[49m\u001b[43m,\u001b[49m\u001b[43m \u001b[49m\u001b[43mmode\u001b[49m\u001b[38;5;241;43m=\u001b[39;49m\u001b[38;5;124;43m'\u001b[39;49m\u001b[38;5;124;43mrgba\u001b[39;49m\u001b[38;5;124;43m'\u001b[39;49m\u001b[43m,\u001b[49m\u001b[43m \u001b[49m\u001b[43mantialiased\u001b[49m\u001b[38;5;241;43m=\u001b[39;49m\u001b[38;5;28;43;01mTrue\u001b[39;49;00m\u001b[43m)\u001b[49m\n",
      "File \u001b[0;32m~/anaconda3/envs/gyc/lib/python3.9/site-packages/mayavi/tools/figure.py:308\u001b[0m, in \u001b[0;36mscreenshot\u001b[0;34m(figure, mode, antialiased)\u001b[0m\n\u001b[1;32m    305\u001b[0m     figure \u001b[38;5;241m=\u001b[39m gcf()\n\u001b[1;32m    306\u001b[0m \u001b[38;5;66;03m# don't use figure.scene.get_size() here because this will be incorrect\u001b[39;00m\n\u001b[1;32m    307\u001b[0m \u001b[38;5;66;03m# for HiDPI systems\u001b[39;00m\n\u001b[0;32m--> 308\u001b[0m x, y \u001b[38;5;241m=\u001b[39m \u001b[38;5;28mtuple\u001b[39m(\u001b[43mfigure\u001b[49m\u001b[38;5;241;43m.\u001b[39;49m\u001b[43mscene\u001b[49m\u001b[38;5;241;43m.\u001b[39;49m\u001b[43mrender_window\u001b[49m\u001b[38;5;241m.\u001b[39msize)\n\u001b[1;32m    310\u001b[0m \u001b[38;5;66;03m# Try to lift the window\u001b[39;00m\n\u001b[1;32m    311\u001b[0m figure\u001b[38;5;241m.\u001b[39mscene\u001b[38;5;241m.\u001b[39m_lift()\n",
      "\u001b[0;31mAttributeError\u001b[0m: 'NoneType' object has no attribute 'render_window'"
     ]
    }
   ],
   "source": [
    "imgmap = mlab.screenshot(figure=fig, mode='rgba', antialiased=True)"
   ]
  },
  {
   "cell_type": "code",
   "execution_count": null,
   "id": "865c633c",
   "metadata": {},
   "outputs": [],
   "source": []
  },
  {
   "cell_type": "code",
   "execution_count": null,
   "id": "b1e9ba12",
   "metadata": {},
   "outputs": [],
   "source": []
  },
  {
   "cell_type": "code",
   "execution_count": 2,
   "id": "6eb34b53",
   "metadata": {},
   "outputs": [
    {
     "ename": "NameError",
     "evalue": "name 'n' is not defined",
     "output_type": "error",
     "traceback": [
      "\u001b[0;31m---------------------------------------------------------------------------\u001b[0m",
      "\u001b[0;31mNameError\u001b[0m                                 Traceback (most recent call last)",
      "Input \u001b[0;32mIn [2]\u001b[0m, in \u001b[0;36m<cell line: 6>\u001b[0;34m()\u001b[0m\n\u001b[1;32m      3\u001b[0m mlab\u001b[38;5;241m.\u001b[39mfigure(size \u001b[38;5;241m=\u001b[39m (\u001b[38;5;241m1024\u001b[39m,\u001b[38;5;241m768\u001b[39m), fgcolor \u001b[38;5;241m=\u001b[39m (\u001b[38;5;241m146\u001b[39m\u001b[38;5;241m/\u001b[39m\u001b[38;5;241m255\u001b[39m,\u001b[38;5;241m197\u001b[39m\u001b[38;5;241m/\u001b[39m\u001b[38;5;241m255\u001b[39m,\u001b[38;5;241m222\u001b[39m\u001b[38;5;241m/\u001b[39m\u001b[38;5;241m255\u001b[39m))\n\u001b[1;32m      5\u001b[0m draw_box(xrange\u001b[38;5;241m=\u001b[39m(\u001b[38;5;241m0\u001b[39m, \u001b[38;5;241m10\u001b[39m), yrange\u001b[38;5;241m=\u001b[39m(\u001b[38;5;241m0\u001b[39m, \u001b[38;5;241m30\u001b[39m), zrange\u001b[38;5;241m=\u001b[39m(\u001b[38;5;241m4\u001b[39m, \u001b[38;5;241m6\u001b[39m), color\u001b[38;5;241m=\u001b[39m(\u001b[38;5;241m229\u001b[39m\u001b[38;5;241m/\u001b[39m\u001b[38;5;241m255\u001b[39m,\u001b[38;5;241m245\u001b[39m\u001b[38;5;241m/\u001b[39m\u001b[38;5;241m255\u001b[39m,\u001b[38;5;241m249\u001b[39m\u001b[38;5;241m/\u001b[39m\u001b[38;5;241m255\u001b[39m))\n\u001b[0;32m----> 6\u001b[0m sphere_to_surface(xrange\u001b[38;5;241m=\u001b[39m(\u001b[38;5;241m0\u001b[39m, \u001b[38;5;241m10\u001b[39m), yrange\u001b[38;5;241m=\u001b[39m(\u001b[38;5;241m0\u001b[39m, \u001b[38;5;241m30\u001b[39m), z\u001b[38;5;241m=\u001b[39m\u001b[38;5;241m6\u001b[39m, n\u001b[38;5;241m=\u001b[39m\u001b[43mn\u001b[49m, size\u001b[38;5;241m=\u001b[39msize)\n\u001b[1;32m      8\u001b[0m draw_box(xrange\u001b[38;5;241m=\u001b[39m(\u001b[38;5;241m0\u001b[39m, \u001b[38;5;241m20\u001b[39m), yrange\u001b[38;5;241m=\u001b[39m(\u001b[38;5;241m0\u001b[39m, \u001b[38;5;241m30\u001b[39m), zrange\u001b[38;5;241m=\u001b[39m(\u001b[38;5;241m2\u001b[39m, \u001b[38;5;241m4\u001b[39m), color\u001b[38;5;241m=\u001b[39m(\u001b[38;5;241m153\u001b[39m\u001b[38;5;241m/\u001b[39m\u001b[38;5;241m255\u001b[39m,\u001b[38;5;241m216\u001b[39m\u001b[38;5;241m/\u001b[39m\u001b[38;5;241m255\u001b[39m,\u001b[38;5;241m201\u001b[39m\u001b[38;5;241m/\u001b[39m\u001b[38;5;241m255\u001b[39m))\n\u001b[1;32m      9\u001b[0m sphere_to_surface(xrange\u001b[38;5;241m=\u001b[39m(\u001b[38;5;241m10\u001b[39m, \u001b[38;5;241m20\u001b[39m), yrange\u001b[38;5;241m=\u001b[39m(\u001b[38;5;241m0\u001b[39m, \u001b[38;5;241m30\u001b[39m), z\u001b[38;5;241m=\u001b[39m\u001b[38;5;241m4\u001b[39m, n\u001b[38;5;241m=\u001b[39mn, size\u001b[38;5;241m=\u001b[39msize)\n",
      "\u001b[0;31mNameError\u001b[0m: name 'n' is not defined"
     ]
    }
   ],
   "source": [
    "    size = 1\n",
    "    # mlab.figure(size = (1024,768), bgcolor = (1,1,1), fgcolor = (146/255,197/255,222/255))\n",
    "    mlab.figure(size = (1024,768), fgcolor = (146/255,197/255,222/255))\n",
    "    \n",
    "    draw_box(xrange=(0, 10), yrange=(0, 30), zrange=(4, 6), color=(229/255,245/255,249/255))\n",
    "    sphere_to_surface(xrange=(0, 10), yrange=(0, 30), z=6, n=n, size=size)\n",
    "\n",
    "    draw_box(xrange=(0, 20), yrange=(0, 30), zrange=(2, 4), color=(153/255,216/255,201/255))\n",
    "    sphere_to_surface(xrange=(10, 20), yrange=(0, 30), z=4, n=n, size=size)\n",
    "\n",
    "    draw_box(xrange=(0, 30), yrange=(0, 30), zrange=(0, 2), color=(44/255,162/255,95/255))\n",
    "    sphere_to_surface(xrange=(20, 30), yrange=(0, 30), z=2, n=n, size=size)\n",
    "    mlab.show()    "
   ]
  },
  {
   "cell_type": "code",
   "execution_count": null,
   "id": "77eb7589",
   "metadata": {},
   "outputs": [],
   "source": []
  }
 ],
 "metadata": {
  "kernelspec": {
   "display_name": "afm",
   "language": "python",
   "name": "python3"
  },
  "language_info": {
   "codemirror_mode": {
    "name": "ipython",
    "version": 3
   },
   "file_extension": ".py",
   "mimetype": "text/x-python",
   "name": "python",
   "nbconvert_exporter": "python",
   "pygments_lexer": "ipython3",
   "version": "3.7.13"
  }
 },
 "nbformat": 4,
 "nbformat_minor": 5
}
