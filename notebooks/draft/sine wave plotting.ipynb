{
 "cells": [
  {
   "cell_type": "code",
   "execution_count": 23,
   "id": "629fa0ae",
   "metadata": {},
   "outputs": [
    {
     "data": {
      "text/plain": [
       "180.0"
      ]
     },
     "execution_count": 23,
     "metadata": {},
     "output_type": "execute_result"
    }
   ],
   "source": [
    "x_3[-1]"
   ]
  },
  {
   "cell_type": "code",
   "execution_count": 82,
   "id": "bc50feb4",
   "metadata": {
    "scrolled": true
   },
   "outputs": [
    {
     "data": {
      "image/png": "[encoded data removed]",
      "text/plain": [
       "<Figure size 432x288 with 1 Axes>"
      ]
     },
     "metadata": {
      "needs_background": "light"
     },
     "output_type": "display_data"
    }
   ],
   "source": [
    "import numpy as np\n",
    "import matplotlib.pyplot as plt\n",
    "import math\n",
    "\n",
    "T = 8\n",
    "start = 20\n",
    "\n",
    "range_1 = 50 \n",
    "range_2 = range_1 + T\n",
    "range_3 = range_2 + 50 \n",
    "\n",
    "x_1 = np.linspace(start, range_1, 200)\n",
    "y_1 = [i**2*math.sin(2*math.pi*i/T) for i in x_1] # first part of the function\n",
    "\n",
    "x_2 = np.linspace(range_1, range_2, 100)\n",
    "y_2 = [i**2*10 * math.sin(-2*math.pi*i/T)+20000 for i in x_2] \n",
    "\n",
    "x_3 = np.linspace(range_2, range_3-start, 200)\n",
    "y_3 = [(x_3[-1]-i+start)**2*math.sin(2*math.pi*i/T) for i in x_3] # first part of the function\n",
    "\n",
    "plt.plot(x_1, y_1 , 'r')\n",
    "plt.plot(x_2, y_2 , 'r')\n",
    "plt.plot(x_3, y_3 , 'r')\n",
    "\n",
    "plt.show()"
   ]
  },
  {
   "cell_type": "code",
   "execution_count": null,
   "id": "64bc4370",
   "metadata": {},
   "outputs": [],
   "source": []
  },
  {
   "cell_type": "code",
   "execution_count": null,
   "id": "29c4b807",
   "metadata": {},
   "outputs": [],
   "source": []
  },
  {
   "cell_type": "code",
   "execution_count": 53,
   "id": "20f25082",
   "metadata": {
    "scrolled": true
   },
   "outputs": [],
   "source": [
    "import numpy as np\n",
    "\n",
    "filename = '/home/yig319/Dropbox (LU Student)/plotting/AC_excitation_permittivity.txt'\n",
    "\n",
    "data = np.loadtxt(filename, delimiter=',', skiprows=1, dtype=str)[2:]\n",
    "\n",
    "x = []\n",
    "y = []\n",
    "for string in data:\n",
    "    x.append(float(string.split('    ', 2)[0]))\n",
    "    y.append(float(string.split('    ', 2)[1]))"
   ]
  },
  {
   "cell_type": "code",
   "execution_count": 83,
   "id": "32ad4168",
   "metadata": {
    "scrolled": true
   },
   "outputs": [
    {
     "data": {
      "image/png": "[encoded data removed]",
      "text/plain": [
       "<Figure size 360x360 with 1 Axes>"
      ]
     },
     "metadata": {
      "needs_background": "light"
     },
     "output_type": "display_data"
    }
   ],
   "source": [
    "import numpy as np\n",
    "from scipy.interpolate import interp1d # Different interface to the same function\n",
    "import matplotlib.pyplot as plt\n",
    "\n",
    "axis_tick_width = 2\n",
    "linewidth = 2.5\n",
    "edge_width = 2\n",
    "\n",
    "i = np.arange(len(x))\n",
    "\n",
    "# 1x the original number of points\n",
    "interp_i = np.linspace(0, i.max(), 1 * i.max())\n",
    "\n",
    "xi = interp1d(i, x, kind='linear')(interp_i)\n",
    "yi = interp1d(i, y, kind='linear')(interp_i)\n",
    "\n",
    "fig = plt.figure(figsize=(5,5))\n",
    "ax = fig.subplots()\n",
    "\n",
    "ax.plot(xi, yi, linewidth=linewidth, c='black')\n",
    "\n",
    "ax.scatter(x, y, s=80, marker='s', facecolors='none', edgecolors='k', linewidths=edge_width)\n",
    "ax.set_ylim([0.5, 10])\n",
    "\n",
    "ax.xaxis.set_ticks(np.arange(1, 11, 1))\n",
    "ax.yaxis.set_ticks(np.arange(1, 11, 1))\n",
    "\n",
    "ax.set_xticklabels([])\n",
    "ax.set_yticklabels([])\n",
    "ax.yaxis.set_ticks_position('both')\n",
    "ax.xaxis.set_ticks_position('both')\n",
    "\n",
    "ax.tick_params(axis=\"y\", direction=\"in\", width=axis_tick_width)\n",
    "ax.tick_params(axis=\"x\", direction=\"in\", width=axis_tick_width)\n",
    "\n",
    "ax.set_xlabel('AC Excitation', fontsize=20, fontweight='bold') # fontweight='bold'\n",
    "ax.set_ylabel('Permittivity', fontsize=20, fontweight='bold')\n",
    "\n",
    "ax.set_facecolor('none')\n",
    "for axis in ['top','bottom','left','right']:\n",
    "    ax.spines[axis].set_linewidth(axis_tick_width)\n",
    "\n",
    "plt.savefig('/home/yig319/Dropbox (LU Student)/plotting/AC_excitation_permittivity.svg', dpi=600)\n",
    "plt.show()"
   ]
  },
  {
   "cell_type": "code",
   "execution_count": null,
   "id": "ddcb19e9",
   "metadata": {},
   "outputs": [],
   "source": []
  }
 ],
 "metadata": {
  "kernelspec": {
   "display_name": "Python (gyc)",
   "language": "python",
   "name": "gyc"
  },
  "language_info": {
   "codemirror_mode": {
    "name": "ipython",
    "version": 3
   },
   "file_extension": ".py",
   "mimetype": "text/x-python",
   "name": "python",
   "nbconvert_exporter": "python",
   "pygments_lexer": "ipython3",
   "version": "3.7.7"
  }
 },
 "nbformat": 4,
 "nbformat_minor": 5
}
