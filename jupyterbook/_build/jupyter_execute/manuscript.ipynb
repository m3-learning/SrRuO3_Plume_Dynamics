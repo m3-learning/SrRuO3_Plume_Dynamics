{
 "cells": [
  {
   "cell_type": "markdown",
   "metadata": {},
   "source": [
    "# To Sand, or Not to Sand: SrRuO3 Pulsed Laser Deposition with Full-Frame Plume Dynamic Imaging \n",
    "\n",
    "**Yichen Guo<sup>†1,2</sup>, Liyan Wu<sup>†2</sup>, Julian Goddy<sup>2</sup>, Theo Beers<sup>2</sup>, Lane Martin<sup>4,5,6,7</sup>, Jonathan Spanier<sup>2,3</sup>, Joshua Agar<sup>2*</sup>**  \n",
    "\n",
    "<sup>†</sup> Authors contributed equally to this work  \n",
    "<sup>1</sup> Department of Materials Science and Engineering, Lehigh University, Bethlehem, PA 18015, USA  \n",
    "<sup>2</sup> Department of Mechanical Engineering and Mechanics, Drexel University, Philadelphia, PA 19104, USA  \n",
    "<sup>3</sup> Department of Materials Science and Engineering, Drexel University, Philadelphia, PA 19104, USA  \n",
    "<sup>4</sup> Department of Materials Science and Engineering, University of California, Berkeley, CA 94720, USA  \n",
    "<sup>5</sup> Materials Sciences Division, Lawrence Berkeley National Laboratory, Berkeley, California 94720, USA  \n",
    "<sup>6</sup> Department of Materials Science and Nanoengineering, Rice University, Houston, TX 77005, USA  \n",
    "<sup>7</sup> Rice Advanced Materials Institute, Rice University, Houston, TX 77005, USA  \n",
    "<sup>8</sup> Department of Physics and Astronomy, Rice University, Houston, TX 77005, USA  \n",
    "<sup>*</sup> Email address: jca92@drexel.edu"
   ]
  },
  {
   "cell_type": "markdown",
   "metadata": {},
   "source": [
    "## Abstract\n",
    "\n",
    "High-quality thin films growth via pulsed laser deposition (PLD) requires precise control over plume dynamics, which are influenced by temporal and spatial variations in target surface morphology. We employed a Full-Frame Plume Dynamic Imaging (PDI) to investigate the effects of target surface evolution on plume dynamics and the subsequent impact on film quality and structure. Using $\\text{SrRuO}_3$ as a model system, we develop automated computer-vision pipelines to extract statistical metrics, such as maximum plume area and incident velocity, under varying conditions, including pre-ablation pulse counts and inadvertent target contamination. Repeated ablation improves plume dynamics stability, correlating with enhanced crystalline quality and reduced surface roughness, confirmed by X-ray Diffraction (XRD) and Atomic Force Microscopy (AFM). Conversely, spatial inhomogeneities, such as target surface contamination, induce instabilities in plume dynamics, resulting in poor crystalline quality, higher surface roughness, and disrupted growth dynamics. Through statistical analysis and heatmap visualization, we establish a direct link between plume stability and thin-film reproducibility. Our findings underscore the necessity of rigorous target surface conditioning and real-time plume diagnostics to enable deterministic control over crystallography and domain architectures. We posit those stochastic variations in plume dynamics-typically unquantified-constitute a dominant mechanism underlying reproducibility crisis and impediments to extending the design space for bespoke heterostructures and heterointerfaces. Furthermore, the integration of advanced diagnostic tools, such as PDI, offers a robust pathway for achieving precise control in thin-film synthesis, providing a pathway for control of non-equilibrium synthesis processes pervasive in semiconductor manufacturing."
   ]
  },
  {
   "cell_type": "markdown",
   "metadata": {},
   "source": [
    "## Introduction\n",
    "\n",
    "Epitaxial complex oxide thin films have become indispensable in next-generation electronics, catalysis, and energy storage, owing to their tunable electronic, magnetic, and ionic transport properties, which can be precisely engineered through strain, stoichiometry, and defects {cite:p}`Kelley2020-di,Bain2017-zx,Agar2015-ta,Xu2020-ih,Haeni2004-pc,Pesquera2020-xj,Eason2007-hm,Damodaran2017-xm,Agar2014-dg,Yichen_Guo_Peter_Meisenheimer_Shuyu_Qin_Xinqiao_Zhang_Julian_Goddy_Ramamoorthy_Ramesh_Lane_W_Martin_and_Joshua_C_Agar_undated-gb,Saremi2019-kb,Saremi2018-np`.   \n",
    "Most of these materials require far-from-equilibrium synthesis methods to achieve complex stoichiometry, finely tuned heterointerfaces, superlattices, and compositional gradients—all of which are essential for enabling emergent functionalities. \n",
    "While many non-equilibrium thin-film synthesis techniques exist, pulsed laser deposition (PLD) is distinguished by its ability to reproducibly deposit complex stoichiometry with relative simplicity in a laboratory setting—some systems even extending this capability to the wafer scale {cite:p}`solmates`.\n",
    "PLD operates by directing a high-intensity pulsed laser onto a target material under low—typically oxidizing—ambient pressure. This process generates a highly energetic plasma plume ($5{,}000\\,\\text{--}\\,20{,}000~\\text{K}$)  that transfers ablated species onto a substrate. \n",
    "The inherently non-equilibrium nature of PLD enables fine-tuning of stoichiometry, crystallographic orientation, and surface morphology through extreme sensitivity to growth parameters, but this same sensitivity also poses significant challenges for high-reproducibility growth, as minor fluctuations in plume dynamics, ambient conditions, or target surface state can substantially impact film quality{cite:p}`Schou2009-zg,Liu2012-jq,Siebenhofer2021-km,Lee2016-au,Christen2008-sh,Maria1998-vd`.\n",
    "PLD is highly sensitive to key growth parameters—including laser fluence, repetition rate, ambient gas pressure, and substrate temperature—necessitating precise optimization to regulate plume energetics and adatom surface kinetics, thereby enabling the reproducible growth of high-crystallinity films with controlled defect densities that can be leveraged to engineer emergent functionalities{cite:p}`Fang2001-vf,Lu2013-bc,Zakharov1999-ul,Michely2004-ot,Ito2007-xi,Daryapurkar2013-fq,Meng2015-th,Deng2022-uy,Choi2001-vk,Koster2012-ds,Christen2008-sh`. \n",
    "In typical PLD processes, only average growth properties are recorded, with little attention given to statistical variances or outliers—such as fluctuations in laser spot profile, stability, and plume dynamics—which can critically influence thin-film quality, microstructural uniformity, and growth reproducibility{cite:p}`Ojeda-G-P2015-mu,Craciun2020-da,Shepelin2023-nd,Haider2022-hu`.  Instrument-specific constraints, combined with unreported or unaccounted-for exogenic factors, introduce uncertainty into growth processes, resulting structures, and overall reproducibility. \n",
    "As a result, nominally identical experiments—even when conducted by the same researcher in the same laboratory—can produce substantially divergent outcomes without any readily identifiable cause. \n",
    "Furthermore, this is not merely a problem for reproducibility, it also imposes upper bounds on the complexity of the systems which can be realized.\n",
    "\n",
    "The next paradigm shift in our ability to design bespoke heterostructures will likely arise from the integration of advanced *in situ* diagnostics with real-time control systems. \n",
    "Plume Dynamic Imaging (PDI) has emerged as a powerful technique for real-time monitoring of plume evolution and subtle variations in growth conditions, enabling data-driven optimization of synthesis protocol{cite:p}`Schneider2023-iy,Bulgakova2000-zo,Christen2008-sh,Ojeda-G-P2016-uw`.\n",
    "Compared to other in-situ characterization techniques, such as Reflection High-Energy Electron Diffraction (RHEED){cite:p}`Choi2001-vk,Gura2018-lm,Deng2022-uy,Rijnders2004-yz,Koster2012-ds,Yichen_Guo_Peter_Meisenheimer_Shuyu_Qin_Xinqiao_Zhang_Julian_Goddy_Ramamoorthy_Ramesh_Lane_W_Martin_and_Joshua_C_Agar_undated-gb`, which probes the structural state of the growing film, PDI directly measures mass transport and plume energetics, providing a powerful framework for elucidating synthesis-structure-property relationships. \n",
    "PDI has enabled investigations into phenomena such as plume rebound and flip-over effects, yielding critical insights into plume-substrate interactions{cite:p}`Ojeda-G-P2015-mu,Ojeda-G-P2017-gs`.\n",
    "Additionally, studies of plume evolution under varying oxygen partial pressures have demonstrated how oxygen regulates film stoichiometry by modulating the formation and dissociation kinetics of transition-metal oxides{cite:p}`Lee2016-au,Liu2012-jq`.\n",
    "However, previous PDI implementations faced a significant limitation: earlier cameras could capture only a few (< 3) frames per pulse {cite:p}`Amoruso2004-ma,Geohegan1992-qy,Amoruso1999-og,Schneider2023-iy,Ojeda-G-P2017-gs,Schou2007-tz`, albeit with precisely controlled delay times. \n",
    "As a result, reconstructing complete plume dynamics required stitching together data from multiple pulses under the assumption of minimal plume-to-plume variability—an approach that inherently limited the ability to observe transient, stochastic plume phenomena.\n",
    "In contrast, full-frame PDI (FF-PDI)-capturing more than 60 frames per laser pulse-enables detailed temporal resolution of plume evolution during ablation, while simultaneously revealing pulse-to-pulse variability that critically impacts growth reproducibility. This enhanced diagnostic capability is particularly valuable for the deposition of complex multi-element oxide heterostructures, such as $\\text{SrTiO}_3$/$\\text{LaAlO}_3$ interfaces, and compositionally-graded heterostructures where precise and discontinuous modulation of stoichiometry, substrate temperature, and ambient pressure is essential{cite:p}`Aruta1996-uz,Blank2000-kz,Malik2012-ub`.\n",
    "This paradigm shift redefines PLD from a static \"Set-It & Forget-It\" process, one amenable for dynamic real-time control. FF-PDI provides a pathway for integrating artificial intelligence (AI)—particularly real-time machine learning on edge computing hardware{cite:p}`Baldi2024-lu,Forelli2024-tg,Wei2024-zy,Kaliyev2023-kh,St-John2021-ry,Rankin2020-mg,Ahmad-Khan2023-zc,Mitra2017-gt,Khan2021-zx,Mandal2015-iw,Mitra2018-wx`—to enable intelligent control of synthesis dynamics.\n",
    "Recent studies have shown that machine learning algorithms can significantly enhance deposition precision by facilitating automated, real-time recognition of plume characteristics, deterministic feedback control, and dynamic adjustment of growth parameters. \n",
    "Collectively, these advances position PLD as a dynamic, adaptive synthesis platform-analogous to self-driving laboratories, but tailored for real-time control of non-equilibrium growth processes-substantially enhancing reproducibility and establishing a foundation for intelligent, AI-driven materials fabrication{cite:p}`Abolhasani2023-bg,Hase2019-ba,Tom2024-np,Roch2018-as`. \n",
    "To explore the novel capabilities afforded by FF-PDI, we have engineered a comprehensive, full-stack PDI platform including hardware designs and software. This system uniquely enables synchronized high-speed plume acquisition, meticulous logging of experimental parameters, and precise quantification of plume dynamics. \n",
    "At its core, our platform leverages the Shimadzu HyperVision HPX-2 high-speed camera, distinguished by its ability to record bursts of up to 128 frames at exceptional temporal resolutions approaching 10 million frames per second. \n",
    "\n",
    "$\\text{SrRuO}_3$ thin films were selected as a representative model system due to their widespread use as functional electrode layers in oxide electronics, where their ferromagnetic and conductive properties can be critical for enabling spintronic devices and high-performance heterostructures{cite:p}`Klein1996-ws,Samanta2021-hg,Agrestini2015-ht,Gu2022-fu,Cuoco2022-jz,Jeong2023-yk,Ou2019-yt`.\n",
    "$\\text{SrRuO}_3$ exhibits several advantageous properties, including temperature-dependent electrical conductivity{cite:p}`Klein1996-ws,Koster2012-ds,Mackenzie1998-rn`, favorable lattice matching to a range of substrates (orthorhombic unit cell: $a = 5.560\\ \\text{Å},\\ b = 5.530\\ \\text{Å},\\ c = 7.845\\ \\text{Å}$), and exceptional structural stability, making it highly suitable for integration into multilayer oxide architectures and ferroelectric devices. \n",
    "Furthermore, $\\text{SrRuO}_3$ displays notable magnetic and electronic phenomena, such as the anomalous Hall effect near 160 K{cite:p}`Allen1996-za`, achievable without extrinsic doping in both bulk and epitaxial thin-film forms. Its high thermal stability (up to ~1200 K{cite:p}`Eom1993-vs`) and robust chemical resilience. \n",
    "Finally, $\\text{SrRuO}_3$ is widely employed as a lattice-matched oxide electrode in ferroelectric devices, where its crystallographic and electronic properties critically influence heterostructure morphology, functional responses, and device performance through mechanisms such as strain transfer and interfacial electronic screening.\n",
    "\n",
    "Despite its numerous advantages, the reproducible synthesis of $\\text{SrRuO}_3$ thin films remains highly dependent on experimental expertise and empirical tuning—often accompanied by elements of speculation and a degree of mysticism. Although $\\text{SrRuO}_3$ is often cited for its relatively broad deposition condition window, synthesis outcomes exhibit substantial variability in literature{cite:p}`Deng2022-uy,Kar2021-oy,Choi2001-vk`. \n",
    "While system-level growth parameters-such as laser fluence and substrate temperature-are extensively reported, critical factors such as target defect evolution, target density, and local stoichiometric deviations are often overlooked, despite their substantial influence on ablation dynamics, plume evolution, and ultimately film quality. \n",
    "\n",
    "A common point of contention among PLD practitioners is whether \"to sand, or not to sand\" targets prior to growth. \n",
    "Target ablation progressively degrades the surface, modifying ablation dynamics, altering plume energetics, and ultimately impacting film microstructure and stoichiometry. \n",
    "During extended deposition, the initially polished target surface undergoes morphological degradation (e.g., increased roughness, crater formation) and chemical heterogeneity due to plume-induced selective redeposition, selective ablation processes, and laser-induced surface chemical reactions, resulting in localized off-stoichiometric regions{cite:p}`Ojeda-G-P2017-gs`.\n",
    "Sanding the target surface between deposition cycles resets the surface morphology by removing damaged layers, thereby reestablishing a uniform and stoichiometric ablation front. \n",
    "Nevertheless, this approach may introduce greater variations in surface conditions during deposition that potentially affects reproducibility. To mitigate initial variations resulting from mechanical resurfacing, pre-ablation-applying laser pulses to the target prior to film growth-is commonly used to stabilize the ablation front by eliminating transient surface contamination and establishing steady-state plume dynamics. \n",
    "Despite their widespread use, pre-ablation protocols are predominantly guided by empirical heuristics, lacking a rigorous, quantitative framework for assessing their influence on plume dynamics or deposition reproducibility. \n",
    "Consequently, precise characterization and control of target surface evolution-particularly the spatiotemporal inhomogeneities introduced during laser-target interaction-remain essential to achieving deterministic, high-fidelity thin-film growth.\n",
    "Plume stability is intrinsically linked to the spatial homogeneity of the target surface, which governs the stoichiometry, temporal coherence, and chemical-spatial distributions of the ablation plume. \n",
    "Surface degradation or compositional inhomogeneity can lead to transient deviations in the local ablation rate, resulting in non-stoichiometric transfer, erratic plume dynamics, and fluctuations in deposition flux. \n",
    "These perturbations propagate directly into the film microstructure, altering the crystallinity, interfacial coherence, and electronic transport properties. \n",
    "Remarkably, periodic modulations in plume behavior attributable to target inhomogeneity are often observable even without advanced diagnostics. \n",
    "They are regularly visible to the naked eye, allowing direct observation of significant changes in plume size, which serve as an indicator of the time-averaged emissivity of the plume. \n",
    "Nevertheless, the systematic, high-resolution spatiotemporal mapping of these phenomena remains largely unexplored-primarily due to the absence of diagnostic infrastructure capable of capturing these dynamics *in operando*.\n",
    "We investigate two perturbative conditions: \n",
    "\n",
    "1. Varying pre-ablation pulse counts to probe ablation history effects on plume dynamics and film crystallinity\n",
    "2. Introducing controlled surface contamination to simulate stoichiometric and defect inhomogeneity. \n",
    "\n",
    "Utilizing a full-frame PDI platform with high-speed imaging, we capture temporally resolved, single-pulse plume dynamics, eliminating the need for ensemble averaging. This enables quantitative extraction of plume velocity, emission area, and intensity, which we correlate with structural and electronic properties of $\\text{SrRuO}_3$ films grown on $\\text{SrTiO}_3${cite:p}`Kawasaki1994-yz`. \n",
    "Integration of plume metrics with machine learning provides a framework for real-time feedback and process control, advancing toward autonomous, closed-loop thin-film synthesis. This approach holds the potential to enable access to architected oxide materials previously inaccessible via conventional PLD workflows."
   ]
  },
  {
   "cell_type": "markdown",
   "metadata": {},
   "source": [
    "## Results and Discussion\n",
    "\n",
    "Five $\\text{SrRuO}_3/\\text{SrTiO}_3$ (001) thin films (denoted as growth G1–G5) were sequentially deposited using the same $\\text{SrRuO}_3$ target, without sanding or restoring the target surface between growths, while keeping all other deposition conditions constant. This set of samples ({numref}`figure1`a–e) was used to evaluate the effects of progressive target surface degradation on film growth. In addition, a separate comparison was made between a film deposited using sample G5 and another deposited after the same target was used to grow other chemistries (denoted as contaminated growth C-G6; {numref}`figure1`e, f). This comparison explores how spatial variations in the target’s surface chemistry and morphology influence the resulting film properties (G5 vs. C-G6). All films were grown under identical, optimized deposition conditions, with the only variable being the condition of the target surface. The substrate temperature was maintained at $700^\\circ\\text{C}$, and deposition was carried out at a background pressure of 100 $\\text{mTorr}$ in an oxygen atmosphere, using a laser fluence of $1.6\\,\\text{mJ/cm}^2$. These parameters align with reported values in prior studies.The laser spot had a rectangular shape, measuring 0.93 $\\text{mm}$ in width and 2.46 $\\text{mm}$ in height. A computer-controlled motion scanner was used to evenly ablate the target surface.\n",
    "Additional experimental details are provided in *Methods*.\n"
   ]
  },
  {
   "cell_type": "markdown",
   "metadata": {
    "vscode": {
     "languageId": "plaintext"
    }
   },
   "source": [
    ":::{figure-md} figure1\n",
    "<img src=\"../figures/Figure1-Samples_experiment_setup.png\" style=\"width:auto;\">\n",
    "\n",
    "a-f Schematic image of targets used for growths.\n",
    ":::"
   ]
  },
  {
   "cell_type": "markdown",
   "metadata": {},
   "source": [
    "X-ray diffraction (XRD) scans were conducted to characterize the structural differences among the films. Reciprocal space maps (RSMs) collected along the SrTiO$_3$ (002) diffraction direction ({numref}`figure2`a–f) show high intensity and narrow width of $\\text{SrRuO}_3$ film peaks, indicating all samples are high-quality epitaxial films. From sample G1 to G5, the $\\text{SrRuO}_3$ diffraction peak becomes increasingly intense and narrower, while the periodic Laue oscillations surrounding the main peak become more distinct. These observations suggest improved crystalline coherence, sharper interfaces, and uniformity in unit cell alignment throughout the deposition sequence.\n",
    "The comparison between sample G5 and C-G6 further reinforces this trend: sample G5 exhibits significantly sharper and more defined features, indicating superior thin film quality compared to C-G6, which suffers from lower crystal coherence likely due to target surface contamination.\n",
    "\n",
    "To support these findings, $2\\theta$–$\\omega$ scans were performed ({numref}`figure2`a), revealing consistent $\\text{SrRuO}_3$ (002) reflections near 45.91° across all samples, with minor variations in peak position. Laue fringes are clearly visible for all samples and were used to estimate film thicknesses: 79.69 $\\text{nm}$ (G1), 69.33 $\\text{nm}$ (G2), 69.33 $\\text{nm}$ (G3), 70.15 $\\text{nm}$ (G4), 71.65 $\\text{nm}$ (G5), and 67.24 $\\text{nm}$ (C-G6). These values confirm nearly constant growth rates across the series, reflecting the uniformity of deposition conditions (12,375 laser pulses). Although Laue fringes are not a quantitative measure, they offer qualitative insight into crystalline and interface quality. The increasing prominence of fringes in later depositions (G1–G6)—consistent with the (002) RSMs—suggests enhanced structural coherence, likely due to gradual stabilization of the target surface through repeated ablation.\n",
    "\n",
    "Notably, sample G4 exhibits distinct peak splitting in both the film and substrate signals, forming two or more clusters. This behavior is attributed to twinning within the SrTiO$_3$ substrate, which introduces slight crystallographic misalignments along the (103) diffraction direction. These twin domains generate multiple peaks along the Q$_x$ axis, resulting in the observed splitting in the $\\text{SrRuO}_3$ thin film signal. It is worth noting that such twinning is commonly observed in commercially available SrTiO$_3$ substrates, particularly those of non-ideal quality.\n",
    "\n",
    "Crystalline quality was further evaluated through $\\omega$ rocking curve scans ({numref}`figure2`b) around the $\\text{SrRuO}_3$ (220) peak, where the full width at half maximum (FWHM) of the diffraction peaks was used as a quantitative metric. A clear trend of decreasing FWHM from sample G1-G5 indicates progressive improvement in film crystallinity, corroborating the structural trends observed in the RSM and $2\\theta$–$\\omega$ analyses. Comparing samples s1 and s2 again highlights the negative impact of target contamination, with sample s2 exhibiting broader peaks and reduced diffraction intensity.\n",
    "\n",
    "In addition, RSMs along the asymmetric SrTiO$_3$ (103) reflection ({numref}`figure2`i–n) confirm the overall high structural quality of the films. The (103) maps show that all $\\text{SrRuO}_3$ thin films are coherently strained to the SrTiO$_3$ substrate, as evidenced by the alignment of in-plane lattice parameters in reciprocal space. An exception is observed in sample G1, which exhibits partial relaxation, as indicated by asymmetry and peak broadening along the lower Q$_x$ direction. The out-of-plane diffraction peaks are distorted from bulk $\\text{SrRuO}_3$, indicating that the films are under compressive strain, have defect-induced lattice expansion, or both.\n",
    "By fitting the diffraction peaks, we extract the in-plane (Q$_x$) and out-of-plane (Q$_z$) lattice parameters for the samples as follows:\n",
    " \n",
    "| Sample | Q$_x$ (nm) | Q$_z$ (nm) |\n",
    "|--------|------------|------------|\n",
    "| **G1** | 1.6127     | 4.7825     |\n",
    "| **G2** | 1.6097     | 4.7862     |\n",
    "| **G3** | 1.6091     | 4.7862     |\n",
    "| **G4** | 1.6082     | 4.7859     |\n",
    "| **G5** | 1.6094     | 4.7834     |\n",
    "| **C-G6** | 1.6087   | 4.7861     |\n",
    "\n",
    "Interestingly, consistent Q$_z$ positioning across all samples reinforces that changes in film quality are more closely tied to smooth, flat interfaces, uniform surface, and crystalline coherence."
   ]
  },
  {
   "cell_type": "markdown",
   "metadata": {
    "vscode": {
     "languageId": "plaintext"
    }
   },
   "source": [
    ":::{figure-md} figure2\n",
    "<img src=\"../figures/Figure2-XRD_RSM.png\" style=\"width:800px;\">\n",
    "\n",
    "X-ray diffraction (XRD) and reciprocal space mapping (RSM) results. (a) $2\\theta$ scans for samples G1–G5, with peaks of $\\text{SrRuO}_3$ thin films, SrTiO$_3$ substrates, and bulk $\\text{SrRuO}_3$ labeled. (b) X-ray $\\omega$ rocking curve scans for the samples, with full width at half maximum (FWHM) plotted in the inset at the top right corner. (c–h) RSMs along the (103) diffraction condition for samples G1, G2, G3, G4, G5, C-G6, respectively. (i–n) RSMs along the (002) diffraction condition for samples G1, G2, G3, G4, G5, C-G6, respectively. $\\text{SrRuO}_3$ peak centers are labeled with red “+” markers in all RSMs. The reference position for well-strained $\\text{SrRuO}_3$ is indicated by blue dashed lines.\n",
    ":::"
   ]
  },
  {
   "cell_type": "markdown",
   "metadata": {
    "vscode": {
     "languageId": "plaintext"
    }
   },
   "source": [
    "Additionally, the surface morphology of the films was characterized using tapping mode atomic force microscopy (AFM) ({numref}`figure3`). A comparison of samples G1 through G5 reveals a progressive decrease in surface roughness with each subsequent deposition. This trend is accompanied by a noticeable reduction in the density of surface pits or holes. Such holes are typically attributed to insufficient deposition rates. Paradoxically, however, one would expect a slight reduction in growth rate with successive depositions until a steady state is reached. Counterintuitively—and despite current understanding of plume dynamics evolution—the observed morphology is often proposed to be mitigated by increasing the growth rate, which can be achieved through higher laser repetition rates, increased fluence, or lower ambient pressure.\n",
    "\n",
    "Further analysis of interpolated line traces from AFM scans ({numref}`figure3`)g revealed that these holes likely penetrate to the substrate surface. Such features likely result from non-ideal deposition dynamics during the initial growth stages of $\\text{SrRuO}_3$. One plausible hypothesis is that initial instability in the deposition conditions leads to unstable plume dynamics, disrupting proper adatom bonding to the SrTiO$_3$ substrate—an essential requirement for layer-by-layer growth during the early stages. As a result, subsequent adatoms struggle to deposit uniformly due to the persistent holes. Overall, our observations point to a marked improvement in thin film quality over time, consistent with conclusions drawn from XRD analyses. Additionally, the comparison between samples G1 and G2 suggests that target inhomogeneity plays a significant role in increasing surface roughness.\n",
    "Further analysis of interpolated line traces from AFM scans ({numref}`figure3`g) revealed that these holes likely penetrate to the substrate surface. Such features likely result from non-ideal deposition dynamics during the initial growth stages of $\\text{SrRuO}_3$. One plausible hypothesis is that initial instability in the deposition conditions leads to unstable plume dynamics, disrupting proper adatom bonding to the SrTiO$_3$ substrate—an essential requirement for layer-by-layer growth during the early stages. As a result, subsequent adatoms struggle to deposit uniformly due to the persistent holes. Overall, our observations point to a marked improvement in thin film quality over time, consistent with conclusions drawn from XRD analyses. Additionally, the comparison between samples G1 and G2 suggests that target inhomogeneity plays a significant role in increasing surface roughness.\n",
    "\n",
    "Distinct differences in growth mode were also observed among the samples. In {numref}`figure3`a, the surface exhibits an island-like step-flow morphology, where step orientation appears to radiate from the center of circular clusters. This results in hybrid growth behavior combining features of both 2D and 3D growth. In contrast, {numref}`figure3`c and {numref}`figure3`f show step bunching, where several atomic steps coalesce to form terraces of greater height at irregular intervals. These features are more clearly resolved in the larger-area (10 $\\mu\\text{m}$ × 10 $\\mu\\text{m}$) image of {numref}`figure3`a and the higher-resolution (5 $\\mu\\text{m}$ × 5 $\\mu\\text{m}$) scans in [Figure S1](#figureS1). Deviations from uniform step-flow growth—such as island nucleation or step bunching—are often associated with less desirable film quality.\n"
   ]
  },
  {
   "cell_type": "markdown",
   "metadata": {
    "vscode": {
     "languageId": "plaintext"
    }
   },
   "source": [
    ":::{figure-md} figure3\n",
    "<img src=\"../figures/Figure3-AFM_10um.png\" style=\"width:auto;\">\n",
    "\n",
    "(a–f) AFM scans of 10 $\\mu\\text{m}$ × 10 $\\mu\\text{m}$ areas of samples G1, G2, G3, G4, G5, and C-G6. (g) Surface roughness calculated based on the 10 $\\mu\\text{m}$ × 10 $\\mu\\text{m}$ areas of the samples.\n",
    ":::"
   ]
  },
  {
   "cell_type": "markdown",
   "metadata": {},
   "source": [
    "### Experiment Design for FF-PDI\n",
    "\n",
    "For all growths, we performed full-frame PDI transverse to the plume axis, as shown in {numref}`figure1`g. A Shimadzu Hyper Vision HPV-X2 high-speed video camera was used for plume imaging. This camera is one of the world’s fastest CCD cameras, featuring an FTCMOS2 image sensor and capable of capturing up to 2 million frames per second—or 1 frame per 500 ns (see *Methods*). The camera is triggered by the laser pulse signal but operates with a continuous rolling acquisition mode, which compensates for triggering delays with 200 ns exposures.\n",
    "\n",
    "To improve consistency and reproducibility in the PLD process, we designed a digital logging system to store the growth parameters and instrument conditions in parallel with PDI data. All records are synchronized with the DataFed data management framework, enabling systematic tracking and retrieval of experimental datasets. A schematic of the PLD logging system is provided in [Figure S2](#figureS2).\n",
    "\n",
    "The interior view of the PLD chamber ({numref}`figure1`g) shows that the target and substrate are aligned in a parallel, face-to-face geometry, enabling direct deposition of ablated material. The sample plume image shown in {numref}`figure1`g was acquired using a conventional CCD camera (not the high-speed system) to provide a broader overview of the interior configuration and general plume evolution under RGB imaging over extended timescales.\n"
   ]
  },
  {
   "cell_type": "markdown",
   "metadata": {
    "vscode": {
     "languageId": "plaintext"
    }
   },
   "source": [
    "### Plume Dynamics Introduction\n",
    "\n",
    "The dynamics of laser-induced plumes play a critical role in understanding the deposition process, particularly in relation to how target surface morphology influences growth. In this study, plume behavior is analyzed using a custom-developed Python package, *Plume-Learn*, which enables precise, automated analysis of plume evolution. The acquired plume data consists of full-frame images with a resolution of 1366 × 768 pixels, and each plume event is captured across 128 frames. Under typical deposition conditions, more than 350 full-frame plumes can be recorded per deposition, depending on the data transfer speed and system buffering capacity.\n",
    "\n",
    "Based on our observations and previous literature, the plume dynamics can be categorized into four distinct stages:\n",
    "\n",
    "- **Stage 1: Target Ablation**  \n",
    "  Laser irradiation of the target surface initiates rapid heating, resulting in material removal and the initial formation of a plasma plume.\n",
    "\n",
    "- **Stage 2: Plasma Plume Formation**  \n",
    "  Continued laser energy input leads to the ejection of particles and energetic species, generating a visible plasma plume above the target.\n",
    "\n",
    "- **Stage 3: Plume Expansion**  \n",
    "  The plume rapidly expands away from the target, increasing in both spatial extent and velocity as it propagates toward the substrate.\n",
    "\n",
    "- **Stage 4: Plume Incidence on the Substrate**  \n",
    "  The plume reaches the substrate surface, where various interaction mechanisms may occur, including plume rebound, interfacial scattering, or even target re-coating.\n",
    "\n",
    "This delineation of plume dynamics provides a valuable framework for correlating physical plume behavior with underlying growth mechanisms and contextualizing how variations in target condition may influence film deposition outcomes.\n",
    "\n",
    "To better describe and quantify intra-plume behavior, we extract several key metrics from each plume sequence, including cross-sectional area, incident velocity, and travel distance. The maximum plume area was determined by analyzing the spatial expansion of the plume over time from high-resolution image sequences (1366 × 768 pixels per frame). This parameter reflects the extent of material ejection and the energy coupling efficiency between the laser and the target. Incident velocity was calculated as the average speed of the plume near the end of its visible trajectory, just before dissipation due to energy loss. Specifically, we averaged the velocity when the plume traveled between 2.8 and 2.9 cm from the target surface. Finally, we compute the plume travel distance by converting the plume displacement observed in the acquired image frames to the corresponding physical distance in the chamber. By computing these metrics for each individual plume, we generated statistical distributions indexed by plume number. These summaries serve as valuable indicators of plume stability, helping to identify anomalies and trends in dynamic behavior throughout the deposition process.\n",
    "\n",
    "These parameters are visualized using time-resolved line plots in {numref}`figure4`a–{numref}`figure4`c, showing the time-dependent average plume area, plume distance, and velocity as a function of travel distance, respectively. Each plot represents statistical averages computed from approximately 350 full-frame plume sequences recorded during a single deposition. Shaded regions in the plots indicate the range of variation across plume events, capturing pulse-to-pulse fluctuations.\n",
    "\n",
    "The temporal evolution of the plume follows the four-stage process described earlier. Since laser ablation occurs on the order of tens of picoseconds—much faster than the 500-nanosecond temporal resolution of our PDI system—only the first available frame at $t = 1\\,\\mu\\text{s}$ captures the laser incidence on the target. This frame corresponds to the initial appearance of the plume, as shown in the embedded plume image in {numref}`figure4` and representative frames in [Figure S3](#figureS3), [Figure S4](#figureS4), [Figure S5](#figureS5), [Figure S6](#figureS6), [Figure S7](#figureS7), and [Figure S8](#figureS8). As the plasma plume forward propagates, the target ejects high-energy ionized atoms and atomic clusters. The plume reaches its maximum volume and velocity around $t = 3\\,\\mu\\text{s}$, after which it begins to detach from the target surface. It then propagates toward the substrate, completing the material transfer process. Under certain conditions—such as reduced ambient pressure or elevated laser fluence—plume rebound may occur during substrate interaction. The incident velocity is estimated by averaging the speed of the plume prior to the point at which it becomes untraceable in the recorded sequence.\n"
   ]
  },
  {
   "cell_type": "markdown",
   "metadata": {},
   "source": [
    ":::{figure-md} figure4\n",
    "<img src=\"../figures/Figure4-Plume_area_distance_velocity_average.png\" style=\"width:800px;\">\n",
    "\n",
    "Plume sample frames and the plume metrics for plume description and evaluation. (a) Plume area over time for samples G1, G2, G3, G4, G5, and C-G6. A series of plume images are included as examples to illustrate how plume area is determined. (b) Plume transport distance over time. Example plume images are also shown with markers indicating plume position. (c) Plume transport velocity as a function of distance. The red dashed lines mark the velocity range used for estimating the incident velocity.(c) Plume transport velocity as a function of distance. The red dashed lines mark the velocity range used for estimating the incident velocity.\n",
    ":::"
   ]
  },
  {
   "cell_type": "markdown",
   "metadata": {
    "vscode": {
     "languageId": "plaintext"
    }
   },
   "source": [
    "As observed, the differences between growths are relatively minor when averaged over all plumes during the entire deposition process. This suggests consistent growth dynamics and supports the robustness and reliability of our in-situ PDI measurements, as well as the analysis workflow implemented in the *Plume-Learn* Python package. However, it remains unclear whether averaging may decimate meaningful variations. The reduction of data through temporal averaging could potentially mask transient or anomalous individual plume dynamics that may influence film properties.\n",
    "\n",
    "To address this concern, we apply statistical analysis methods—including plume variation analysis and anomaly detection—to identify subtle differences in plume behavior that might correlate with changes in film structure or quality. Specifically, we extract and summarize two key metrics: maximum plume cross-sectional area and incident velocity for each individual plume. These distributions are used to evaluate two main aspects:\n",
    "\n",
    "1. The relationship between plume dynamics and the evolving target surface condition over time  \n",
    "2. The correlation between plume behavior and spatial variation across the target surface"
   ]
  },
  {
   "cell_type": "markdown",
   "metadata": {
    "vscode": {
     "languageId": "plaintext"
    }
   },
   "source": [
    "### Plume Dynamics Correlation with Time-Resolved Target Surface\n",
    "\n",
    "To investigate how laser ablation–induced changes in target surface morphology influence the quality of $\\text{SrRuO}_3$ thin films, we analyzed plume dynamics across sequentially deposited samples G1–G5. While the average plume area, travel distance, and incident velocity appear broadly similar across these samples, this superficial uniformity underscores the importance of statistical analysis to detect subtle but potentially significant variations in plume behavior during deposition. To that end, we focused on two critical metrics: maximum plume area and incident velocity. These metrics are statistically represented using violin plots in.\n",
    "\n",
    "Our results reveal a progressive decrease in the pulse-to-pulse standard deviation of both maximum area and incident velocity from G1 to G5. This trend indicates increasingly stable plume behavior with continued use of the same target. The observed stabilization is likely a result of the evolving target surface morphology under repeated laser ablation, which leads to more uniform plume generation. These improvements in plume consistency correlate strongly with enhancements in thin film quality, including higher crystallinity and reduced defect density. To further support this observation, we provide heatmaps of plume maximum area and incident velocity in {numref}`figure5`, which visually demonstrate increased plume stability across the deposition sequence. In particular, sample G1 exhibits clear periodic fluctuations in plume behavior, suggesting plume instability caused by non-uniform target surface morphology during its growth.\n",
    "\n",
    "Notably, unstable plume dynamics—characterized by significant variations in maximum area and incident velocity—can disrupt growth processes, result in defects, and alter chemistry. These instabilities may lead to undesirable stoichiometric deviations in the plume composition and inconsistencies in substrate surface dynamics during crystallization, which may alter the structure and growth modes of the heterostructures. This relationship highlights the importance of stability in experimental conditions when determining the resulting thin-film properties. \n",
    "\n",
    "While our findings demonstrate a clear correlation between target surface evolution and plume behavior, our analysis of pre-ablation processes remains qualitative. Factors such as target material composition, microstructure, and laser fluence may all influence the evolution of the target surface in ways that vary across different systems. As such, it is difficult to offer specific procedural guidelines for pre-ablation treatment at this stage. Nonetheless, the broader relationship between target conditioning and plume stability is evident. Overall, this analysis highlights the critical role of in-situ characterization in achieving reliable and reproducible thin film synthesis. By providing real-time feedback on plume dynamics, techniques such as PDI allow for early detection and mitigation of growth instabilities, facilitating the deposition of thin films with improved structural and functional properties."
   ]
  },
  {
   "cell_type": "markdown",
   "metadata": {
    "vscode": {
     "languageId": "plaintext"
    }
   },
   "source": [
    ":::{figure-md} figure5\n",
    "<img src=\"../figures/Figure5-Temporal_variation-violinplot_heatmaps.png\" style=\"width:800px;\">\n",
    "\n",
    "Violin plots and heatmaps of plume key metrics across samples G1–G5. (a) Statistical summary of maximum plume area throughout the deposition process. (b) Statistical summary of plume incident velocity throughout the deposition process. (c–g) Heatmaps of maximum plume area for samples G1–G5. (h–l) Heatmaps of plume incident velocity for samples G1–G5.\n",
    ":::"
   ]
  },
  {
   "cell_type": "markdown",
   "metadata": {},
   "source": [
    "### Plume Dynamics Correlation with Spatial Variation in the Target Surface\n",
    "\n",
    "To further investigate the origins of plume dynamics variability, we examined the correlation between plume behavior and target surface morphology. We hypothesize that non-uniform ablation due to target surface contamination or morphology can introduce fluctuations in plume energy, composition, and deposition efficiency. These fluctuations may, in turn, influence thin film quality. To test this hypothesis, we compared two samples: sample C-G6, which was deposited using a target with localized surface contamination, and sample G5, which was grown under identical conditions but with a more uniform target surface.\n",
    "\n",
    "As described in the previous section, sample C-G6 exhibited degraded structural quality, characterized by increased surface roughness, a broader $\\text{SrRuO}_3$ diffraction peak, and less pronounced Laue fringes. In contrast, sample G5 showed clear signs of superior film quality. To evaluate whether plume behavior reflects these differences, we applied statistical analysis to plume dynamics and visualized the results using violin plots and heatmaps ({numref}`figure6`). The violin plots of maximum plume area and incident velocity show broader and more variable distributions for sample C-G6 compared to G5. These results suggest that plume dynamics were less stable throughout the deposition of C-G6, consistent with its poorer structural quality.\n",
    "\n",
    "A more detailed time-resolved analysis, presented in the form of heatmaps, offers further insight. For sample C-G6, the heatmaps reveal periodic increases in plume area and incident velocity, indicating intermittent plume instability linked to spatial inhomogeneities on the target. In contrast, this variability is significantly reduced in sample G5, which exhibits a more consistent and uniform plume profile over time. These observations suggest that spatial irregularities on the target surface can disrupt plume formation in a manner similar to what is observed during the early stages of target usage, before the surface becomes conditioned through repeated ablation. In both cases, such instabilities result in plume fluctuations that negatively impact deposition consistency and film quality.\n"
   ]
  },
  {
   "cell_type": "markdown",
   "metadata": {},
   "source": [
    ":::{figure-md} figure6\n",
    "<img src=\"../figures/Figure6-Spatial_inhomogeneity_combined.png\" style=\"width:auto;\">\n",
    "\n",
    "Statistical analysis of plume dynamics.  (a, b) Violin plots showing maximum plume area and incident velocity for samples G5 and C-G6. (c, d) Heatmaps of maximum plume area across plume indices for samples G5 and C-G6. (e, f) Heatmaps of incident velocity across plume indices for samples G5 and C-G6. Each heatmap represents the corresponding plume metric as color intensity using the \"viridis\" colormap. The x-axis indicates plume index, and the y-axis represents plume evolution time.\n",
    ":::"
   ]
  },
  {
   "cell_type": "markdown",
   "metadata": {
    "vscode": {
     "languageId": "plaintext"
    }
   },
   "source": [
    "This study demonstrates a systematic exploration of the interplay between target surface morphology, laser-induced plume dynamics, and the resulting structural quality of $\\text{SrRuO}_3$ thin films grown by pulsed laser deposition (PLD). By implementing a high-speed, in-situ Plume Dynamic Imaging (PDI) system and a supporting analysis framework (*Plume-Learn*), we captured the evolution of plume behavior at the pulse-by-pulse level and correlated it with film quality across a range of target conditions.\n",
    "\n",
    "Our results reveal that the condition of the target surface—both over time and across spatial regions—plays a critical role in determining plume stability. As the target is gradually conditioned through repeated laser ablation, plume dynamics become increasingly stable, which coincides with improvements in film crystallinity, surface morphology, and interface coherence. In contrast, spatial inhomogeneities or surface contamination on the target lead to irregular plume characteristics, including fluctuations in cross-sectional area and velocity, which correlate with degraded film quality. Statistical visualization enabled a more nuanced assessment of plume variability, revealing patterns that would be obscured by simple averaging. These analyses provided insight into the underlying mechanisms that govern reproducibility in thin-film deposition, offering both qualitative and quantitative evidence for the importance of stable plume behavior.\n",
    "\n",
    "This work highlights the critical value of in-situ diagnostics not only for real-time process monitoring but also as a foundational element for future closed-loop control strategies. By providing immediate feedback on the physical processes driving film growth, tools like PDI allow researchers to identify instabilities before they manifest as structural defects. \n",
    "\n",
    "In the broader context of thin-film research, the insights gained here contribute to a deeper understanding of how target conditions and deposition dynamics influence material properties, and they help establish best practices for producing high-quality complex oxide thin films. Looking ahead, the methodology presented in this study lays the groundwork for integration with data-driven optimization and machine learning–assisted synthesis. As such approaches mature, they hold the potential to further automate and refine the thin-film growth process, enabling more precise control over structure, stoichiometry, and functional properties in next-generation oxide heterostructures.\n"
   ]
  },
  {
   "cell_type": "markdown",
   "metadata": {
    "vscode": {
     "languageId": "plaintext"
    }
   },
   "source": [
    "## Conclusion\n",
    "This study presents a detailed investigation into how target surface morphology directly impacts plume dynamics and thin-film quality in PLD of SrRuO3, leveraging a high-speed, full-frame PDI system. Through pulse-by-pulse analysis of plume behavior, we establish that both temporal conditioning and spatial uniformity of the target surface are crucial for achieving stable plume characteristics. These, in turn, correlate strongly with improvements in film crystallinity, surface smoothness, and structural coherence.\n",
    "\n",
    "The findings underscore the importance of real-time diagnostic tools in modern thin-film synthesis workflows. Plume instability, whether stemming from early ablation irregularities or localized surface contamination, was shown to degrade film quality via fluctuations in plume energy and stoichiometry. By applying statistical analyses and machine learning-enabled metrics, we identified subtle plume variations that conventional averaging might obscure, thereby providing a more nuanced understanding of reproducibility challenges in PLD.\n",
    "\n",
    "Ultimately, this work positions PDI as a critical enabler for autonomous, closed-loop control in thin-film growth, offering actionable insights that can be generalized to other complex oxide systems. The methodologies developed here, combining advanced imaging, statistical modeling, and data-driven analysis, pave the way for predictive, adaptive, and highly reproducible oxide film synthesis, thus supporting the broader vision of intelligent materials fabrication platforms.\n"
   ]
  },
  {
   "cell_type": "markdown",
   "metadata": {
    "vscode": {
     "languageId": "plaintext"
    }
   },
   "source": [
    "## Methods\n",
    "\n",
    "### Sample Preparation\n",
    "\n",
    "Heteroepitaxial $\\text{SrRuO}_3$ thin films were grown from single-crystal $\\text{SrRuO}_3$ (001) targets on $\\text{SrTiO}_3$ (001) substrates by pulsed laser deposition (PLD) at $700^\\circ\\!\\text{C}$ in a background pressure of $100\\,\\text{mTorr}$ with an $\\text{O}_2$ atmosphere. The laser fluence was $1.6\\,\\text{J/cm}^2$, using a spot size of $2.28\\,\\text{mm}^2$ ($0.93\\,\\text{mm}$ width and $2.46\\,\\text{mm}$ height), with a repetition rate of $5\\,\\text{Hz}$.\n",
    "\n",
    "Each $\\text{SrRuO}_3$ thin film was deposited with 12,357 laser pulses, resulting in a thickness of approximately $60\\,\\text{nm}$ under optimized conditions. The target was scanned horizontally at $5\\,\\text{mm/s}$ and vertically at $1.5\\,\\text{mm/s}$ (at each line end) to ensure uniform ablation across the surface.\n",
    "\n",
    "Following deposition, the samples were cooled to room temperature in an oxygen atmosphere at a pressure of up to $3 \\times 10^5\\,\\text{mTorr}$.\n",
    "\n",
    "For samples G1 through G5, the same $\\text{SrRuO}_3$ target was used without polishing between depositions in order to study the effects of target surface evolution. In contrast, sample C-G6 was deposited using a target that had been intentionally contaminated through intermittent use over the course of a month with other oxide materials (e.g., $\\text{SrTiO}_3$), to evaluate the effects of surface inhomogeneity.\n",
    "\n",
    "### X-ray Diffraction\n",
    "\n",
    "$\\text{SrRuO}_3$ thin films were characterized by X-ray diffraction using an Empyrean Gen 3 (Malvern Panalytical) instrument with Cu-K$\\alpha$ radiation ($\\lambda = 1.5406\\,\\text{Å}$). Measurements included $\\omega$–$2\\theta$ scans, $\\omega$ rocking curves, and reciprocal space mapping (RSM).\n",
    "\n",
    "### Scanning Probe Microscopy\n",
    "\n",
    "Thin-film surface morphology was characterized using an Atomic Force Microscope (AFM, Cypher model) from Oxford Instruments."
   ]
  },
  {
   "cell_type": "markdown",
   "metadata": {},
   "source": [
    "## References\n",
    "\n",
    "```{bibliography}\n",
    ":style: unsrt\n",
    "```"
   ]
  },
  {
   "cell_type": "code",
   "execution_count": null,
   "metadata": {
    "vscode": {
     "languageId": "plaintext"
    }
   },
   "outputs": [],
   "source": []
  },
  {
   "cell_type": "markdown",
   "metadata": {},
   "source": [
    "## Supporting Information"
   ]
  },
  {
   "cell_type": "markdown",
   "metadata": {},
   "source": [
    "<a id=\"figureS1\"></a>\n",
    "![Figure S1](../figures/FigureS1-AFM_5um_lineprofile.png)\n",
    "\n",
    "*Figure S1* (a-f) AFM scans of 5×5$\\mu\\text{m}$ area of sample G1, G2, G3, G4, G5, and C-G6. (g-i) Surface cross section along the indicated line for sample G2, G3 and C-G6."
   ]
  },
  {
   "cell_type": "markdown",
   "metadata": {
    "vscode": {
     "languageId": "plaintext"
    }
   },
   "source": [
    "<a id=\"figureS2\"></a>\n",
    "![Figure S2](../figures/FigureS2-PLD_logging.png)\n",
    "\n",
    "*Figure S2.* Diagram illustration of PLD digital logging system with step procedures."
   ]
  },
  {
   "cell_type": "markdown",
   "metadata": {},
   "source": [
    "<a id=\"figureS3\"></a>\n",
    "![Figure S3](../figures/FigureS3-Plume_Sample_Frames-G1.png)\n",
    "\n",
    "*Figure S3.* Samples of plume frames for sample G1.\n",
    "\n",
    "\n",
    "<a id=\"figureS4\"></a>\n",
    "![Figure S4](../figures/FigureS4-Plume_Sample_Frames-G2.png)\n",
    "\n",
    "*Figure S4.* Samples of plume frames for sample G2.\n",
    "\n",
    "\n",
    "<a id=\"figureS5\"></a>\n",
    "![Figure S5](../figures/FigureS5-Plume_Sample_Frames-G3.png)\n",
    "\n",
    "*Figure S5.* Samples of plume frames for sample G3.\n",
    "\n",
    "<a id=\"figureS6\"></a>\n",
    "![Figure S6](../figures/FigureS6-Plume_Sample_Frames-G4.png)\n",
    "\n",
    "*Figure S6.* Samples of plume frames for sample G4.\n",
    "\n",
    "<a id=\"figureS7\"></a>\n",
    "![Figure S7](../figures/FigureS7-Plume_Sample_Frames-G5.png)\n",
    "\n",
    "*Figure S7.* Samples of plume frames for sample G5.\n",
    "\n",
    "<a id=\"figureS8\"></a>\n",
    "![Figure S8](../figures/FigureS8-Plume_Sample_Frames-C_G6.png)\n",
    "\n",
    "*Figure S8.* Samples of plume frames for sample C-G6."
   ]
  },
  {
   "cell_type": "markdown",
   "metadata": {},
   "source": [
    "\n",
    "<a id=\"figureS9\"></a>\n",
    "![Figure S9](../figures/FigureS9-Plume_area_history.png)\n",
    "\n",
    "*Figure S9.* (a–f) Plume area with time with indexed plume history for sample G1, G2, G3, G4, G5, and C-G6.\n",
    "\n",
    "<a id=\"figureS10\"></a>\n",
    "![Figure S10](../figures/FigureS10-Plume_distance_history.png)\n",
    "\n",
    "*Figure S10.* (a–f) Plume distance with time with indexed plume history for sample G1, G2, G3, G4, G5, and C-G6.\n",
    "\n",
    "<a id=\"figureS11\"></a>\n",
    "![Figure S11](../figures/FigureS11-Plume_velocity_history.png)\n",
    "\n",
    "*Figure S11.* (a–f) Plume velocity with distance with indexed plume history for sample G1, G2, G3, G4, G5, and C-G6.\n"
   ]
  },
  {
   "cell_type": "markdown",
   "metadata": {},
   "source": []
  }
 ],
 "metadata": {
  "language_info": {
   "codemirror_mode": {
    "name": "ipython",
    "version": 3
   },
   "file_extension": ".py",
   "mimetype": "text/x-python",
   "name": "python",
   "nbconvert_exporter": "python",
   "pygments_lexer": "ipython3",
   "version": "3.11.12"
  }
 },
 "nbformat": 4,
 "nbformat_minor": 2
}