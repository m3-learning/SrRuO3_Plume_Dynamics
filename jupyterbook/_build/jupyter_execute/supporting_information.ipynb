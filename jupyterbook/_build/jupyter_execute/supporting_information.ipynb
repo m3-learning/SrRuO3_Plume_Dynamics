{
 "cells": [
  {
   "cell_type": "markdown",
   "metadata": {},
   "source": [
    "# To Sand, or Not to Sand: SrRuO3 Pulsed Laser Deposition with Full-Frame Plume Dynamic Imaging (Supporting Information)\n",
    "\n",
    "**Yichen Guo<sup>†1,2</sup>, Liyan Wu<sup>†2</sup>, Julian Goddy<sup>2</sup>, Theo Beers<sup>2</sup>, Lane Martin<sup>4,5,6,7</sup>, Jonathan Spanier<sup>2,3</sup>, Joshua Agar<sup>2*</sup>**  \n",
    "\n",
    "<sup>†</sup> Authors contributed equally to this work  \n",
    "<sup>1</sup> Department of Materials Science and Engineering, Lehigh University, Bethlehem, PA 18015, USA  \n",
    "<sup>2</sup> Department of Mechanical Engineering and Mechanics, Drexel University, Philadelphia, PA 19104, USA  \n",
    "<sup>3</sup> Department of Materials Science and Engineering, Drexel University, Philadelphia, PA 19104, USA  \n",
    "<sup>4</sup> Department of Materials Science and Engineering, University of California, Berkeley, CA 94720, USA  \n",
    "<sup>5</sup> Materials Sciences Division, Lawrence Berkeley National Laboratory, Berkeley, California 94720, USA  \n",
    "<sup>6</sup> Department of Materials Science and Nanoengineering, Rice University, Houston, TX 77005, USA  \n",
    "<sup>7</sup> Rice Advanced Materials Institute, Rice University, Houston, TX 77005, USA  \n",
    "<sup>8</sup> Department of Physics and Astronomy, Rice University, Houston, TX 77005, USA  \n",
    "<sup>*</sup> Email address: jca92@drexel.edu"
   ]
  },
  {
   "cell_type": "markdown",
   "metadata": {},
   "source": [
    "## Supporting Information"
   ]
  },
  {
   "cell_type": "markdown",
   "metadata": {},
   "source": [
    ":::{figure-md} figureS1\n",
    "<img src=\"../figures/FigureS1-AFM_5um_lineprofile.png\" style=\"width:auto;\">\n",
    "\n",
    "(a-f) AFM scans of 5×5$\\mu\\text{m}$ area of sample G1, G2, G3, G4, G5, and C-G6. (g-i) Surface cross section along the indicated line for sample G2, G3 and C-G6.\n",
    ":::"
   ]
  },
  {
   "cell_type": "markdown",
   "metadata": {},
   "source": [
    ":::{figure-md} figureS2\n",
    "<img src=\"../figures/FigureS2-PLD_logging.png\" style=\"width:auto;\">\n",
    "\n",
    "Diagram illustration of PLD digital logging system with step procedures.\n",
    ":::"
   ]
  },
  {
   "cell_type": "markdown",
   "metadata": {},
   "source": [
    ":::{figure-md} figureS3\n",
    "<img src=\"../figures/FigureS3-Plume_Sample_Frames-G1.png\" style=\"width:800px;\">\n",
    "\n",
    "Samples of plume frames for sample G1.\n",
    ":::\n",
    "\n",
    ":::{figure-md} figureS4\n",
    "<img src=\"../figures/FigureS4-Plume_Sample_Frames-G2.png\" style=\"width:800px;\">\n",
    "\n",
    "Samples of plume frames for sample G2.\n",
    ":::\n",
    "\n",
    ":::{figure-md} figureS5\n",
    "<img src=\"../figures/FigureS5-Plume_Sample_Frames-G3.png\" style=\"width:800px;\">\n",
    "\n",
    "Samples of plume frames for sample G3.\n",
    ":::\n",
    "\n",
    ":::{figure-md} figureS6\n",
    "<img src=\"../figures/FigureS6-Plume_Sample_Frames-G4.png\" style=\"width:800px;\">\n",
    "\n",
    "Samples of plume frames for sample G4.\n",
    ":::\n",
    "\n",
    ":::{figure-md} figureS7\n",
    "<img src=\"../figures/FigureS7-Plume_Sample_Frames-G5.png\" style=\"width:800px;\">\n",
    "\n",
    "Samples of plume frames for sample G5.\n",
    ":::\n",
    "\n",
    ":::{figure-md} figureS8\n",
    "<img src=\"../figures/FigureS8-Plume_Sample_Frames-C_G6.png\" style=\"width:800px;\">\n",
    "\n",
    "Samples of plume frames for sample C-G6.\n",
    ":::"
   ]
  },
  {
   "cell_type": "markdown",
   "metadata": {},
   "source": [
    ":::{figure-md} figureS9\n",
    "<img src=\"../figures/FigureS9-Plume_area_history.png\" style=\"width:800px;\">\n",
    "\n",
    "(a-f) Plume area with time with indexed plume history for sample G1, G2, G3, G4, G5, and C-G6.\n",
    ":::\n",
    "\n",
    ":::{figure-md} figureS10\n",
    "<img src=\"../figures/FigureS10-Plume_distance_history.png\" style=\"width:800px;\">\n",
    "\n",
    "(a-f) Plume distance with time with indexed plume history for sample G1, G2, G3, G4, G5, and C-G6.\n",
    ":::\n",
    "\n",
    ":::{figure-md} figureS11\n",
    "<img src=\"../figures/FigureS11-Plume_velocity_history.png\" style=\"width:800px;\">\n",
    "\n",
    "(a-f) Plume velocity with distance with indexed plume history for sample G1, G2, G3, G4, G5, and C-G6.\n",
    ":::"
   ]
  }
 ],
 "metadata": {
  "language_info": {
   "codemirror_mode": {
    "name": "ipython",
    "version": 3
   },
   "file_extension": ".py",
   "mimetype": "text/x-python",
   "name": "python",
   "nbconvert_exporter": "python",
   "pygments_lexer": "ipython3",
   "version": "3.11.12"
  }
 },
 "nbformat": 4,
 "nbformat_minor": 2
}