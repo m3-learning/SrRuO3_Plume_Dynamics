{
 "cells": [
  {
   "cell_type": "markdown",
   "metadata": {},
   "source": [
    "# To Sand, or Not to Sand: SrRuO3 Pulsed Laser Deposition with Full-Frame Plume Dynamic Imaging \n",
    "\n",
    "**Yichen Guo<sup>†1,2</sup>, Liyan Wu<sup>†2</sup>, Julian Goddy<sup>2</sup>, Theo Beers<sup>2</sup>, Lane Martin<sup>4,5,6,7</sup>, Jonathan Spanier<sup>2,3</sup>, Joshua Agar<sup>2*</sup>**  \n",
    "\n",
    "<sup>†</sup> Authors contributed equally to this work  \n",
    "<sup>1</sup> Department of Materials Science and Engineering, Lehigh University, Bethlehem, PA 18015, USA  \n",
    "<sup>2</sup> Department of Mechanical Engineering and Mechanics, Drexel University, Philadelphia, PA 19104, USA  \n",
    "<sup>3</sup> Department of Materials Science and Engineering, Drexel University, Philadelphia, PA 19104, USA  \n",
    "<sup>4</sup> Department of Materials Science and Engineering, University of California, Berkeley, CA 94720, USA  \n",
    "<sup>5</sup> Materials Sciences Division, Lawrence Berkeley National Laboratory, Berkeley, California 94720, USA  \n",
    "<sup>6</sup> Department of Materials Science and Nanoengineering, Rice University, Houston, TX 77005, USA  \n",
    "<sup>7</sup> Rice Advanced Materials Institute, Rice University, Houston, TX 77005, USA  \n",
    "<sup>8</sup> Department of Physics and Astronomy, Rice University, Houston, TX 77005, USA  \n",
    "<sup>*</sup> Email address: jca92@drexel.edu"
   ]
  },
  {
   "cell_type": "markdown",
   "metadata": {},
   "source": [
    "## Abstract\n",
    "\n",
    "High-quality thin films growth via pulsed laser deposition (PLD) requires precise control over plume dynamics, which are influenced by temporal and spatial variations in target surface morphology. We employed a Full-Frame Plume Dynamic Imaging (PDI) to investigate the effects of target surface evolution on plume dynamics and the subsequent impact on film quality and structure. Using $\\text{SrRuO}_3$ as a model system, we develop automated computer-vision pipelines to extract statistical metrics, such as maximum plume area and incident velocity, under varying conditions, including pre-ablation pulse counts and inadvertent target contamination. Repeated ablation improves plume dynamics stability, correlating with enhanced crystalline quality and reduced surface roughness, confirmed by X-ray Diffraction (XRD) and Atomic Force Microscopy (AFM). Conversely, spatial inhomogeneities, such as target surface contamination, induce instabilities in plume dynamics, resulting in poor crystalline quality, higher surface roughness, and disrupted growth dynamics. Through statistical analysis and heatmap visualization, we establish a direct link between plume stability and thin-film reproducibility. Our findings underscore the necessity of rigorous target surface conditioning and real-time plume diagnostics to enable deterministic control over crystallography and domain architectures. We posit those stochastic variations in plume dynamics-typically unquantified-constitute a dominant mechanism underlying reproducibility crisis and impediments to extending the design space for bespoke heterostructures and heterointerfaces. Furthermore, the integration of advanced diagnostic tools, such as PDI, offers a robust pathway for achieving precise control in thin-film synthesis, providing a pathway for control of non-equilibrium synthesis processes pervasive in semiconductor manufacturing."
   ]
  },
  {
   "cell_type": "markdown",
   "metadata": {},
   "source": [
    "## Introduction\n",
    "\n",
    "Epitaxial complex oxide thin films have become indispensable in next-generation electronics, catalysis, and energy storage, owing to their tunable electronic, magnetic, and ionic transport properties, which can be precisely engineered through strain, stoichiometry, and defects {cite:p}`Kelley2020-di,Bain2017-zx,Agar2015-ta,Xu2020-ih,Haeni2004-pc,Pesquera2020-xj,Eason2007-hm,Damodaran2017-xm,Agar2014-dg,Yichen_Guo_Peter_Meisenheimer_Shuyu_Qin_Xinqiao_Zhang_Julian_Goddy_Ramamoorthy_Ramesh_Lane_W_Martin_and_Joshua_C_Agar_undated-gb,Saremi2019-kb,Saremi2018-np`.   \n",
    "Most of these materials require far-from-equilibrium synthesis methods to achieve complex stoichiometry, finely tuned heterointerfaces, superlattices, and compositional gradients—all of which are essential for enabling emergent functionalities. \n",
    "While many non-equilibrium thin-film synthesis techniques exist, pulsed laser deposition (PLD) is distinguished by its ability to reproducibly deposit complex stoichiometry with relative simplicity in a laboratory setting—some systems even extending this capability to the wafer scale {cite:p}`solmates`.\n",
    "PLD operates by directing a high-intensity pulsed laser onto a target material under low—typically oxidizing—ambient pressure. This process generates a highly energetic plasma plume ($5{,}000\\,\\text{--}\\,20{,}000~\\text{K}$)  that transfers ablated species onto a substrate. \n",
    "The inherently non-equilibrium nature of PLD enables fine-tuning of stoichiometry, crystallographic orientation, and surface morphology through extreme sensitivity to growth parameters, but this same sensitivity also poses significant challenges for high-reproducibility growth, as minor fluctuations in plume dynamics, ambient conditions, or target surface state can substantially impact film quality{cite:p}`Schou2009-zg,Liu2012-jq,Siebenhofer2021-km,Lee2016-au,Christen2008-sh,Maria1998-vd`.\n",
    "PLD is highly sensitive to key growth parameters—including laser fluence, repetition rate, ambient gas pressure, and substrate temperature—necessitating precise optimization to regulate plume energetics and adatom surface kinetics, thereby enabling the reproducible growth of high-crystallinity films with controlled defect densities that can be leveraged to engineer emergent functionalities{cite:p}`Fang2001-vf,Lu2013-bc,Zakharov1999-ul,Michely2004-ot,Ito2007-xi,Daryapurkar2013-fq,Meng2015-th,Deng2022-uy,Choi2001-vk,Koster2012-ds,Christen2008-sh`. \n",
    "In typical PLD processes, only average growth properties are recorded, with little attention given to statistical variances or outliers—such as fluctuations in laser spot profile, stability, and plume dynamics—which can critically influence thin-film quality, microstructural uniformity, and growth reproducibility{cite:p}`Ojeda-G-P2015-mu,Craciun2020-da,Shepelin2023-nd,Haider2022-hu`.  Instrument-specific constraints, combined with unreported or unaccounted-for exogenic factors, introduce uncertainty into growth processes, resulting structures, and overall reproducibility. \n",
    "As a result, nominally identical experiments—even when conducted by the same researcher in the same laboratory—can produce substantially divergent outcomes without any readily identifiable cause. \n",
    "Furthermore, this is not merely a problem for reproducibility, it also imposes upper bounds on the complexity of the systems which can be realized.\n",
    "\n",
    "The next paradigm shift in our ability to design bespoke heterostructures will likely arise from the integration of advanced *in situ* diagnostics with real-time control systems. \n",
    "Plume Dynamic Imaging (PDI) has emerged as a powerful technique for real-time monitoring of plume evolution and subtle variations in growth conditions, enabling data-driven optimization of synthesis protocol{cite:p}`Schneider2023-iy,Bulgakova2000-zo,Christen2008-sh,Ojeda-G-P2016-uw`.\n",
    "Compared to other in-situ characterization techniques, such as Reflection High-Energy Electron Diffraction (RHEED){cite:p}`Choi2001-vk,Gura2018-lm,Deng2022-uy,Rijnders2004-yz,Koster2012-ds,Yichen_Guo_Peter_Meisenheimer_Shuyu_Qin_Xinqiao_Zhang_Julian_Goddy_Ramamoorthy_Ramesh_Lane_W_Martin_and_Joshua_C_Agar_undated-gb`, which probes the structural state of the growing film, PDI directly measures mass transport and plume energetics, providing a powerful framework for elucidating synthesis-structure-property relationships. \n",
    "PDI has enabled investigations into phenomena such as plume rebound and flip-over effects, yielding critical insights into plume-substrate interactions{cite:p}`Ojeda-G-P2015-mu,Ojeda-G-P2017-gs`.\n",
    "Additionally, studies of plume evolution under varying oxygen partial pressures have demonstrated how oxygen regulates film stoichiometry by modulating the formation and dissociation kinetics of transition-metal oxides{cite:p}`Lee2016-au,Liu2012-jq`.\n",
    "However, previous PDI implementations faced a significant limitation: earlier cameras could capture only a few (< 3) frames per pulse {cite:p}`Amoruso2004-ma,Geohegan1992-qy,Amoruso1999-og,Schneider2023-iy,Ojeda-G-P2017-gs,Schou2007-tz`, albeit with precisely controlled delay times. \n",
    "As a result, reconstructing complete plume dynamics required stitching together data from multiple pulses under the assumption of minimal plume-to-plume variability—an approach that inherently limited the ability to observe transient, stochastic plume phenomena.\n",
    "In contrast, full-frame PDI (FF-PDI)-capturing more than 60 frames per laser pulse-enables detailed temporal resolution of plume evolution during ablation, while simultaneously revealing pulse-to-pulse variability that critically impacts growth reproducibility. This enhanced diagnostic capability is particularly valuable for the deposition of complex multi-element oxide heterostructures, such as $\\text{SrTiO}_3$/$\\text{LaAlO}_3$ interfaces, and compositionally-graded heterostructures where precise and discontinuous modulation of stoichiometry, substrate temperature, and ambient pressure is essential{cite:p}`Aruta1996-uz,Blank2000-kz,Malik2012-ub`.\n",
    "This paradigm shift redefines PLD from a static \"Set-It & Forget-It\" process, one amenable for dynamic real-time control. FF-PDI provides a pathway for integrating artificial intelligence (AI)—particularly real-time machine learning on edge computing hardware{cite:p}`Baldi2024-lu,Forelli2024-tg,Wei2024-zy,Islam2025-bv,Kaliyev2023-kh,St-John2021-ry,Badea2024-dt,Rankin2020-mg,Heintz2020-qy,Duarte2022-wi,Ahmad-Khan2023-zc,Mitra2017-gt,Khan2021-zx,Mandal2015-iw,Mitra2018-wx`—to enable intelligent control of synthesis dynamics.\n",
    "Recent studies have shown that machine learning algorithms can significantly enhance deposition precision by facilitating automated, real-time recognition of plume characteristics, deterministic feedback control, and dynamic adjustment of growth parameters. Collectively, these advances position PLD as a dynamic, adaptive synthesis platform-analogous to self-driving laboratories, but tailored for real-time control of non-equilibrium growth processes-substantially enhancing reproducibility and establishing a foundation for intelligent, AI-driven materials fabrication.67–70 \n",
    "To explore the novel capabilities afforded by FF-PDI, we have engineered a comprehensive, full-stack PDI platform including hardware designs and software. This system uniquely enables synchronized high-speed plume acquisition, meticulous logging of experimental parameters, and precise quantification of plume dynamics. At its core, our platform leverages the Shimadzu HyperVision HPX-2 high-speed camera, distinguished by its ability to record bursts of up to 128 frames at exceptional temporal resolutions approaching 10 million frames per second. \n",
    "SrRuO3 thin films were selected as a representative model system due to their widespread use as functional electrode layers in oxide electronics, where their ferromagnetic and conductive properties can be critical for enabling spintronic devices and high-performance heterostructures.67–73  SrRuO3 exhibits several advantageous properties, including temperature-dependent electrical conductivity,29,67, favorable lattice matching to a range of substrates (orthorhombic unit cell: a=5.56Å,b=5.530Å,c=7.845Å), and exceptional structural stability, making it highly suitable for integration into multilayer oxide architectures and ferroelectric devices. Furthermore, SrRuO3 displays notable magnetic and electronic phenomena, such as the anomalous Hall effect near 160 K,75 achievable without extrinsic doping in both bulk and epitaxial thin-film forms. Its high thermal stability (up to ~1200 K76) and robust chemical resilience. Finally, SrRuO3 is widely employed as a lattice-matched oxide electrode in ferroelectric devices, where its crystallographic and electronic properties critically influence heterostructure morphology, functional responses, and device performance through mechanisms such as strain transfer and interfacial electronic screening.\n",
    "Despite its numerous advantages, the reproducible synthesis of SrRuO3 thin films remains highly dependent on experimental expertise and empirical tuning—often accompanied by elements of speculation and a degree of mysticism. Although SrRuO3 is often cited for its relatively broad deposition condition window, synthesis outcomes exhibit substantial variability in literature.14,15,66 While system-level growth parameters-such as laser fluence and substrate temperature-are extensively reported, critical factors such as target defect evolution, target density, and local stoichiometric deviations are often overlooked, despite their substantial influence on ablation dynamics, plume evolution, and ultimately film quality. \n",
    "A common point of contention among PLD practitioners is whether \"to sand, or not to sand\" targets prior to growth. Target ablation progressively degrades the surface, modifying ablation dynamics, altering plume energetics, and ultimately impacting film microstructure and stoichiometry. During extended deposition, the initially polished target surface undergoes morphological degradation (e.g., increased roughness, crater formation) and chemical heterogeneity due to plume-induced selective redeposition, selective ablation processes, and laser-induced surface chemical reactions, resulting in localized off-stoichiometric regions.27 Sanding the target surface between deposition cycles resets the surface morphology by removing damaged layers, thereby reestablishing a uniform and stoichiometrically consistent ablation front. Nevertheless, this approach may introduce greater variations in surface conditions during deposition that potentially affects reproducibility. To mitigate initial variations resulting from mechanical resurfacing, pre-ablation-applying laser pulses to the target prior to film growth-is commonly used to stabilize the ablation front by eliminating transient surface contamination and establishing steady-state plume dynamics. Despite their widespread use, pre-ablation protocols are predominantly guided by empirical heuristics, lacking a rigorous, quantitative framework for assessing their influence on plume dynamics or deposition reproducibility. Consequently, precise characterization and control of target surface evolution-particularly the spatiotemporal inhomogeneities introduced during laser-target interaction-remain essential to achieving deterministic, high-fidelity thin-film growth.\n",
    "Plume stability is intrinsically linked to the spatial homogeneity of the target surface, which governs the stoichiometry, temporal coherence, and chemical-spatial distributions of the ablation plume. Surface degradation or compositional inhomogeneity can lead to transient deviations in the local ablation rate, resulting in non-stoichiometric transfer, erratic plume dynamics, and fluctuations in deposition flux. These perturbations propagate directly into the film microstructure, altering the crystallinity, interfacial coherence, and electronic transport properties. Remarkably, periodic modulations in plume behavior attributable to target inhomogeneity are often observable even without advanced diagnostics. They are regularly visible to the naked eye, allowing direct observation of significant changes in plume size, which serve as an indicator of the time-averaged emissivity of the plume. Nevertheless, the systematic, high-resolution spatiotemporal mapping of these phenomena remains largely unexplored-primarily due to the absence of diagnostic infrastructure capable of capturing these dynamics in operando.\n",
    "We investigate two perturbative conditions: (1) varying pre-ablation pulse counts to probe ablation history effects on plume dynamics and film crystallinity, and (2) introducing controlled surface contamination to simulate stoichiometric and defect inhomogeneity. Utilizing a full-frame PDI platform with high-speed imaging, we capture temporally resolved, single-pulse plume dynamics, eliminating the need for ensemble averaging. This enables quantitative extraction of plume velocity, emission area, and intensity, which we correlate with structural and electronic properties of SrRuO3 films grown on SrTiO3.78 Integration of plume metrics with machine learning provides a framework for real-time feedback and process control, advancing toward autonomous, closed-loop thin-film synthesis. This approach holds the potential to enable access to architected oxide materials previously inaccessible via conventional PLD workflows.\n"
   ]
  },
  {
   "cell_type": "markdown",
   "metadata": {},
   "source": [
    "## Results and Discussion\n",
    "\n",
    "Five $ \\text{SrRuO}_3/\\text{SrTiO}_3 $ thin films (denoted as growth G1-G5) were sequentially deposited using the same SrRuO$_3$ target without sanding or restoring the target surface between growth while keeping all other deposition conditions constant  ({numref}`figure1`a-e). This set of samples was used to evaluate the effects of progressive target surface degradation on film growth. In addition, a separate comparison was made between a film deposited using sample G5 with a film deposited using the same target after subsequent growth of other chemistries (denoted as contaminated growth C-G6, {numref}`figure1`a-f). We further explore how spatial variations in the target’s surface chemistry and morphology influence the resulting film properties with G5 and C-G6. All films were grown under identical and optimized deposition conditions, with the only variable being the condition of the target surface ({numref}`figure1`g). The substrate temperature was maintained at $ 700^\\circ \\text{C} $, and deposition was carried out at a background pressure of 100 mTorr in an oxygen atmosphere, using a laser fluence of $ 1.6 \\, \\text{mJ/cm}^2 $. These parameters align with reported values in prior studies. The laser spot employed in our experiments had a rectangular shape, measuring 0.93 mm in width and 2.46 mm in height. A computer-controlled motion scanner was used to evenly ablate the target surface. Additional experimental details are outlined in the section 6.5."
   ]
  },
  {
   "cell_type": "markdown",
   "metadata": {
    "vscode": {
     "languageId": "plaintext"
    }
   },
   "source": [
    ":::{figure-md} figure1\n",
    "<img src=\"./figures/1-Samples.png\" style=\"height:200px; width:auto;\">\n",
    "\n",
    "a-f Schematic image of targets used for growths.\n",
    ":::"
   ]
  },
  {
   "cell_type": "markdown",
   "metadata": {},
   "source": [
    "## References\n",
    "\n",
    "```{bibliography}\n",
    ":style: unsrt\n",
    "```"
   ]
  }
 ],
 "metadata": {
  "language_info": {
   "name": "python"
  }
 },
 "nbformat": 4,
 "nbformat_minor": 2
}
